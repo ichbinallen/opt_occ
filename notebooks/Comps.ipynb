{
 "cells": [
  {
   "cell_type": "code",
   "execution_count": 53,
   "id": "5555a0e6",
   "metadata": {},
   "outputs": [
    {
     "name": "stdout",
     "output_type": "stream",
     "text": [
      "The nb_black extension is already loaded. To reload it, use:\n",
      "  %reload_ext nb_black\n"
     ]
    },
    {
     "data": {
      "application/javascript": [
       "\n",
       "            setTimeout(function() {\n",
       "                var nbb_cell_id = 53;\n",
       "                var nbb_unformatted_code = \"import pandas as pd\\nimport numpy as np\\n\\nimport matplotlib.pyplot as plt\\nimport seaborn as sns\\nimport plotly.express as px\\n\\nimport statsmodels.api as sm\\nfrom sklearn.linear_model import LinearRegression\\nfrom sklearn.linear_model import LogisticRegression\\n\\n%matplotlib inline\\n%load_ext nb_black\\n\\nplt.rcParams[\\\"figure.figsize\\\"] = (14, 7)\";\n",
       "                var nbb_formatted_code = \"import pandas as pd\\nimport numpy as np\\n\\nimport matplotlib.pyplot as plt\\nimport seaborn as sns\\nimport plotly.express as px\\n\\nimport statsmodels.api as sm\\nfrom sklearn.linear_model import LinearRegression\\nfrom sklearn.linear_model import LogisticRegression\\n\\n%matplotlib inline\\n%load_ext nb_black\\n\\nplt.rcParams[\\\"figure.figsize\\\"] = (14, 7)\";\n",
       "                var nbb_cells = Jupyter.notebook.get_cells();\n",
       "                for (var i = 0; i < nbb_cells.length; ++i) {\n",
       "                    if (nbb_cells[i].input_prompt_number == nbb_cell_id) {\n",
       "                        if (nbb_cells[i].get_text() == nbb_unformatted_code) {\n",
       "                             nbb_cells[i].set_text(nbb_formatted_code);\n",
       "                        }\n",
       "                        break;\n",
       "                    }\n",
       "                }\n",
       "            }, 500);\n",
       "            "
      ],
      "text/plain": [
       "<IPython.core.display.Javascript object>"
      ]
     },
     "metadata": {},
     "output_type": "display_data"
    }
   ],
   "source": [
    "import pandas as pd\n",
    "import numpy as np\n",
    "\n",
    "import matplotlib.pyplot as plt\n",
    "import seaborn as sns\n",
    "import plotly.express as px\n",
    "\n",
    "import statsmodels.api as sm\n",
    "from sklearn.linear_model import LinearRegression\n",
    "from sklearn.linear_model import LogisticRegression\n",
    "\n",
    "%matplotlib inline\n",
    "%load_ext nb_black\n",
    "\n",
    "plt.rcParams[\"figure.figsize\"] = (14, 7)"
   ]
  },
  {
   "cell_type": "code",
   "execution_count": 54,
   "id": "5aedb36b",
   "metadata": {},
   "outputs": [
    {
     "data": {
      "application/javascript": [
       "\n",
       "            setTimeout(function() {\n",
       "                var nbb_cell_id = 54;\n",
       "                var nbb_unformatted_code = \"comps = pd.read_csv(\\\"../data/Comps.csv\\\")\\nseasonality = pd.read_csv(\\\"../data/Seasonality.csv\\\")\";\n",
       "                var nbb_formatted_code = \"comps = pd.read_csv(\\\"../data/Comps.csv\\\")\\nseasonality = pd.read_csv(\\\"../data/Seasonality.csv\\\")\";\n",
       "                var nbb_cells = Jupyter.notebook.get_cells();\n",
       "                for (var i = 0; i < nbb_cells.length; ++i) {\n",
       "                    if (nbb_cells[i].input_prompt_number == nbb_cell_id) {\n",
       "                        if (nbb_cells[i].get_text() == nbb_unformatted_code) {\n",
       "                             nbb_cells[i].set_text(nbb_formatted_code);\n",
       "                        }\n",
       "                        break;\n",
       "                    }\n",
       "                }\n",
       "            }, 500);\n",
       "            "
      ],
      "text/plain": [
       "<IPython.core.display.Javascript object>"
      ]
     },
     "metadata": {},
     "output_type": "display_data"
    }
   ],
   "source": [
    "comps = pd.read_csv(\"../data/Comps.csv\")\n",
    "seasonality = pd.read_csv(\"../data/Seasonality.csv\")"
   ]
  },
  {
   "cell_type": "code",
   "execution_count": 55,
   "id": "74168608",
   "metadata": {},
   "outputs": [
    {
     "data": {
      "text/html": [
       "<div>\n",
       "<style scoped>\n",
       "    .dataframe tbody tr th:only-of-type {\n",
       "        vertical-align: middle;\n",
       "    }\n",
       "\n",
       "    .dataframe tbody tr th {\n",
       "        vertical-align: top;\n",
       "    }\n",
       "\n",
       "    .dataframe thead th {\n",
       "        text-align: right;\n",
       "    }\n",
       "</style>\n",
       "<table border=\"1\" class=\"dataframe\">\n",
       "  <thead>\n",
       "    <tr style=\"text-align: right;\">\n",
       "      <th></th>\n",
       "      <th>url</th>\n",
       "      <th>beds</th>\n",
       "      <th>bath</th>\n",
       "      <th>rabbu Occupancy</th>\n",
       "      <th>rabbu ADR</th>\n",
       "      <th>manual Occupancy</th>\n",
       "      <th>manual ADR</th>\n",
       "      <th>Notes</th>\n",
       "      <th>Location</th>\n",
       "      <th>Stars</th>\n",
       "      <th>Review</th>\n",
       "      <th>Cleaning Fee</th>\n",
       "      <th>Host</th>\n",
       "    </tr>\n",
       "  </thead>\n",
       "  <tbody>\n",
       "    <tr>\n",
       "      <th>0</th>\n",
       "      <td>https://www.airbnb.com/rooms/46038476</td>\n",
       "      <td>2</td>\n",
       "      <td>2</td>\n",
       "      <td>0.53</td>\n",
       "      <td>143</td>\n",
       "      <td>0.903226</td>\n",
       "      <td>134.0</td>\n",
       "      <td>NaN</td>\n",
       "      <td>North Bend</td>\n",
       "      <td>4.98</td>\n",
       "      <td>41</td>\n",
       "      <td>80.0</td>\n",
       "      <td>Superhost</td>\n",
       "    </tr>\n",
       "    <tr>\n",
       "      <th>1</th>\n",
       "      <td>https://www.airbnb.com/rooms/54064539</td>\n",
       "      <td>2</td>\n",
       "      <td>2</td>\n",
       "      <td>0.83</td>\n",
       "      <td>251</td>\n",
       "      <td>0.645161</td>\n",
       "      <td>245.0</td>\n",
       "      <td>Too fancy, comp won’t compare</td>\n",
       "      <td>North Bend</td>\n",
       "      <td>4.99</td>\n",
       "      <td>75</td>\n",
       "      <td>95.0</td>\n",
       "      <td>Superhost</td>\n",
       "    </tr>\n",
       "    <tr>\n",
       "      <th>2</th>\n",
       "      <td>https://www.airbnb.com/rooms/52210633</td>\n",
       "      <td>2</td>\n",
       "      <td>1</td>\n",
       "      <td>0.70</td>\n",
       "      <td>189</td>\n",
       "      <td>0.645161</td>\n",
       "      <td>189.0</td>\n",
       "      <td>No Dynamic Pricing, looks like a house, not a ...</td>\n",
       "      <td>North Bend</td>\n",
       "      <td>4.96</td>\n",
       "      <td>45</td>\n",
       "      <td>95.0</td>\n",
       "      <td>Superhost</td>\n",
       "    </tr>\n",
       "    <tr>\n",
       "      <th>3</th>\n",
       "      <td>https://www.airbnb.com/rooms/721062423659714038</td>\n",
       "      <td>2</td>\n",
       "      <td>2</td>\n",
       "      <td>0.73</td>\n",
       "      <td>387</td>\n",
       "      <td>0.580645</td>\n",
       "      <td>350.0</td>\n",
       "      <td>Fancy, Cabin Style</td>\n",
       "      <td>North Bend</td>\n",
       "      <td>4.89</td>\n",
       "      <td>19</td>\n",
       "      <td>125.0</td>\n",
       "      <td>Superhost</td>\n",
       "    </tr>\n",
       "    <tr>\n",
       "      <th>4</th>\n",
       "      <td>https://www.airbnb.com/rooms/566008910384238034</td>\n",
       "      <td>2</td>\n",
       "      <td>1</td>\n",
       "      <td>0.67</td>\n",
       "      <td>283</td>\n",
       "      <td>0.451613</td>\n",
       "      <td>281.0</td>\n",
       "      <td>Bad Photos, On River</td>\n",
       "      <td>North Bend</td>\n",
       "      <td>4.89</td>\n",
       "      <td>64</td>\n",
       "      <td>80.0</td>\n",
       "      <td>Superhost</td>\n",
       "    </tr>\n",
       "  </tbody>\n",
       "</table>\n",
       "</div>"
      ],
      "text/plain": [
       "                                               url  beds  bath  \\\n",
       "0            https://www.airbnb.com/rooms/46038476     2     2   \n",
       "1            https://www.airbnb.com/rooms/54064539     2     2   \n",
       "2            https://www.airbnb.com/rooms/52210633     2     1   \n",
       "3  https://www.airbnb.com/rooms/721062423659714038     2     2   \n",
       "4  https://www.airbnb.com/rooms/566008910384238034     2     1   \n",
       "\n",
       "   rabbu Occupancy  rabbu ADR  manual Occupancy  manual ADR  \\\n",
       "0             0.53        143          0.903226       134.0   \n",
       "1             0.83        251          0.645161       245.0   \n",
       "2             0.70        189          0.645161       189.0   \n",
       "3             0.73        387          0.580645       350.0   \n",
       "4             0.67        283          0.451613       281.0   \n",
       "\n",
       "                                               Notes    Location  Stars  \\\n",
       "0                                                NaN  North Bend   4.98   \n",
       "1                      Too fancy, comp won’t compare  North Bend   4.99   \n",
       "2  No Dynamic Pricing, looks like a house, not a ...  North Bend   4.96   \n",
       "3                                 Fancy, Cabin Style  North Bend   4.89   \n",
       "4                               Bad Photos, On River  North Bend   4.89   \n",
       "\n",
       "   Review  Cleaning Fee       Host  \n",
       "0      41          80.0  Superhost  \n",
       "1      75          95.0  Superhost  \n",
       "2      45          95.0  Superhost  \n",
       "3      19         125.0  Superhost  \n",
       "4      64          80.0  Superhost  "
      ]
     },
     "execution_count": 55,
     "metadata": {},
     "output_type": "execute_result"
    },
    {
     "data": {
      "application/javascript": [
       "\n",
       "            setTimeout(function() {\n",
       "                var nbb_cell_id = 55;\n",
       "                var nbb_unformatted_code = \"comps.head()\";\n",
       "                var nbb_formatted_code = \"comps.head()\";\n",
       "                var nbb_cells = Jupyter.notebook.get_cells();\n",
       "                for (var i = 0; i < nbb_cells.length; ++i) {\n",
       "                    if (nbb_cells[i].input_prompt_number == nbb_cell_id) {\n",
       "                        if (nbb_cells[i].get_text() == nbb_unformatted_code) {\n",
       "                             nbb_cells[i].set_text(nbb_formatted_code);\n",
       "                        }\n",
       "                        break;\n",
       "                    }\n",
       "                }\n",
       "            }, 500);\n",
       "            "
      ],
      "text/plain": [
       "<IPython.core.display.Javascript object>"
      ]
     },
     "metadata": {},
     "output_type": "display_data"
    }
   ],
   "source": [
    "comps.head()"
   ]
  },
  {
   "cell_type": "code",
   "execution_count": 56,
   "id": "b6d54e7c",
   "metadata": {},
   "outputs": [
    {
     "data": {
      "image/png": "[encoded data removed]",
      "text/plain": [
       "<Figure size 1008x504 with 1 Axes>"
      ]
     },
     "metadata": {
      "needs_background": "light"
     },
     "output_type": "display_data"
    },
    {
     "data": {
      "application/javascript": [
       "\n",
       "            setTimeout(function() {\n",
       "                var nbb_cell_id = 56;\n",
       "                var nbb_unformatted_code = \"g = sns.barplot(\\n    data=comps.groupby([\\\"Host\\\"]).agg(num_hosts=(\\\"Stars\\\", len)).reset_index(),\\n    x=\\\"Host\\\",\\n    y=\\\"num_hosts\\\",\\n)\\n_ = g.set_title(\\\"Number of Hosts\\\", fontsize=18)\";\n",
       "                var nbb_formatted_code = \"g = sns.barplot(\\n    data=comps.groupby([\\\"Host\\\"]).agg(num_hosts=(\\\"Stars\\\", len)).reset_index(),\\n    x=\\\"Host\\\",\\n    y=\\\"num_hosts\\\",\\n)\\n_ = g.set_title(\\\"Number of Hosts\\\", fontsize=18)\";\n",
       "                var nbb_cells = Jupyter.notebook.get_cells();\n",
       "                for (var i = 0; i < nbb_cells.length; ++i) {\n",
       "                    if (nbb_cells[i].input_prompt_number == nbb_cell_id) {\n",
       "                        if (nbb_cells[i].get_text() == nbb_unformatted_code) {\n",
       "                             nbb_cells[i].set_text(nbb_formatted_code);\n",
       "                        }\n",
       "                        break;\n",
       "                    }\n",
       "                }\n",
       "            }, 500);\n",
       "            "
      ],
      "text/plain": [
       "<IPython.core.display.Javascript object>"
      ]
     },
     "metadata": {},
     "output_type": "display_data"
    }
   ],
   "source": [
    "g = sns.barplot(\n",
    "    data=comps.groupby([\"Host\"]).agg(num_hosts=(\"Stars\", len)).reset_index(),\n",
    "    x=\"Host\",\n",
    "    y=\"num_hosts\",\n",
    ")\n",
    "_ = g.set_title(\"Number of Hosts\", fontsize=18)"
   ]
  },
  {
   "cell_type": "code",
   "execution_count": 57,
   "id": "d6b56303",
   "metadata": {},
   "outputs": [
    {
     "data": {
      "application/javascript": [
       "\n",
       "            setTimeout(function() {\n",
       "                var nbb_cell_id = 57;\n",
       "                var nbb_unformatted_code = \"quants = np.quantile(comps.Stars[comps.Review > 10], q=[0.2, 0.4, 0.6, 0.8])\";\n",
       "                var nbb_formatted_code = \"quants = np.quantile(comps.Stars[comps.Review > 10], q=[0.2, 0.4, 0.6, 0.8])\";\n",
       "                var nbb_cells = Jupyter.notebook.get_cells();\n",
       "                for (var i = 0; i < nbb_cells.length; ++i) {\n",
       "                    if (nbb_cells[i].input_prompt_number == nbb_cell_id) {\n",
       "                        if (nbb_cells[i].get_text() == nbb_unformatted_code) {\n",
       "                             nbb_cells[i].set_text(nbb_formatted_code);\n",
       "                        }\n",
       "                        break;\n",
       "                    }\n",
       "                }\n",
       "            }, 500);\n",
       "            "
      ],
      "text/plain": [
       "<IPython.core.display.Javascript object>"
      ]
     },
     "metadata": {},
     "output_type": "display_data"
    }
   ],
   "source": [
    "quants = np.quantile(comps.Stars[comps.Review > 10], q=[0.2, 0.4, 0.6, 0.8])"
   ]
  },
  {
   "cell_type": "code",
   "execution_count": 58,
   "id": "3caa5b56",
   "metadata": {},
   "outputs": [
    {
     "data": {
      "text/plain": [
       "array([4.798, 4.888, 4.95 , 4.986])"
      ]
     },
     "execution_count": 58,
     "metadata": {},
     "output_type": "execute_result"
    },
    {
     "data": {
      "application/javascript": [
       "\n",
       "            setTimeout(function() {\n",
       "                var nbb_cell_id = 58;\n",
       "                var nbb_unformatted_code = \"quants\";\n",
       "                var nbb_formatted_code = \"quants\";\n",
       "                var nbb_cells = Jupyter.notebook.get_cells();\n",
       "                for (var i = 0; i < nbb_cells.length; ++i) {\n",
       "                    if (nbb_cells[i].input_prompt_number == nbb_cell_id) {\n",
       "                        if (nbb_cells[i].get_text() == nbb_unformatted_code) {\n",
       "                             nbb_cells[i].set_text(nbb_formatted_code);\n",
       "                        }\n",
       "                        break;\n",
       "                    }\n",
       "                }\n",
       "            }, 500);\n",
       "            "
      ],
      "text/plain": [
       "<IPython.core.display.Javascript object>"
      ]
     },
     "metadata": {},
     "output_type": "display_data"
    }
   ],
   "source": [
    "quants"
   ]
  },
  {
   "cell_type": "code",
   "execution_count": 59,
   "id": "6d800cf5",
   "metadata": {},
   "outputs": [
    {
     "data": {
      "image/png": "[encoded data removed]",
      "text/plain": [
       "<Figure size 1260x504 with 1 Axes>"
      ]
     },
     "metadata": {
      "needs_background": "light"
     },
     "output_type": "display_data"
    },
    {
     "data": {
      "application/javascript": [
       "\n",
       "            setTimeout(function() {\n",
       "                var nbb_cell_id = 59;\n",
       "                var nbb_unformatted_code = \"plt.rcParams[\\\"figure.figsize\\\"] = (17.5, 7)\\nstar_histogram = sns.histplot(comps.Stars, bins=18)\\nax = plt.gca()\\nfor quant in quants:\\n    ax.axvline(\\n        x=quant, ymin=0, ymax=16, color=\\\"red\\\", linestyle=\\\"dashed\\\"\\n    )  # Line on x = 2  # Bottom of the plot\\n# sns.vline(quants)\\nstar_histogram.set_title(\\\"Star Rating\\\", fontsize=24)\\nax.text((quants[0] + 4.3) / 2, 10, s=f\\\"1 Star < {quants[0]:.2f}\\\")\\nax.text((quants[1] + quants[0]) / 2 - 0.03, 11, s=f\\\"2 Stars < {quants[1]:.2f}\\\")\\nax.text((quants[2] + quants[1]) / 2 - 0.03, 12, s=f\\\"3 Stars < {quants[2]:.2f}\\\")\\nax.text((quants[3] + quants[2]) / 2 - 0.03, 13, s=f\\\"4 Stars < {quants[3]:.2f}\\\")\\n_ = ax.text(quants[3], 14, s=f\\\"5 Stars > {quants[3]:.2f}\\\")\";\n",
       "                var nbb_formatted_code = \"plt.rcParams[\\\"figure.figsize\\\"] = (17.5, 7)\\nstar_histogram = sns.histplot(comps.Stars, bins=18)\\nax = plt.gca()\\nfor quant in quants:\\n    ax.axvline(\\n        x=quant, ymin=0, ymax=16, color=\\\"red\\\", linestyle=\\\"dashed\\\"\\n    )  # Line on x = 2  # Bottom of the plot\\n# sns.vline(quants)\\nstar_histogram.set_title(\\\"Star Rating\\\", fontsize=24)\\nax.text((quants[0] + 4.3) / 2, 10, s=f\\\"1 Star < {quants[0]:.2f}\\\")\\nax.text((quants[1] + quants[0]) / 2 - 0.03, 11, s=f\\\"2 Stars < {quants[1]:.2f}\\\")\\nax.text((quants[2] + quants[1]) / 2 - 0.03, 12, s=f\\\"3 Stars < {quants[2]:.2f}\\\")\\nax.text((quants[3] + quants[2]) / 2 - 0.03, 13, s=f\\\"4 Stars < {quants[3]:.2f}\\\")\\n_ = ax.text(quants[3], 14, s=f\\\"5 Stars > {quants[3]:.2f}\\\")\";\n",
       "                var nbb_cells = Jupyter.notebook.get_cells();\n",
       "                for (var i = 0; i < nbb_cells.length; ++i) {\n",
       "                    if (nbb_cells[i].input_prompt_number == nbb_cell_id) {\n",
       "                        if (nbb_cells[i].get_text() == nbb_unformatted_code) {\n",
       "                             nbb_cells[i].set_text(nbb_formatted_code);\n",
       "                        }\n",
       "                        break;\n",
       "                    }\n",
       "                }\n",
       "            }, 500);\n",
       "            "
      ],
      "text/plain": [
       "<IPython.core.display.Javascript object>"
      ]
     },
     "metadata": {},
     "output_type": "display_data"
    }
   ],
   "source": [
    "plt.rcParams[\"figure.figsize\"] = (17.5, 7)\n",
    "star_histogram = sns.histplot(comps.Stars, bins=18)\n",
    "ax = plt.gca()\n",
    "for quant in quants:\n",
    "    ax.axvline(\n",
    "        x=quant, ymin=0, ymax=16, color=\"red\", linestyle=\"dashed\"\n",
    "    )  # Line on x = 2  # Bottom of the plot\n",
    "# sns.vline(quants)\n",
    "star_histogram.set_title(\"Star Rating\", fontsize=24)\n",
    "ax.text((quants[0] + 4.3) / 2, 10, s=f\"1 Star < {quants[0]:.2f}\")\n",
    "ax.text((quants[1] + quants[0]) / 2 - 0.03, 11, s=f\"2 Stars < {quants[1]:.2f}\")\n",
    "ax.text((quants[2] + quants[1]) / 2 - 0.03, 12, s=f\"3 Stars < {quants[2]:.2f}\")\n",
    "ax.text((quants[3] + quants[2]) / 2 - 0.03, 13, s=f\"4 Stars < {quants[3]:.2f}\")\n",
    "_ = ax.text(quants[3], 14, s=f\"5 Stars > {quants[3]:.2f}\")"
   ]
  },
  {
   "cell_type": "code",
   "execution_count": 60,
   "id": "4f72762b",
   "metadata": {},
   "outputs": [
    {
     "data": {
      "application/vnd.plotly.v1+json": {
       "config": {
        "plotlyServerURL": "https://plot.ly"
       },
       "data": [
        {
         "customdata": [
          [
           null,
           "https://www.airbnb.com/rooms/46038476"
          ],
          [
           "Too fancy, comp won’t compare",
           "https://www.airbnb.com/rooms/54064539"
          ],
          [
           "No Dynamic Pricing, looks like a house, not a cabin",
           "https://www.airbnb.com/rooms/52210633"
          ],
          [
           "Fancy, Cabin Style",
           "https://www.airbnb.com/rooms/721062423659714038"
          ],
          [
           "Bad Photos, On River",
           "https://www.airbnb.com/rooms/566008910384238034"
          ],
          [
           "Quaint Cabind Style, Near Rattlesnake Ledge",
           "https://www.airbnb.com/rooms/51785328"
          ],
          [
           "Owner Occupied, Poor Photos, Basement Apartment, Language Barrier",
           "https://www.airbnb.com/rooms/23960139"
          ],
          [
           "New Listing, Underpriced, Bad Photos",
           "https://www.airbnb.com/rooms/732625739862507774"
          ],
          [
           "Newer Listing",
           "https://www.airbnb.com/rooms/48258178"
          ],
          [
           "In Town, updated",
           "https://www.airbnb.com/rooms/719625260995322512"
          ],
          [
           "Superhost, relatively new",
           "https://www.airbnb.com/rooms/23021120"
          ],
          [
           "Superhost not vacasa or corporate",
           "https://www.airbnb.com/rooms/51149790"
          ],
          [
           "Superhost not vacasa or corporate",
           "https://www.airbnb.com/rooms/26032476"
          ],
          [
           "Superhost not vacasa or corporate",
           "https://www.airbnb.com/rooms/630394210952855297"
          ],
          [
           "Superhost",
           "https://www.airbnb.com/rooms/36699088"
          ],
          [
           "Superhost",
           "https://www.airbnb.com/rooms/48943693"
          ],
          [
           "Ugly Old",
           "https://www.airbnb.com/rooms/53811926"
          ],
          [
           "Looks Nice",
           "https://www.airbnb.com/rooms/49487409"
          ],
          [
           "Nice, Superhost",
           "https://www.airbnb.com/rooms/36114880"
          ],
          [
           "Superhost",
           "https://www.airbnb.com/rooms/23021070"
          ],
          [
           "Superhost, good photos",
           "https://www.airbnb.com/rooms/46619467"
          ],
          [
           "Expensive Furniture",
           "https://www.airbnb.com/rooms/557125827091662488"
          ],
          [
           "Superhost, good furniture",
           "https://www.airbnb.com/rooms/49016675"
          ],
          [
           "Superhost, condo community",
           "https://www.airbnb.com/rooms/23021100"
          ],
          [
           "Superhost, by the beach",
           "https://www.airbnb.com/rooms/23352493"
          ],
          [
           "Superhost",
           "https://www.airbnb.com/rooms/52735414"
          ],
          [
           "Superhost, Nice Photos",
           "https://www.airbnb.com/rooms/666970338596390385"
          ],
          [
           "On Stilts, Experience",
           "https://www.airbnb.com/rooms/50858816"
          ],
          [
           "Fancy, Pro Photos",
           "https://www.airbnb.com/rooms/689441742434586212"
          ]
         ],
         "hovertemplate": "Host=Superhost<br>manual ADR=%{x}<br>manual Occupancy=%{y}<br>Notes=%{customdata[0]}<br>url=%{customdata[1]}<extra></extra>",
         "legendgroup": "Superhost",
         "marker": {
          "color": "#636efa",
          "symbol": "circle"
         },
         "mode": "markers",
         "name": "Superhost",
         "orientation": "v",
         "showlegend": true,
         "type": "scatter",
         "x": [
          134,
          245,
          189,
          350,
          281,
          250,
          180,
          145,
          125,
          160,
          360,
          235,
          421,
          335,
          250,
          262,
          148,
          135,
          135,
          287,
          229,
          168,
          157,
          251,
          240,
          141,
          256,
          375,
          241
         ],
         "xaxis": "x",
         "y": [
          0.903225806451613,
          0.645161290322581,
          0.645161290322581,
          0.580645161290323,
          0.451612903225806,
          1,
          0.483870967741936,
          0.709677419354839,
          0.612903225806452,
          0.451612903225806,
          0.645161290322581,
          0.838709677419355,
          0.225806451612903,
          0.387096774193548,
          0.161290322580645,
          0.483870967741936,
          0.258064516129032,
          0.67741935483871,
          0.645161290322581,
          0.483870967741936,
          0.225806451612903,
          0.612903225806452,
          0.645161290322581,
          0.645161290322581,
          0.903225806451613,
          0.612903225806452,
          0.47,
          0.2,
          0.290322580645161
         ],
         "yaxis": "y"
        },
        {
         "customdata": [
          [
           "Overpriced",
           "https://www.airbnb.com/rooms/45926314"
          ],
          [
           "Ugly, No Dynamic Pricing",
           "https://www.airbnb.com/rooms/19908956"
          ],
          [
           "Lakefront, bad photos, Overpriced",
           "https://www.airbnb.com/rooms/714819816371099049"
          ],
          [
           "Owner Occupied",
           "https://www.airbnb.com/rooms/768978483572927801"
          ],
          [
           "On River",
           "https://www.airbnb.com/rooms/47389228"
          ],
          [
           "Overpriced",
           "https://www.airbnb.com/rooms/27342797"
          ],
          [
           "Not Superhost",
           "https://www.airbnb.com/rooms/33964064"
          ],
          [
           "new listing",
           "https://www.airbnb.com/rooms/698544908100904679"
          ],
          [
           "New Listing",
           "https://www.airbnb.com/rooms/878864519405589544"
          ],
          [
           "Nonsuperhost",
           "https://www.airbnb.com/rooms/29740451"
          ]
         ],
         "hovertemplate": "Host=Regular<br>manual ADR=%{x}<br>manual Occupancy=%{y}<br>Notes=%{customdata[0]}<br>url=%{customdata[1]}<extra></extra>",
         "legendgroup": "Regular",
         "marker": {
          "color": "#EF553B",
          "symbol": "circle"
         },
         "mode": "markers",
         "name": "Regular",
         "orientation": "v",
         "showlegend": true,
         "type": "scatter",
         "x": [
          375,
          145,
          470,
          270,
          200,
          257,
          315,
          205,
          168,
          254
         ],
         "xaxis": "x",
         "y": [
          0.32258064516129,
          0.516129032258065,
          0,
          0.225806451612903,
          0.451612903225806,
          0.193548387096774,
          0.774193548387097,
          0.387096774193548,
          0.806451612903226,
          0.483870967741936
         ],
         "yaxis": "y"
        },
        {
         "customdata": [
          [
           "Evolve Management yields bad reviews",
           "https://www.airbnb.com/rooms/20889506"
          ],
          [
           "Vacasa, bad reviews and cleaning",
           "https://www.airbnb.com/rooms/30071398"
          ],
          [
           "Vacasa, bad reviews and cleaning",
           "https://www.airbnb.com/rooms/26051988"
          ],
          [
           "Vacasa, very nice looking",
           "https://www.airbnb.com/rooms/847850412831339117"
          ],
          [
           "Vacasa",
           "https://www.airbnb.com/rooms/572969241718961944"
          ],
          [
           "Off Calendar",
           "https://www.airbnb.com/rooms/812259821220935977"
          ],
          [
           "Corporation",
           "https://www.airbnb.com/rooms/46358968"
          ],
          [
           "Corporation",
           "https://www.airbnb.com/rooms/46358968"
          ],
          [
           "Corporation",
           "https://www.airbnb.com/rooms/39804129"
          ],
          [
           "Way too nice to count as a comp",
           "https://www.airbnb.com/rooms/772511804409507635?"
          ],
          [
           "Too nice to comp",
           "https://www.airbnb.com/rooms/46466747"
          ],
          [
           "Evolve Management yields bad reviews",
           "https://www.airbnb.com/rooms/47329399"
          ]
         ],
         "hovertemplate": "Host=Corporate<br>manual ADR=%{x}<br>manual Occupancy=%{y}<br>Notes=%{customdata[0]}<br>url=%{customdata[1]}<extra></extra>",
         "legendgroup": "Corporate",
         "marker": {
          "color": "#00cc96",
          "symbol": "circle"
         },
         "mode": "markers",
         "name": "Corporate",
         "orientation": "v",
         "showlegend": true,
         "type": "scatter",
         "x": [
          255,
          171,
          186,
          210,
          190,
          null,
          276,
          267,
          333,
          560,
          360,
          173
         ],
         "xaxis": "x",
         "y": [
          0.806451612903226,
          0.258064516129032,
          0.870967741935484,
          0.774193548387097,
          0.806451612903226,
          null,
          0.580645161290323,
          0.516129032258065,
          0.741935483870968,
          0.67741935483871,
          0.354838709677419,
          0.612903225806452
         ],
         "yaxis": "y"
        }
       ],
       "layout": {
        "legend": {
         "title": {
          "text": "Host"
         },
         "tracegroupgap": 0
        },
        "margin": {
         "t": 60
        },
        "template": {
         "data": {
          "bar": [
           {
            "error_x": {
             "color": "#2a3f5f"
            },
            "error_y": {
             "color": "#2a3f5f"
            },
            "marker": {
             "line": {
              "color": "#E5ECF6",
              "width": 0.5
             },
             "pattern": {
              "fillmode": "overlay",
              "size": 10,
              "solidity": 0.2
             }
            },
            "type": "bar"
           }
          ],
          "barpolar": [
           {
            "marker": {
             "line": {
              "color": "#E5ECF6",
              "width": 0.5
             },
             "pattern": {
              "fillmode": "overlay",
              "size": 10,
              "solidity": 0.2
             }
            },
            "type": "barpolar"
           }
          ],
          "carpet": [
           {
            "aaxis": {
             "endlinecolor": "#2a3f5f",
             "gridcolor": "white",
             "linecolor": "white",
             "minorgridcolor": "white",
             "startlinecolor": "#2a3f5f"
            },
            "baxis": {
             "endlinecolor": "#2a3f5f",
             "gridcolor": "white",
             "linecolor": "white",
             "minorgridcolor": "white",
             "startlinecolor": "#2a3f5f"
            },
            "type": "carpet"
           }
          ],
          "choropleth": [
           {
            "colorbar": {
             "outlinewidth": 0,
             "ticks": ""
            },
            "type": "choropleth"
           }
          ],
          "contour": [
           {
            "colorbar": {
             "outlinewidth": 0,
             "ticks": ""
            },
            "colorscale": [
             [
              0,
              "#0d0887"
             ],
             [
              0.1111111111111111,
              "#46039f"
             ],
             [
              0.2222222222222222,
              "#7201a8"
             ],
             [
              0.3333333333333333,
              "#9c179e"
             ],
             [
              0.4444444444444444,
              "#bd3786"
             ],
             [
              0.5555555555555556,
              "#d8576b"
             ],
             [
              0.6666666666666666,
              "#ed7953"
             ],
             [
              0.7777777777777778,
              "#fb9f3a"
             ],
             [
              0.8888888888888888,
              "#fdca26"
             ],
             [
              1,
              "#f0f921"
             ]
            ],
            "type": "contour"
           }
          ],
          "contourcarpet": [
           {
            "colorbar": {
             "outlinewidth": 0,
             "ticks": ""
            },
            "type": "contourcarpet"
           }
          ],
          "heatmap": [
           {
            "colorbar": {
             "outlinewidth": 0,
             "ticks": ""
            },
            "colorscale": [
             [
              0,
              "#0d0887"
             ],
             [
              0.1111111111111111,
              "#46039f"
             ],
             [
              0.2222222222222222,
              "#7201a8"
             ],
             [
              0.3333333333333333,
              "#9c179e"
             ],
             [
              0.4444444444444444,
              "#bd3786"
             ],
             [
              0.5555555555555556,
              "#d8576b"
             ],
             [
              0.6666666666666666,
              "#ed7953"
             ],
             [
              0.7777777777777778,
              "#fb9f3a"
             ],
             [
              0.8888888888888888,
              "#fdca26"
             ],
             [
              1,
              "#f0f921"
             ]
            ],
            "type": "heatmap"
           }
          ],
          "heatmapgl": [
           {
            "colorbar": {
             "outlinewidth": 0,
             "ticks": ""
            },
            "colorscale": [
             [
              0,
              "#0d0887"
             ],
             [
              0.1111111111111111,
              "#46039f"
             ],
             [
              0.2222222222222222,
              "#7201a8"
             ],
             [
              0.3333333333333333,
              "#9c179e"
             ],
             [
              0.4444444444444444,
              "#bd3786"
             ],
             [
              0.5555555555555556,
              "#d8576b"
             ],
             [
              0.6666666666666666,
              "#ed7953"
             ],
             [
              0.7777777777777778,
              "#fb9f3a"
             ],
             [
              0.8888888888888888,
              "#fdca26"
             ],
             [
              1,
              "#f0f921"
             ]
            ],
            "type": "heatmapgl"
           }
          ],
          "histogram": [
           {
            "marker": {
             "pattern": {
              "fillmode": "overlay",
              "size": 10,
              "solidity": 0.2
             }
            },
            "type": "histogram"
           }
          ],
          "histogram2d": [
           {
            "colorbar": {
             "outlinewidth": 0,
             "ticks": ""
            },
            "colorscale": [
             [
              0,
              "#0d0887"
             ],
             [
              0.1111111111111111,
              "#46039f"
             ],
             [
              0.2222222222222222,
              "#7201a8"
             ],
             [
              0.3333333333333333,
              "#9c179e"
             ],
             [
              0.4444444444444444,
              "#bd3786"
             ],
             [
              0.5555555555555556,
              "#d8576b"
             ],
             [
              0.6666666666666666,
              "#ed7953"
             ],
             [
              0.7777777777777778,
              "#fb9f3a"
             ],
             [
              0.8888888888888888,
              "#fdca26"
             ],
             [
              1,
              "#f0f921"
             ]
            ],
            "type": "histogram2d"
           }
          ],
          "histogram2dcontour": [
           {
            "colorbar": {
             "outlinewidth": 0,
             "ticks": ""
            },
            "colorscale": [
             [
              0,
              "#0d0887"
             ],
             [
              0.1111111111111111,
              "#46039f"
             ],
             [
              0.2222222222222222,
              "#7201a8"
             ],
             [
              0.3333333333333333,
              "#9c179e"
             ],
             [
              0.4444444444444444,
              "#bd3786"
             ],
             [
              0.5555555555555556,
              "#d8576b"
             ],
             [
              0.6666666666666666,
              "#ed7953"
             ],
             [
              0.7777777777777778,
              "#fb9f3a"
             ],
             [
              0.8888888888888888,
              "#fdca26"
             ],
             [
              1,
              "#f0f921"
             ]
            ],
            "type": "histogram2dcontour"
           }
          ],
          "mesh3d": [
           {
            "colorbar": {
             "outlinewidth": 0,
             "ticks": ""
            },
            "type": "mesh3d"
           }
          ],
          "parcoords": [
           {
            "line": {
             "colorbar": {
              "outlinewidth": 0,
              "ticks": ""
             }
            },
            "type": "parcoords"
           }
          ],
          "pie": [
           {
            "automargin": true,
            "type": "pie"
           }
          ],
          "scatter": [
           {
            "fillpattern": {
             "fillmode": "overlay",
             "size": 10,
             "solidity": 0.2
            },
            "type": "scatter"
           }
          ],
          "scatter3d": [
           {
            "line": {
             "colorbar": {
              "outlinewidth": 0,
              "ticks": ""
             }
            },
            "marker": {
             "colorbar": {
              "outlinewidth": 0,
              "ticks": ""
             }
            },
            "type": "scatter3d"
           }
          ],
          "scattercarpet": [
           {
            "marker": {
             "colorbar": {
              "outlinewidth": 0,
              "ticks": ""
             }
            },
            "type": "scattercarpet"
           }
          ],
          "scattergeo": [
           {
            "marker": {
             "colorbar": {
              "outlinewidth": 0,
              "ticks": ""
             }
            },
            "type": "scattergeo"
           }
          ],
          "scattergl": [
           {
            "marker": {
             "colorbar": {
              "outlinewidth": 0,
              "ticks": ""
             }
            },
            "type": "scattergl"
           }
          ],
          "scattermapbox": [
           {
            "marker": {
             "colorbar": {
              "outlinewidth": 0,
              "ticks": ""
             }
            },
            "type": "scattermapbox"
           }
          ],
          "scatterpolar": [
           {
            "marker": {
             "colorbar": {
              "outlinewidth": 0,
              "ticks": ""
             }
            },
            "type": "scatterpolar"
           }
          ],
          "scatterpolargl": [
           {
            "marker": {
             "colorbar": {
              "outlinewidth": 0,
              "ticks": ""
             }
            },
            "type": "scatterpolargl"
           }
          ],
          "scatterternary": [
           {
            "marker": {
             "colorbar": {
              "outlinewidth": 0,
              "ticks": ""
             }
            },
            "type": "scatterternary"
           }
          ],
          "surface": [
           {
            "colorbar": {
             "outlinewidth": 0,
             "ticks": ""
            },
            "colorscale": [
             [
              0,
              "#0d0887"
             ],
             [
              0.1111111111111111,
              "#46039f"
             ],
             [
              0.2222222222222222,
              "#7201a8"
             ],
             [
              0.3333333333333333,
              "#9c179e"
             ],
             [
              0.4444444444444444,
              "#bd3786"
             ],
             [
              0.5555555555555556,
              "#d8576b"
             ],
             [
              0.6666666666666666,
              "#ed7953"
             ],
             [
              0.7777777777777778,
              "#fb9f3a"
             ],
             [
              0.8888888888888888,
              "#fdca26"
             ],
             [
              1,
              "#f0f921"
             ]
            ],
            "type": "surface"
           }
          ],
          "table": [
           {
            "cells": {
             "fill": {
              "color": "#EBF0F8"
             },
             "line": {
              "color": "white"
             }
            },
            "header": {
             "fill": {
              "color": "#C8D4E3"
             },
             "line": {
              "color": "white"
             }
            },
            "type": "table"
           }
          ]
         },
         "layout": {
          "annotationdefaults": {
           "arrowcolor": "#2a3f5f",
           "arrowhead": 0,
           "arrowwidth": 1
          },
          "autotypenumbers": "strict",
          "coloraxis": {
           "colorbar": {
            "outlinewidth": 0,
            "ticks": ""
           }
          },
          "colorscale": {
           "diverging": [
            [
             0,
             "#8e0152"
            ],
            [
             0.1,
             "#c51b7d"
            ],
            [
             0.2,
             "#de77ae"
            ],
            [
             0.3,
             "#f1b6da"
            ],
            [
             0.4,
             "#fde0ef"
            ],
            [
             0.5,
             "#f7f7f7"
            ],
            [
             0.6,
             "#e6f5d0"
            ],
            [
             0.7,
             "#b8e186"
            ],
            [
             0.8,
             "#7fbc41"
            ],
            [
             0.9,
             "#4d9221"
            ],
            [
             1,
             "#276419"
            ]
           ],
           "sequential": [
            [
             0,
             "#0d0887"
            ],
            [
             0.1111111111111111,
             "#46039f"
            ],
            [
             0.2222222222222222,
             "#7201a8"
            ],
            [
             0.3333333333333333,
             "#9c179e"
            ],
            [
             0.4444444444444444,
             "#bd3786"
            ],
            [
             0.5555555555555556,
             "#d8576b"
            ],
            [
             0.6666666666666666,
             "#ed7953"
            ],
            [
             0.7777777777777778,
             "#fb9f3a"
            ],
            [
             0.8888888888888888,
             "#fdca26"
            ],
            [
             1,
             "#f0f921"
            ]
           ],
           "sequentialminus": [
            [
             0,
             "#0d0887"
            ],
            [
             0.1111111111111111,
             "#46039f"
            ],
            [
             0.2222222222222222,
             "#7201a8"
            ],
            [
             0.3333333333333333,
             "#9c179e"
            ],
            [
             0.4444444444444444,
             "#bd3786"
            ],
            [
             0.5555555555555556,
             "#d8576b"
            ],
            [
             0.6666666666666666,
             "#ed7953"
            ],
            [
             0.7777777777777778,
             "#fb9f3a"
            ],
            [
             0.8888888888888888,
             "#fdca26"
            ],
            [
             1,
             "#f0f921"
            ]
           ]
          },
          "colorway": [
           "#636efa",
           "#EF553B",
           "#00cc96",
           "#ab63fa",
           "#FFA15A",
           "#19d3f3",
           "#FF6692",
           "#B6E880",
           "#FF97FF",
           "#FECB52"
          ],
          "font": {
           "color": "#2a3f5f"
          },
          "geo": {
           "bgcolor": "white",
           "lakecolor": "white",
           "landcolor": "#E5ECF6",
           "showlakes": true,
           "showland": true,
           "subunitcolor": "white"
          },
          "hoverlabel": {
           "align": "left"
          },
          "hovermode": "closest",
          "mapbox": {
           "style": "light"
          },
          "paper_bgcolor": "white",
          "plot_bgcolor": "#E5ECF6",
          "polar": {
           "angularaxis": {
            "gridcolor": "white",
            "linecolor": "white",
            "ticks": ""
           },
           "bgcolor": "#E5ECF6",
           "radialaxis": {
            "gridcolor": "white",
            "linecolor": "white",
            "ticks": ""
           }
          },
          "scene": {
           "xaxis": {
            "backgroundcolor": "#E5ECF6",
            "gridcolor": "white",
            "gridwidth": 2,
            "linecolor": "white",
            "showbackground": true,
            "ticks": "",
            "zerolinecolor": "white"
           },
           "yaxis": {
            "backgroundcolor": "#E5ECF6",
            "gridcolor": "white",
            "gridwidth": 2,
            "linecolor": "white",
            "showbackground": true,
            "ticks": "",
            "zerolinecolor": "white"
           },
           "zaxis": {
            "backgroundcolor": "#E5ECF6",
            "gridcolor": "white",
            "gridwidth": 2,
            "linecolor": "white",
            "showbackground": true,
            "ticks": "",
            "zerolinecolor": "white"
           }
          },
          "shapedefaults": {
           "line": {
            "color": "#2a3f5f"
           }
          },
          "ternary": {
           "aaxis": {
            "gridcolor": "white",
            "linecolor": "white",
            "ticks": ""
           },
           "baxis": {
            "gridcolor": "white",
            "linecolor": "white",
            "ticks": ""
           },
           "bgcolor": "#E5ECF6",
           "caxis": {
            "gridcolor": "white",
            "linecolor": "white",
            "ticks": ""
           }
          },
          "title": {
           "x": 0.05
          },
          "xaxis": {
           "automargin": true,
           "gridcolor": "white",
           "linecolor": "white",
           "ticks": "",
           "title": {
            "standoff": 15
           },
           "zerolinecolor": "white",
           "zerolinewidth": 2
          },
          "yaxis": {
           "automargin": true,
           "gridcolor": "white",
           "linecolor": "white",
           "ticks": "",
           "title": {
            "standoff": 15
           },
           "zerolinecolor": "white",
           "zerolinewidth": 2
          }
         }
        },
        "xaxis": {
         "anchor": "y",
         "domain": [
          0,
          1
         ],
         "title": {
          "text": "manual ADR"
         }
        },
        "yaxis": {
         "anchor": "x",
         "domain": [
          0,
          1
         ],
         "title": {
          "text": "manual Occupancy"
         }
        }
       }
      },
      "text/html": [
       "<div>                            <div id=\"817f7d91-f1f3-4658-a106-afcdf04d255d\" class=\"plotly-graph-div\" style=\"height:525px; width:100%;\"></div>            <script type=\"text/javascript\">                require([\"plotly\"], function(Plotly) {                    window.PLOTLYENV=window.PLOTLYENV || {};                                    if (document.getElementById(\"817f7d91-f1f3-4658-a106-afcdf04d255d\")) {                    Plotly.newPlot(                        \"817f7d91-f1f3-4658-a106-afcdf04d255d\",                        [{\"customdata\":[[null,\"https://www.airbnb.com/rooms/46038476\"],[\"Too fancy, comp won\\u2019t compare\",\"https://www.airbnb.com/rooms/54064539\"],[\"No Dynamic Pricing, looks like a house, not a cabin\",\"https://www.airbnb.com/rooms/52210633\"],[\"Fancy, Cabin Style\",\"https://www.airbnb.com/rooms/721062423659714038\"],[\"Bad Photos, On River\",\"https://www.airbnb.com/rooms/566008910384238034\"],[\"Quaint Cabind Style, Near Rattlesnake Ledge\",\"https://www.airbnb.com/rooms/51785328\"],[\"Owner Occupied, Poor Photos, Basement Apartment, Language Barrier\",\"https://www.airbnb.com/rooms/23960139\"],[\"New Listing, Underpriced, Bad Photos\",\"https://www.airbnb.com/rooms/732625739862507774\"],[\"Newer Listing\",\"https://www.airbnb.com/rooms/48258178\"],[\"In Town, updated\",\"https://www.airbnb.com/rooms/719625260995322512\"],[\"Superhost, relatively new\",\"https://www.airbnb.com/rooms/23021120\"],[\"Superhost not vacasa or corporate\",\"https://www.airbnb.com/rooms/51149790\"],[\"Superhost not vacasa or corporate\",\"https://www.airbnb.com/rooms/26032476\"],[\"Superhost not vacasa or corporate\",\"https://www.airbnb.com/rooms/630394210952855297\"],[\"Superhost\",\"https://www.airbnb.com/rooms/36699088\"],[\"Superhost\",\"https://www.airbnb.com/rooms/48943693\"],[\"Ugly Old\",\"https://www.airbnb.com/rooms/53811926\"],[\"Looks Nice\",\"https://www.airbnb.com/rooms/49487409\"],[\"Nice, Superhost\",\"https://www.airbnb.com/rooms/36114880\"],[\"Superhost\",\"https://www.airbnb.com/rooms/23021070\"],[\"Superhost, good photos\",\"https://www.airbnb.com/rooms/46619467\"],[\"Expensive Furniture\",\"https://www.airbnb.com/rooms/557125827091662488\"],[\"Superhost, good furniture\",\"https://www.airbnb.com/rooms/49016675\"],[\"Superhost, condo community\",\"https://www.airbnb.com/rooms/23021100\"],[\"Superhost, by the beach\",\"https://www.airbnb.com/rooms/23352493\"],[\"Superhost\",\"https://www.airbnb.com/rooms/52735414\"],[\"Superhost, Nice Photos\",\"https://www.airbnb.com/rooms/666970338596390385\"],[\"On Stilts, Experience\",\"https://www.airbnb.com/rooms/50858816\"],[\"Fancy, Pro Photos\",\"https://www.airbnb.com/rooms/689441742434586212\"]],\"hovertemplate\":\"Host=Superhost<br>manual ADR=%{x}<br>manual Occupancy=%{y}<br>Notes=%{customdata[0]}<br>url=%{customdata[1]}<extra></extra>\",\"legendgroup\":\"Superhost\",\"marker\":{\"color\":\"#636efa\",\"symbol\":\"circle\"},\"mode\":\"markers\",\"name\":\"Superhost\",\"orientation\":\"v\",\"showlegend\":true,\"x\":[134.0,245.0,189.0,350.0,281.0,250.0,180.0,145.0,125.0,160.0,360.0,235.0,421.0,335.0,250.0,262.0,148.0,135.0,135.0,287.0,229.0,168.0,157.0,251.0,240.0,141.0,256.0,375.0,241.0],\"xaxis\":\"x\",\"y\":[0.903225806451613,0.645161290322581,0.645161290322581,0.580645161290323,0.451612903225806,1.0,0.483870967741936,0.709677419354839,0.612903225806452,0.451612903225806,0.645161290322581,0.838709677419355,0.225806451612903,0.387096774193548,0.161290322580645,0.483870967741936,0.258064516129032,0.67741935483871,0.645161290322581,0.483870967741936,0.225806451612903,0.612903225806452,0.645161290322581,0.645161290322581,0.903225806451613,0.612903225806452,0.47,0.2,0.290322580645161],\"yaxis\":\"y\",\"type\":\"scatter\"},{\"customdata\":[[\"Overpriced\",\"https://www.airbnb.com/rooms/45926314\"],[\"Ugly, No Dynamic Pricing\",\"https://www.airbnb.com/rooms/19908956\"],[\"Lakefront, bad photos, Overpriced\",\"https://www.airbnb.com/rooms/714819816371099049\"],[\"Owner Occupied\",\"https://www.airbnb.com/rooms/768978483572927801\"],[\"On River\",\"https://www.airbnb.com/rooms/47389228\"],[\"Overpriced\",\"https://www.airbnb.com/rooms/27342797\"],[\"Not Superhost\",\"https://www.airbnb.com/rooms/33964064\"],[\"new listing\",\"https://www.airbnb.com/rooms/698544908100904679\"],[\"New Listing\",\"https://www.airbnb.com/rooms/878864519405589544\"],[\"Nonsuperhost\",\"https://www.airbnb.com/rooms/29740451\"]],\"hovertemplate\":\"Host=Regular<br>manual ADR=%{x}<br>manual Occupancy=%{y}<br>Notes=%{customdata[0]}<br>url=%{customdata[1]}<extra></extra>\",\"legendgroup\":\"Regular\",\"marker\":{\"color\":\"#EF553B\",\"symbol\":\"circle\"},\"mode\":\"markers\",\"name\":\"Regular\",\"orientation\":\"v\",\"showlegend\":true,\"x\":[375.0,145.0,470.0,270.0,200.0,257.0,315.0,205.0,168.0,254.0],\"xaxis\":\"x\",\"y\":[0.32258064516129,0.516129032258065,0.0,0.225806451612903,0.451612903225806,0.193548387096774,0.774193548387097,0.387096774193548,0.806451612903226,0.483870967741936],\"yaxis\":\"y\",\"type\":\"scatter\"},{\"customdata\":[[\"Evolve Management yields bad reviews\",\"https://www.airbnb.com/rooms/20889506\"],[\"Vacasa, bad reviews and cleaning\",\"https://www.airbnb.com/rooms/30071398\"],[\"Vacasa, bad reviews and cleaning\",\"https://www.airbnb.com/rooms/26051988\"],[\"Vacasa, very nice looking\",\"https://www.airbnb.com/rooms/847850412831339117\"],[\"Vacasa\",\"https://www.airbnb.com/rooms/572969241718961944\"],[\"Off Calendar\",\"https://www.airbnb.com/rooms/812259821220935977\"],[\"Corporation\",\"https://www.airbnb.com/rooms/46358968\"],[\"Corporation\",\"https://www.airbnb.com/rooms/46358968\"],[\"Corporation\",\"https://www.airbnb.com/rooms/39804129\"],[\"Way too nice to count as a comp\",\"https://www.airbnb.com/rooms/772511804409507635?\"],[\"Too nice to comp\",\"https://www.airbnb.com/rooms/46466747\"],[\"Evolve Management yields bad reviews\",\"https://www.airbnb.com/rooms/47329399\"]],\"hovertemplate\":\"Host=Corporate<br>manual ADR=%{x}<br>manual Occupancy=%{y}<br>Notes=%{customdata[0]}<br>url=%{customdata[1]}<extra></extra>\",\"legendgroup\":\"Corporate\",\"marker\":{\"color\":\"#00cc96\",\"symbol\":\"circle\"},\"mode\":\"markers\",\"name\":\"Corporate\",\"orientation\":\"v\",\"showlegend\":true,\"x\":[255.0,171.0,186.0,210.0,190.0,null,276.0,267.0,333.0,560.0,360.0,173.0],\"xaxis\":\"x\",\"y\":[0.806451612903226,0.258064516129032,0.870967741935484,0.774193548387097,0.806451612903226,null,0.580645161290323,0.516129032258065,0.741935483870968,0.67741935483871,0.354838709677419,0.612903225806452],\"yaxis\":\"y\",\"type\":\"scatter\"}],                        {\"template\":{\"data\":{\"histogram2dcontour\":[{\"type\":\"histogram2dcontour\",\"colorbar\":{\"outlinewidth\":0,\"ticks\":\"\"},\"colorscale\":[[0.0,\"#0d0887\"],[0.1111111111111111,\"#46039f\"],[0.2222222222222222,\"#7201a8\"],[0.3333333333333333,\"#9c179e\"],[0.4444444444444444,\"#bd3786\"],[0.5555555555555556,\"#d8576b\"],[0.6666666666666666,\"#ed7953\"],[0.7777777777777778,\"#fb9f3a\"],[0.8888888888888888,\"#fdca26\"],[1.0,\"#f0f921\"]]}],\"choropleth\":[{\"type\":\"choropleth\",\"colorbar\":{\"outlinewidth\":0,\"ticks\":\"\"}}],\"histogram2d\":[{\"type\":\"histogram2d\",\"colorbar\":{\"outlinewidth\":0,\"ticks\":\"\"},\"colorscale\":[[0.0,\"#0d0887\"],[0.1111111111111111,\"#46039f\"],[0.2222222222222222,\"#7201a8\"],[0.3333333333333333,\"#9c179e\"],[0.4444444444444444,\"#bd3786\"],[0.5555555555555556,\"#d8576b\"],[0.6666666666666666,\"#ed7953\"],[0.7777777777777778,\"#fb9f3a\"],[0.8888888888888888,\"#fdca26\"],[1.0,\"#f0f921\"]]}],\"heatmap\":[{\"type\":\"heatmap\",\"colorbar\":{\"outlinewidth\":0,\"ticks\":\"\"},\"colorscale\":[[0.0,\"#0d0887\"],[0.1111111111111111,\"#46039f\"],[0.2222222222222222,\"#7201a8\"],[0.3333333333333333,\"#9c179e\"],[0.4444444444444444,\"#bd3786\"],[0.5555555555555556,\"#d8576b\"],[0.6666666666666666,\"#ed7953\"],[0.7777777777777778,\"#fb9f3a\"],[0.8888888888888888,\"#fdca26\"],[1.0,\"#f0f921\"]]}],\"heatmapgl\":[{\"type\":\"heatmapgl\",\"colorbar\":{\"outlinewidth\":0,\"ticks\":\"\"},\"colorscale\":[[0.0,\"#0d0887\"],[0.1111111111111111,\"#46039f\"],[0.2222222222222222,\"#7201a8\"],[0.3333333333333333,\"#9c179e\"],[0.4444444444444444,\"#bd3786\"],[0.5555555555555556,\"#d8576b\"],[0.6666666666666666,\"#ed7953\"],[0.7777777777777778,\"#fb9f3a\"],[0.8888888888888888,\"#fdca26\"],[1.0,\"#f0f921\"]]}],\"contourcarpet\":[{\"type\":\"contourcarpet\",\"colorbar\":{\"outlinewidth\":0,\"ticks\":\"\"}}],\"contour\":[{\"type\":\"contour\",\"colorbar\":{\"outlinewidth\":0,\"ticks\":\"\"},\"colorscale\":[[0.0,\"#0d0887\"],[0.1111111111111111,\"#46039f\"],[0.2222222222222222,\"#7201a8\"],[0.3333333333333333,\"#9c179e\"],[0.4444444444444444,\"#bd3786\"],[0.5555555555555556,\"#d8576b\"],[0.6666666666666666,\"#ed7953\"],[0.7777777777777778,\"#fb9f3a\"],[0.8888888888888888,\"#fdca26\"],[1.0,\"#f0f921\"]]}],\"surface\":[{\"type\":\"surface\",\"colorbar\":{\"outlinewidth\":0,\"ticks\":\"\"},\"colorscale\":[[0.0,\"#0d0887\"],[0.1111111111111111,\"#46039f\"],[0.2222222222222222,\"#7201a8\"],[0.3333333333333333,\"#9c179e\"],[0.4444444444444444,\"#bd3786\"],[0.5555555555555556,\"#d8576b\"],[0.6666666666666666,\"#ed7953\"],[0.7777777777777778,\"#fb9f3a\"],[0.8888888888888888,\"#fdca26\"],[1.0,\"#f0f921\"]]}],\"mesh3d\":[{\"type\":\"mesh3d\",\"colorbar\":{\"outlinewidth\":0,\"ticks\":\"\"}}],\"scatter\":[{\"fillpattern\":{\"fillmode\":\"overlay\",\"size\":10,\"solidity\":0.2},\"type\":\"scatter\"}],\"parcoords\":[{\"type\":\"parcoords\",\"line\":{\"colorbar\":{\"outlinewidth\":0,\"ticks\":\"\"}}}],\"scatterpolargl\":[{\"type\":\"scatterpolargl\",\"marker\":{\"colorbar\":{\"outlinewidth\":0,\"ticks\":\"\"}}}],\"bar\":[{\"error_x\":{\"color\":\"#2a3f5f\"},\"error_y\":{\"color\":\"#2a3f5f\"},\"marker\":{\"line\":{\"color\":\"#E5ECF6\",\"width\":0.5},\"pattern\":{\"fillmode\":\"overlay\",\"size\":10,\"solidity\":0.2}},\"type\":\"bar\"}],\"scattergeo\":[{\"type\":\"scattergeo\",\"marker\":{\"colorbar\":{\"outlinewidth\":0,\"ticks\":\"\"}}}],\"scatterpolar\":[{\"type\":\"scatterpolar\",\"marker\":{\"colorbar\":{\"outlinewidth\":0,\"ticks\":\"\"}}}],\"histogram\":[{\"marker\":{\"pattern\":{\"fillmode\":\"overlay\",\"size\":10,\"solidity\":0.2}},\"type\":\"histogram\"}],\"scattergl\":[{\"type\":\"scattergl\",\"marker\":{\"colorbar\":{\"outlinewidth\":0,\"ticks\":\"\"}}}],\"scatter3d\":[{\"type\":\"scatter3d\",\"line\":{\"colorbar\":{\"outlinewidth\":0,\"ticks\":\"\"}},\"marker\":{\"colorbar\":{\"outlinewidth\":0,\"ticks\":\"\"}}}],\"scattermapbox\":[{\"type\":\"scattermapbox\",\"marker\":{\"colorbar\":{\"outlinewidth\":0,\"ticks\":\"\"}}}],\"scatterternary\":[{\"type\":\"scatterternary\",\"marker\":{\"colorbar\":{\"outlinewidth\":0,\"ticks\":\"\"}}}],\"scattercarpet\":[{\"type\":\"scattercarpet\",\"marker\":{\"colorbar\":{\"outlinewidth\":0,\"ticks\":\"\"}}}],\"carpet\":[{\"aaxis\":{\"endlinecolor\":\"#2a3f5f\",\"gridcolor\":\"white\",\"linecolor\":\"white\",\"minorgridcolor\":\"white\",\"startlinecolor\":\"#2a3f5f\"},\"baxis\":{\"endlinecolor\":\"#2a3f5f\",\"gridcolor\":\"white\",\"linecolor\":\"white\",\"minorgridcolor\":\"white\",\"startlinecolor\":\"#2a3f5f\"},\"type\":\"carpet\"}],\"table\":[{\"cells\":{\"fill\":{\"color\":\"#EBF0F8\"},\"line\":{\"color\":\"white\"}},\"header\":{\"fill\":{\"color\":\"#C8D4E3\"},\"line\":{\"color\":\"white\"}},\"type\":\"table\"}],\"barpolar\":[{\"marker\":{\"line\":{\"color\":\"#E5ECF6\",\"width\":0.5},\"pattern\":{\"fillmode\":\"overlay\",\"size\":10,\"solidity\":0.2}},\"type\":\"barpolar\"}],\"pie\":[{\"automargin\":true,\"type\":\"pie\"}]},\"layout\":{\"autotypenumbers\":\"strict\",\"colorway\":[\"#636efa\",\"#EF553B\",\"#00cc96\",\"#ab63fa\",\"#FFA15A\",\"#19d3f3\",\"#FF6692\",\"#B6E880\",\"#FF97FF\",\"#FECB52\"],\"font\":{\"color\":\"#2a3f5f\"},\"hovermode\":\"closest\",\"hoverlabel\":{\"align\":\"left\"},\"paper_bgcolor\":\"white\",\"plot_bgcolor\":\"#E5ECF6\",\"polar\":{\"bgcolor\":\"#E5ECF6\",\"angularaxis\":{\"gridcolor\":\"white\",\"linecolor\":\"white\",\"ticks\":\"\"},\"radialaxis\":{\"gridcolor\":\"white\",\"linecolor\":\"white\",\"ticks\":\"\"}},\"ternary\":{\"bgcolor\":\"#E5ECF6\",\"aaxis\":{\"gridcolor\":\"white\",\"linecolor\":\"white\",\"ticks\":\"\"},\"baxis\":{\"gridcolor\":\"white\",\"linecolor\":\"white\",\"ticks\":\"\"},\"caxis\":{\"gridcolor\":\"white\",\"linecolor\":\"white\",\"ticks\":\"\"}},\"coloraxis\":{\"colorbar\":{\"outlinewidth\":0,\"ticks\":\"\"}},\"colorscale\":{\"sequential\":[[0.0,\"#0d0887\"],[0.1111111111111111,\"#46039f\"],[0.2222222222222222,\"#7201a8\"],[0.3333333333333333,\"#9c179e\"],[0.4444444444444444,\"#bd3786\"],[0.5555555555555556,\"#d8576b\"],[0.6666666666666666,\"#ed7953\"],[0.7777777777777778,\"#fb9f3a\"],[0.8888888888888888,\"#fdca26\"],[1.0,\"#f0f921\"]],\"sequentialminus\":[[0.0,\"#0d0887\"],[0.1111111111111111,\"#46039f\"],[0.2222222222222222,\"#7201a8\"],[0.3333333333333333,\"#9c179e\"],[0.4444444444444444,\"#bd3786\"],[0.5555555555555556,\"#d8576b\"],[0.6666666666666666,\"#ed7953\"],[0.7777777777777778,\"#fb9f3a\"],[0.8888888888888888,\"#fdca26\"],[1.0,\"#f0f921\"]],\"diverging\":[[0,\"#8e0152\"],[0.1,\"#c51b7d\"],[0.2,\"#de77ae\"],[0.3,\"#f1b6da\"],[0.4,\"#fde0ef\"],[0.5,\"#f7f7f7\"],[0.6,\"#e6f5d0\"],[0.7,\"#b8e186\"],[0.8,\"#7fbc41\"],[0.9,\"#4d9221\"],[1,\"#276419\"]]},\"xaxis\":{\"gridcolor\":\"white\",\"linecolor\":\"white\",\"ticks\":\"\",\"title\":{\"standoff\":15},\"zerolinecolor\":\"white\",\"automargin\":true,\"zerolinewidth\":2},\"yaxis\":{\"gridcolor\":\"white\",\"linecolor\":\"white\",\"ticks\":\"\",\"title\":{\"standoff\":15},\"zerolinecolor\":\"white\",\"automargin\":true,\"zerolinewidth\":2},\"scene\":{\"xaxis\":{\"backgroundcolor\":\"#E5ECF6\",\"gridcolor\":\"white\",\"linecolor\":\"white\",\"showbackground\":true,\"ticks\":\"\",\"zerolinecolor\":\"white\",\"gridwidth\":2},\"yaxis\":{\"backgroundcolor\":\"#E5ECF6\",\"gridcolor\":\"white\",\"linecolor\":\"white\",\"showbackground\":true,\"ticks\":\"\",\"zerolinecolor\":\"white\",\"gridwidth\":2},\"zaxis\":{\"backgroundcolor\":\"#E5ECF6\",\"gridcolor\":\"white\",\"linecolor\":\"white\",\"showbackground\":true,\"ticks\":\"\",\"zerolinecolor\":\"white\",\"gridwidth\":2}},\"shapedefaults\":{\"line\":{\"color\":\"#2a3f5f\"}},\"annotationdefaults\":{\"arrowcolor\":\"#2a3f5f\",\"arrowhead\":0,\"arrowwidth\":1},\"geo\":{\"bgcolor\":\"white\",\"landcolor\":\"#E5ECF6\",\"subunitcolor\":\"white\",\"showland\":true,\"showlakes\":true,\"lakecolor\":\"white\"},\"title\":{\"x\":0.05},\"mapbox\":{\"style\":\"light\"}}},\"xaxis\":{\"anchor\":\"y\",\"domain\":[0.0,1.0],\"title\":{\"text\":\"manual ADR\"}},\"yaxis\":{\"anchor\":\"x\",\"domain\":[0.0,1.0],\"title\":{\"text\":\"manual Occupancy\"}},\"legend\":{\"title\":{\"text\":\"Host\"},\"tracegroupgap\":0},\"margin\":{\"t\":60}},                        {\"responsive\": true}                    ).then(function(){\n",
       "                            \n",
       "var gd = document.getElementById('817f7d91-f1f3-4658-a106-afcdf04d255d');\n",
       "var x = new MutationObserver(function (mutations, observer) {{\n",
       "        var display = window.getComputedStyle(gd).display;\n",
       "        if (!display || display === 'none') {{\n",
       "            console.log([gd, 'removed!']);\n",
       "            Plotly.purge(gd);\n",
       "            observer.disconnect();\n",
       "        }}\n",
       "}});\n",
       "\n",
       "// Listen for the removal of the full notebook cells\n",
       "var notebookContainer = gd.closest('#notebook-container');\n",
       "if (notebookContainer) {{\n",
       "    x.observe(notebookContainer, {childList: true});\n",
       "}}\n",
       "\n",
       "// Listen for the clearing of the current output cell\n",
       "var outputEl = gd.closest('.output');\n",
       "if (outputEl) {{\n",
       "    x.observe(outputEl, {childList: true});\n",
       "}}\n",
       "\n",
       "                        })                };                });            </script>        </div>"
      ]
     },
     "metadata": {},
     "output_type": "display_data"
    },
    {
     "data": {
      "application/javascript": [
       "\n",
       "            setTimeout(function() {\n",
       "                var nbb_cell_id = 60;\n",
       "                var nbb_unformatted_code = \"fig = px.scatter(\\n    comps,\\n    y=\\\"manual Occupancy\\\",\\n    x=\\\"manual ADR\\\",\\n    color=\\\"Host\\\",\\n    hover_data=[\\\"Notes\\\", \\\"url\\\"],\\n)\\nfig.show()\";\n",
       "                var nbb_formatted_code = \"fig = px.scatter(\\n    comps,\\n    y=\\\"manual Occupancy\\\",\\n    x=\\\"manual ADR\\\",\\n    color=\\\"Host\\\",\\n    hover_data=[\\\"Notes\\\", \\\"url\\\"],\\n)\\nfig.show()\";\n",
       "                var nbb_cells = Jupyter.notebook.get_cells();\n",
       "                for (var i = 0; i < nbb_cells.length; ++i) {\n",
       "                    if (nbb_cells[i].input_prompt_number == nbb_cell_id) {\n",
       "                        if (nbb_cells[i].get_text() == nbb_unformatted_code) {\n",
       "                             nbb_cells[i].set_text(nbb_formatted_code);\n",
       "                        }\n",
       "                        break;\n",
       "                    }\n",
       "                }\n",
       "            }, 500);\n",
       "            "
      ],
      "text/plain": [
       "<IPython.core.display.Javascript object>"
      ]
     },
     "metadata": {},
     "output_type": "display_data"
    }
   ],
   "source": [
    "fig = px.scatter(\n",
    "    comps,\n",
    "    y=\"manual Occupancy\",\n",
    "    x=\"manual ADR\",\n",
    "    color=\"Host\",\n",
    "    hover_data=[\"Notes\", \"url\"],\n",
    ")\n",
    "fig.show()"
   ]
  },
  {
   "cell_type": "code",
   "execution_count": 61,
   "id": "4db60e4f",
   "metadata": {},
   "outputs": [
    {
     "data": {
      "text/html": [
       "<div>\n",
       "<style scoped>\n",
       "    .dataframe tbody tr th:only-of-type {\n",
       "        vertical-align: middle;\n",
       "    }\n",
       "\n",
       "    .dataframe tbody tr th {\n",
       "        vertical-align: top;\n",
       "    }\n",
       "\n",
       "    .dataframe thead th {\n",
       "        text-align: right;\n",
       "    }\n",
       "</style>\n",
       "<table border=\"1\" class=\"dataframe\">\n",
       "  <thead>\n",
       "    <tr style=\"text-align: right;\">\n",
       "      <th></th>\n",
       "      <th>url</th>\n",
       "      <th>beds</th>\n",
       "      <th>bath</th>\n",
       "      <th>rabbu Occupancy</th>\n",
       "      <th>rabbu ADR</th>\n",
       "      <th>manual Occupancy</th>\n",
       "      <th>manual ADR</th>\n",
       "      <th>Notes</th>\n",
       "      <th>Location</th>\n",
       "      <th>Stars</th>\n",
       "      <th>Review</th>\n",
       "      <th>Cleaning Fee</th>\n",
       "      <th>Host</th>\n",
       "    </tr>\n",
       "  </thead>\n",
       "  <tbody>\n",
       "    <tr>\n",
       "      <th>3</th>\n",
       "      <td>https://www.airbnb.com/rooms/721062423659714038</td>\n",
       "      <td>2</td>\n",
       "      <td>2</td>\n",
       "      <td>0.73</td>\n",
       "      <td>387</td>\n",
       "      <td>0.580645</td>\n",
       "      <td>350.0</td>\n",
       "      <td>Fancy, Cabin Style</td>\n",
       "      <td>North Bend</td>\n",
       "      <td>4.89</td>\n",
       "      <td>19</td>\n",
       "      <td>125.0</td>\n",
       "      <td>Superhost</td>\n",
       "    </tr>\n",
       "    <tr>\n",
       "      <th>21</th>\n",
       "      <td>https://www.airbnb.com/rooms/23021120</td>\n",
       "      <td>2</td>\n",
       "      <td>3</td>\n",
       "      <td>0.40</td>\n",
       "      <td>650</td>\n",
       "      <td>0.645161</td>\n",
       "      <td>360.0</td>\n",
       "      <td>Superhost, relatively new</td>\n",
       "      <td>Suncadia</td>\n",
       "      <td>4.93</td>\n",
       "      <td>14</td>\n",
       "      <td>200.0</td>\n",
       "      <td>Superhost</td>\n",
       "    </tr>\n",
       "    <tr>\n",
       "      <th>23</th>\n",
       "      <td>https://www.airbnb.com/rooms/33964064</td>\n",
       "      <td>2</td>\n",
       "      <td>3</td>\n",
       "      <td>0.83</td>\n",
       "      <td>328</td>\n",
       "      <td>0.774194</td>\n",
       "      <td>315.0</td>\n",
       "      <td>Not Superhost</td>\n",
       "      <td>Suncadia</td>\n",
       "      <td>4.92</td>\n",
       "      <td>102</td>\n",
       "      <td>150.0</td>\n",
       "      <td>Regular</td>\n",
       "    </tr>\n",
       "    <tr>\n",
       "      <th>34</th>\n",
       "      <td>https://www.airbnb.com/rooms/39804129</td>\n",
       "      <td>2</td>\n",
       "      <td>3</td>\n",
       "      <td>0.67</td>\n",
       "      <td>333</td>\n",
       "      <td>0.741935</td>\n",
       "      <td>333.0</td>\n",
       "      <td>Corporation</td>\n",
       "      <td>Ronald</td>\n",
       "      <td>4.83</td>\n",
       "      <td>29</td>\n",
       "      <td>190.0</td>\n",
       "      <td>Corporate</td>\n",
       "    </tr>\n",
       "    <tr>\n",
       "      <th>48</th>\n",
       "      <td>https://www.airbnb.com/rooms/772511804409507635?</td>\n",
       "      <td>2</td>\n",
       "      <td>2</td>\n",
       "      <td>0.43</td>\n",
       "      <td>584</td>\n",
       "      <td>0.677419</td>\n",
       "      <td>560.0</td>\n",
       "      <td>Way too nice to count as a comp</td>\n",
       "      <td>Lake Cle Elum</td>\n",
       "      <td>5.00</td>\n",
       "      <td>23</td>\n",
       "      <td>250.0</td>\n",
       "      <td>Corporate</td>\n",
       "    </tr>\n",
       "  </tbody>\n",
       "</table>\n",
       "</div>"
      ],
      "text/plain": [
       "                                                 url  beds  bath  \\\n",
       "3    https://www.airbnb.com/rooms/721062423659714038     2     2   \n",
       "21             https://www.airbnb.com/rooms/23021120     2     3   \n",
       "23             https://www.airbnb.com/rooms/33964064     2     3   \n",
       "34             https://www.airbnb.com/rooms/39804129     2     3   \n",
       "48  https://www.airbnb.com/rooms/772511804409507635?     2     2   \n",
       "\n",
       "    rabbu Occupancy  rabbu ADR  manual Occupancy  manual ADR  \\\n",
       "3              0.73        387          0.580645       350.0   \n",
       "21             0.40        650          0.645161       360.0   \n",
       "23             0.83        328          0.774194       315.0   \n",
       "34             0.67        333          0.741935       333.0   \n",
       "48             0.43        584          0.677419       560.0   \n",
       "\n",
       "                              Notes       Location  Stars  Review  \\\n",
       "3                Fancy, Cabin Style     North Bend   4.89      19   \n",
       "21        Superhost, relatively new       Suncadia   4.93      14   \n",
       "23                    Not Superhost       Suncadia   4.92     102   \n",
       "34                      Corporation         Ronald   4.83      29   \n",
       "48  Way too nice to count as a comp  Lake Cle Elum   5.00      23   \n",
       "\n",
       "    Cleaning Fee       Host  \n",
       "3          125.0  Superhost  \n",
       "21         200.0  Superhost  \n",
       "23         150.0    Regular  \n",
       "34         190.0  Corporate  \n",
       "48         250.0  Corporate  "
      ]
     },
     "execution_count": 61,
     "metadata": {},
     "output_type": "execute_result"
    },
    {
     "data": {
      "application/javascript": [
       "\n",
       "            setTimeout(function() {\n",
       "                var nbb_cell_id = 61;\n",
       "                var nbb_unformatted_code = \"comps[(comps['manual ADR'] > 300) & (comps['manual Occupancy'] > 0.5)]\";\n",
       "                var nbb_formatted_code = \"comps[(comps[\\\"manual ADR\\\"] > 300) & (comps[\\\"manual Occupancy\\\"] > 0.5)]\";\n",
       "                var nbb_cells = Jupyter.notebook.get_cells();\n",
       "                for (var i = 0; i < nbb_cells.length; ++i) {\n",
       "                    if (nbb_cells[i].input_prompt_number == nbb_cell_id) {\n",
       "                        if (nbb_cells[i].get_text() == nbb_unformatted_code) {\n",
       "                             nbb_cells[i].set_text(nbb_formatted_code);\n",
       "                        }\n",
       "                        break;\n",
       "                    }\n",
       "                }\n",
       "            }, 500);\n",
       "            "
      ],
      "text/plain": [
       "<IPython.core.display.Javascript object>"
      ]
     },
     "metadata": {},
     "output_type": "display_data"
    }
   ],
   "source": [
    "comps[(comps[\"manual ADR\"] > 300) & (comps[\"manual Occupancy\"] > 0.5)]"
   ]
  },
  {
   "cell_type": "code",
   "execution_count": 62,
   "id": "75ad4154",
   "metadata": {},
   "outputs": [
    {
     "data": {
      "application/javascript": [
       "\n",
       "            setTimeout(function() {\n",
       "                var nbb_cell_id = 62;\n",
       "                var nbb_unformatted_code = \"exclude_indx = [3,21,23,34,11, 5, 48]\\ncomps.drop(index=exclude_indx, inplace=True)\";\n",
       "                var nbb_formatted_code = \"exclude_indx = [3, 21, 23, 34, 11, 5, 48]\\ncomps.drop(index=exclude_indx, inplace=True)\";\n",
       "                var nbb_cells = Jupyter.notebook.get_cells();\n",
       "                for (var i = 0; i < nbb_cells.length; ++i) {\n",
       "                    if (nbb_cells[i].input_prompt_number == nbb_cell_id) {\n",
       "                        if (nbb_cells[i].get_text() == nbb_unformatted_code) {\n",
       "                             nbb_cells[i].set_text(nbb_formatted_code);\n",
       "                        }\n",
       "                        break;\n",
       "                    }\n",
       "                }\n",
       "            }, 500);\n",
       "            "
      ],
      "text/plain": [
       "<IPython.core.display.Javascript object>"
      ]
     },
     "metadata": {},
     "output_type": "display_data"
    }
   ],
   "source": [
    "exclude_indx = [3, 21, 23, 34, 11, 5, 48]\n",
    "comps.drop(index=exclude_indx, inplace=True)"
   ]
  },
  {
   "cell_type": "code",
   "execution_count": 63,
   "id": "667c5e90",
   "metadata": {},
   "outputs": [
    {
     "data": {
      "text/html": [
       "<div>\n",
       "<style scoped>\n",
       "    .dataframe tbody tr th:only-of-type {\n",
       "        vertical-align: middle;\n",
       "    }\n",
       "\n",
       "    .dataframe tbody tr th {\n",
       "        vertical-align: top;\n",
       "    }\n",
       "\n",
       "    .dataframe thead th {\n",
       "        text-align: right;\n",
       "    }\n",
       "</style>\n",
       "<table border=\"1\" class=\"dataframe\">\n",
       "  <thead>\n",
       "    <tr style=\"text-align: right;\">\n",
       "      <th></th>\n",
       "      <th>manual ADR</th>\n",
       "      <th>manual Occupancy</th>\n",
       "      <th>host_Corporate</th>\n",
       "      <th>host_Superhost</th>\n",
       "    </tr>\n",
       "  </thead>\n",
       "  <tbody>\n",
       "    <tr>\n",
       "      <th>0</th>\n",
       "      <td>134.0</td>\n",
       "      <td>0.903226</td>\n",
       "      <td>0</td>\n",
       "      <td>1</td>\n",
       "    </tr>\n",
       "    <tr>\n",
       "      <th>1</th>\n",
       "      <td>245.0</td>\n",
       "      <td>0.645161</td>\n",
       "      <td>0</td>\n",
       "      <td>1</td>\n",
       "    </tr>\n",
       "    <tr>\n",
       "      <th>2</th>\n",
       "      <td>189.0</td>\n",
       "      <td>0.645161</td>\n",
       "      <td>0</td>\n",
       "      <td>1</td>\n",
       "    </tr>\n",
       "    <tr>\n",
       "      <th>4</th>\n",
       "      <td>281.0</td>\n",
       "      <td>0.451613</td>\n",
       "      <td>0</td>\n",
       "      <td>1</td>\n",
       "    </tr>\n",
       "    <tr>\n",
       "      <th>6</th>\n",
       "      <td>180.0</td>\n",
       "      <td>0.483871</td>\n",
       "      <td>0</td>\n",
       "      <td>1</td>\n",
       "    </tr>\n",
       "  </tbody>\n",
       "</table>\n",
       "</div>"
      ],
      "text/plain": [
       "   manual ADR  manual Occupancy  host_Corporate  host_Superhost\n",
       "0       134.0          0.903226               0               1\n",
       "1       245.0          0.645161               0               1\n",
       "2       189.0          0.645161               0               1\n",
       "4       281.0          0.451613               0               1\n",
       "6       180.0          0.483871               0               1"
      ]
     },
     "execution_count": 63,
     "metadata": {},
     "output_type": "execute_result"
    },
    {
     "data": {
      "application/javascript": [
       "\n",
       "            setTimeout(function() {\n",
       "                var nbb_cell_id = 63;\n",
       "                var nbb_unformatted_code = \"mod_data = comps[[\\\"manual ADR\\\", \\\"manual Occupancy\\\", \\\"Host\\\"]].copy()\\nmod_data = mod_data[mod_data[\\\"manual ADR\\\"] <= 500]\\nmod_data = pd.get_dummies(data=mod_data, prefix=\\\"host\\\", columns=[\\\"Host\\\"])\\nmod_data.drop(columns=[\\\"host_Regular\\\"], inplace=True)\\nmod_data.head()\";\n",
       "                var nbb_formatted_code = \"mod_data = comps[[\\\"manual ADR\\\", \\\"manual Occupancy\\\", \\\"Host\\\"]].copy()\\nmod_data = mod_data[mod_data[\\\"manual ADR\\\"] <= 500]\\nmod_data = pd.get_dummies(data=mod_data, prefix=\\\"host\\\", columns=[\\\"Host\\\"])\\nmod_data.drop(columns=[\\\"host_Regular\\\"], inplace=True)\\nmod_data.head()\";\n",
       "                var nbb_cells = Jupyter.notebook.get_cells();\n",
       "                for (var i = 0; i < nbb_cells.length; ++i) {\n",
       "                    if (nbb_cells[i].input_prompt_number == nbb_cell_id) {\n",
       "                        if (nbb_cells[i].get_text() == nbb_unformatted_code) {\n",
       "                             nbb_cells[i].set_text(nbb_formatted_code);\n",
       "                        }\n",
       "                        break;\n",
       "                    }\n",
       "                }\n",
       "            }, 500);\n",
       "            "
      ],
      "text/plain": [
       "<IPython.core.display.Javascript object>"
      ]
     },
     "metadata": {},
     "output_type": "display_data"
    }
   ],
   "source": [
    "mod_data = comps[[\"manual ADR\", \"manual Occupancy\", \"Host\"]].copy()\n",
    "mod_data = mod_data[mod_data[\"manual ADR\"] <= 500]\n",
    "mod_data = pd.get_dummies(data=mod_data, prefix=\"host\", columns=[\"Host\"])\n",
    "mod_data.drop(columns=[\"host_Regular\"], inplace=True)\n",
    "mod_data.head()"
   ]
  },
  {
   "cell_type": "code",
   "execution_count": 64,
   "id": "70760c01",
   "metadata": {},
   "outputs": [
    {
     "data": {
      "text/html": [
       "<table class=\"simpletable\">\n",
       "<caption>OLS Regression Results</caption>\n",
       "<tr>\n",
       "  <th>Dep. Variable:</th>    <td>manual Occupancy</td> <th>  R-squared:         </th> <td>   0.222</td>\n",
       "</tr>\n",
       "<tr>\n",
       "  <th>Model:</th>                   <td>OLS</td>       <th>  Adj. R-squared:    </th> <td>   0.203</td>\n",
       "</tr>\n",
       "<tr>\n",
       "  <th>Method:</th>             <td>Least Squares</td>  <th>  F-statistic:       </th> <td>   11.71</td>\n",
       "</tr>\n",
       "<tr>\n",
       "  <th>Date:</th>             <td>Mon, 17 Jul 2023</td> <th>  Prob (F-statistic):</th>  <td>0.00142</td>\n",
       "</tr>\n",
       "<tr>\n",
       "  <th>Time:</th>                 <td>23:10:23</td>     <th>  Log-Likelihood:    </th> <td>  11.280</td>\n",
       "</tr>\n",
       "<tr>\n",
       "  <th>No. Observations:</th>      <td>    43</td>      <th>  AIC:               </th> <td>  -18.56</td>\n",
       "</tr>\n",
       "<tr>\n",
       "  <th>Df Residuals:</th>          <td>    41</td>      <th>  BIC:               </th> <td>  -15.04</td>\n",
       "</tr>\n",
       "<tr>\n",
       "  <th>Df Model:</th>              <td>     1</td>      <th>                     </th>     <td> </td>   \n",
       "</tr>\n",
       "<tr>\n",
       "  <th>Covariance Type:</th>      <td>nonrobust</td>    <th>                     </th>     <td> </td>   \n",
       "</tr>\n",
       "</table>\n",
       "<table class=\"simpletable\">\n",
       "<tr>\n",
       "       <td></td>         <th>coef</th>     <th>std err</th>      <th>t</th>      <th>P>|t|</th>  <th>[0.025</th>    <th>0.975]</th>  \n",
       "</tr>\n",
       "<tr>\n",
       "  <th>const</th>      <td>    0.8376</td> <td>    0.095</td> <td>    8.774</td> <td> 0.000</td> <td>    0.645</td> <td>    1.030</td>\n",
       "</tr>\n",
       "<tr>\n",
       "  <th>manual ADR</th> <td>   -0.0014</td> <td>    0.000</td> <td>   -3.422</td> <td> 0.001</td> <td>   -0.002</td> <td>   -0.001</td>\n",
       "</tr>\n",
       "</table>\n",
       "<table class=\"simpletable\">\n",
       "<tr>\n",
       "  <th>Omnibus:</th>       <td> 0.085</td> <th>  Durbin-Watson:     </th> <td>   1.951</td>\n",
       "</tr>\n",
       "<tr>\n",
       "  <th>Prob(Omnibus):</th> <td> 0.959</td> <th>  Jarque-Bera (JB):  </th> <td>   0.292</td>\n",
       "</tr>\n",
       "<tr>\n",
       "  <th>Skew:</th>          <td>-0.022</td> <th>  Prob(JB):          </th> <td>   0.864</td>\n",
       "</tr>\n",
       "<tr>\n",
       "  <th>Kurtosis:</th>      <td> 2.599</td> <th>  Cond. No.          </th> <td>    777.</td>\n",
       "</tr>\n",
       "</table><br/><br/>Notes:<br/>[1] Standard Errors assume that the covariance matrix of the errors is correctly specified."
      ],
      "text/plain": [
       "<class 'statsmodels.iolib.summary.Summary'>\n",
       "\"\"\"\n",
       "                            OLS Regression Results                            \n",
       "==============================================================================\n",
       "Dep. Variable:       manual Occupancy   R-squared:                       0.222\n",
       "Model:                            OLS   Adj. R-squared:                  0.203\n",
       "Method:                 Least Squares   F-statistic:                     11.71\n",
       "Date:                Mon, 17 Jul 2023   Prob (F-statistic):            0.00142\n",
       "Time:                        23:10:23   Log-Likelihood:                 11.280\n",
       "No. Observations:                  43   AIC:                            -18.56\n",
       "Df Residuals:                      41   BIC:                            -15.04\n",
       "Df Model:                           1                                         \n",
       "Covariance Type:            nonrobust                                         \n",
       "==============================================================================\n",
       "                 coef    std err          t      P>|t|      [0.025      0.975]\n",
       "------------------------------------------------------------------------------\n",
       "const          0.8376      0.095      8.774      0.000       0.645       1.030\n",
       "manual ADR    -0.0014      0.000     -3.422      0.001      -0.002      -0.001\n",
       "==============================================================================\n",
       "Omnibus:                        0.085   Durbin-Watson:                   1.951\n",
       "Prob(Omnibus):                  0.959   Jarque-Bera (JB):                0.292\n",
       "Skew:                          -0.022   Prob(JB):                        0.864\n",
       "Kurtosis:                       2.599   Cond. No.                         777.\n",
       "==============================================================================\n",
       "\n",
       "Notes:\n",
       "[1] Standard Errors assume that the covariance matrix of the errors is correctly specified.\n",
       "\"\"\""
      ]
     },
     "execution_count": 64,
     "metadata": {},
     "output_type": "execute_result"
    },
    {
     "data": {
      "application/javascript": [
       "\n",
       "            setTimeout(function() {\n",
       "                var nbb_cell_id = 64;\n",
       "                var nbb_unformatted_code = \"X = mod_data[[\\\"manual ADR\\\"]]  # , \\\"host_Corporate\\\", \\\"host_Superhost\\\"]]\\nX = sm.add_constant(X)\\ny = mod_data[[\\\"manual Occupancy\\\"]]\\nmod = sm.OLS(y, X)\\nres = mod.fit()\\nres.summary()\";\n",
       "                var nbb_formatted_code = \"X = mod_data[[\\\"manual ADR\\\"]]  # , \\\"host_Corporate\\\", \\\"host_Superhost\\\"]]\\nX = sm.add_constant(X)\\ny = mod_data[[\\\"manual Occupancy\\\"]]\\nmod = sm.OLS(y, X)\\nres = mod.fit()\\nres.summary()\";\n",
       "                var nbb_cells = Jupyter.notebook.get_cells();\n",
       "                for (var i = 0; i < nbb_cells.length; ++i) {\n",
       "                    if (nbb_cells[i].input_prompt_number == nbb_cell_id) {\n",
       "                        if (nbb_cells[i].get_text() == nbb_unformatted_code) {\n",
       "                             nbb_cells[i].set_text(nbb_formatted_code);\n",
       "                        }\n",
       "                        break;\n",
       "                    }\n",
       "                }\n",
       "            }, 500);\n",
       "            "
      ],
      "text/plain": [
       "<IPython.core.display.Javascript object>"
      ]
     },
     "metadata": {},
     "output_type": "display_data"
    }
   ],
   "source": [
    "X = mod_data[[\"manual ADR\"]]  # , \"host_Corporate\", \"host_Superhost\"]]\n",
    "X = sm.add_constant(X)\n",
    "y = mod_data[[\"manual Occupancy\"]]\n",
    "mod = sm.OLS(y, X)\n",
    "res = mod.fit()\n",
    "res.summary()"
   ]
  },
  {
   "cell_type": "code",
   "execution_count": 67,
   "id": "44e4b863",
   "metadata": {
    "scrolled": false
   },
   "outputs": [
    {
     "data": {
      "application/vnd.plotly.v1+json": {
       "config": {
        "plotlyServerURL": "https://plot.ly"
       },
       "data": [
        {
         "customdata": [
          [
           null,
           "https://www.airbnb.com/rooms/46038476"
          ],
          [
           "Too fancy, comp won’t compare",
           "https://www.airbnb.com/rooms/54064539"
          ],
          [
           "No Dynamic Pricing, looks like a house, not a cabin",
           "https://www.airbnb.com/rooms/52210633"
          ],
          [
           "Bad Photos, On River",
           "https://www.airbnb.com/rooms/566008910384238034"
          ],
          [
           "Owner Occupied, Poor Photos, Basement Apartment, Language Barrier",
           "https://www.airbnb.com/rooms/23960139"
          ],
          [
           "New Listing, Underpriced, Bad Photos",
           "https://www.airbnb.com/rooms/732625739862507774"
          ],
          [
           "Newer Listing",
           "https://www.airbnb.com/rooms/48258178"
          ],
          [
           "In Town, updated",
           "https://www.airbnb.com/rooms/719625260995322512"
          ],
          [
           "Superhost not vacasa or corporate",
           "https://www.airbnb.com/rooms/51149790"
          ],
          [
           "Superhost not vacasa or corporate",
           "https://www.airbnb.com/rooms/26032476"
          ],
          [
           "Superhost not vacasa or corporate",
           "https://www.airbnb.com/rooms/630394210952855297"
          ],
          [
           "Superhost",
           "https://www.airbnb.com/rooms/36699088"
          ],
          [
           "Superhost",
           "https://www.airbnb.com/rooms/48943693"
          ],
          [
           "Ugly Old",
           "https://www.airbnb.com/rooms/53811926"
          ],
          [
           "Looks Nice",
           "https://www.airbnb.com/rooms/49487409"
          ],
          [
           "Nice, Superhost",
           "https://www.airbnb.com/rooms/36114880"
          ],
          [
           "Superhost",
           "https://www.airbnb.com/rooms/23021070"
          ],
          [
           "Superhost, good photos",
           "https://www.airbnb.com/rooms/46619467"
          ],
          [
           "Expensive Furniture",
           "https://www.airbnb.com/rooms/557125827091662488"
          ],
          [
           "Superhost, good furniture",
           "https://www.airbnb.com/rooms/49016675"
          ],
          [
           "Superhost, condo community",
           "https://www.airbnb.com/rooms/23021100"
          ],
          [
           "Superhost, by the beach",
           "https://www.airbnb.com/rooms/23352493"
          ],
          [
           "Superhost",
           "https://www.airbnb.com/rooms/52735414"
          ],
          [
           "Superhost, Nice Photos",
           "https://www.airbnb.com/rooms/666970338596390385"
          ],
          [
           "On Stilts, Experience",
           "https://www.airbnb.com/rooms/50858816"
          ],
          [
           "Fancy, Pro Photos",
           "https://www.airbnb.com/rooms/689441742434586212"
          ]
         ],
         "hovertemplate": "Host=Superhost<br>manual ADR=%{x}<br>manual Occupancy=%{y}<br>Notes=%{customdata[0]}<br>url=%{customdata[1]}<extra></extra>",
         "legendgroup": "Superhost",
         "marker": {
          "color": "#636efa",
          "symbol": "circle"
         },
         "mode": "markers",
         "name": "Superhost",
         "orientation": "v",
         "showlegend": true,
         "type": "scatter",
         "x": [
          134,
          245,
          189,
          281,
          180,
          145,
          125,
          160,
          235,
          421,
          335,
          250,
          262,
          148,
          135,
          135,
          287,
          229,
          168,
          157,
          251,
          240,
          141,
          256,
          375,
          241
         ],
         "xaxis": "x",
         "y": [
          0.903225806451613,
          0.645161290322581,
          0.645161290322581,
          0.451612903225806,
          0.483870967741936,
          0.709677419354839,
          0.612903225806452,
          0.451612903225806,
          0.838709677419355,
          0.225806451612903,
          0.387096774193548,
          0.161290322580645,
          0.483870967741936,
          0.258064516129032,
          0.67741935483871,
          0.645161290322581,
          0.483870967741936,
          0.225806451612903,
          0.612903225806452,
          0.645161290322581,
          0.645161290322581,
          0.903225806451613,
          0.612903225806452,
          0.47,
          0.2,
          0.290322580645161
         ],
         "yaxis": "y"
        },
        {
         "customdata": [
          [
           "Overpriced",
           "https://www.airbnb.com/rooms/45926314"
          ],
          [
           "Ugly, No Dynamic Pricing",
           "https://www.airbnb.com/rooms/19908956"
          ],
          [
           "Owner Occupied",
           "https://www.airbnb.com/rooms/768978483572927801"
          ],
          [
           "On River",
           "https://www.airbnb.com/rooms/47389228"
          ],
          [
           "Overpriced",
           "https://www.airbnb.com/rooms/27342797"
          ],
          [
           "new listing",
           "https://www.airbnb.com/rooms/698544908100904679"
          ],
          [
           "New Listing",
           "https://www.airbnb.com/rooms/878864519405589544"
          ],
          [
           "Nonsuperhost",
           "https://www.airbnb.com/rooms/29740451"
          ]
         ],
         "hovertemplate": "Host=Regular<br>manual ADR=%{x}<br>manual Occupancy=%{y}<br>Notes=%{customdata[0]}<br>url=%{customdata[1]}<extra></extra>",
         "legendgroup": "Regular",
         "marker": {
          "color": "#EF553B",
          "symbol": "circle"
         },
         "mode": "markers",
         "name": "Regular",
         "orientation": "v",
         "showlegend": true,
         "type": "scatter",
         "x": [
          375,
          145,
          270,
          200,
          257,
          205,
          168,
          254
         ],
         "xaxis": "x",
         "y": [
          0.32258064516129,
          0.516129032258065,
          0.225806451612903,
          0.451612903225806,
          0.193548387096774,
          0.387096774193548,
          0.806451612903226,
          0.483870967741936
         ],
         "yaxis": "y"
        },
        {
         "customdata": [
          [
           "Evolve Management yields bad reviews",
           "https://www.airbnb.com/rooms/20889506"
          ],
          [
           "Vacasa, bad reviews and cleaning",
           "https://www.airbnb.com/rooms/30071398"
          ],
          [
           "Vacasa, bad reviews and cleaning",
           "https://www.airbnb.com/rooms/26051988"
          ],
          [
           "Vacasa, very nice looking",
           "https://www.airbnb.com/rooms/847850412831339117"
          ],
          [
           "Vacasa",
           "https://www.airbnb.com/rooms/572969241718961944"
          ],
          [
           "Off Calendar",
           "https://www.airbnb.com/rooms/812259821220935977"
          ],
          [
           "Corporation",
           "https://www.airbnb.com/rooms/46358968"
          ],
          [
           "Corporation",
           "https://www.airbnb.com/rooms/46358968"
          ],
          [
           "Too nice to comp",
           "https://www.airbnb.com/rooms/46466747"
          ],
          [
           "Evolve Management yields bad reviews",
           "https://www.airbnb.com/rooms/47329399"
          ]
         ],
         "hovertemplate": "Host=Corporate<br>manual ADR=%{x}<br>manual Occupancy=%{y}<br>Notes=%{customdata[0]}<br>url=%{customdata[1]}<extra></extra>",
         "legendgroup": "Corporate",
         "marker": {
          "color": "#00cc96",
          "symbol": "circle"
         },
         "mode": "markers",
         "name": "Corporate",
         "orientation": "v",
         "showlegend": true,
         "type": "scatter",
         "x": [
          255,
          171,
          186,
          210,
          190,
          null,
          276,
          267,
          360,
          173
         ],
         "xaxis": "x",
         "y": [
          0.806451612903226,
          0.258064516129032,
          0.870967741935484,
          0.774193548387097,
          0.806451612903226,
          null,
          0.580645161290323,
          0.516129032258065,
          0.354838709677419,
          0.612903225806452
         ],
         "yaxis": "y"
        }
       ],
       "layout": {
        "legend": {
         "title": {
          "text": "Host"
         },
         "tracegroupgap": 0
        },
        "margin": {
         "t": 60
        },
        "shapes": [
         {
          "type": "line",
          "x0": 0,
          "x1": 500,
          "y0": 0.837607,
          "y1": 0.147107
         }
        ],
        "template": {
         "data": {
          "bar": [
           {
            "error_x": {
             "color": "#2a3f5f"
            },
            "error_y": {
             "color": "#2a3f5f"
            },
            "marker": {
             "line": {
              "color": "#E5ECF6",
              "width": 0.5
             },
             "pattern": {
              "fillmode": "overlay",
              "size": 10,
              "solidity": 0.2
             }
            },
            "type": "bar"
           }
          ],
          "barpolar": [
           {
            "marker": {
             "line": {
              "color": "#E5ECF6",
              "width": 0.5
             },
             "pattern": {
              "fillmode": "overlay",
              "size": 10,
              "solidity": 0.2
             }
            },
            "type": "barpolar"
           }
          ],
          "carpet": [
           {
            "aaxis": {
             "endlinecolor": "#2a3f5f",
             "gridcolor": "white",
             "linecolor": "white",
             "minorgridcolor": "white",
             "startlinecolor": "#2a3f5f"
            },
            "baxis": {
             "endlinecolor": "#2a3f5f",
             "gridcolor": "white",
             "linecolor": "white",
             "minorgridcolor": "white",
             "startlinecolor": "#2a3f5f"
            },
            "type": "carpet"
           }
          ],
          "choropleth": [
           {
            "colorbar": {
             "outlinewidth": 0,
             "ticks": ""
            },
            "type": "choropleth"
           }
          ],
          "contour": [
           {
            "colorbar": {
             "outlinewidth": 0,
             "ticks": ""
            },
            "colorscale": [
             [
              0,
              "#0d0887"
             ],
             [
              0.1111111111111111,
              "#46039f"
             ],
             [
              0.2222222222222222,
              "#7201a8"
             ],
             [
              0.3333333333333333,
              "#9c179e"
             ],
             [
              0.4444444444444444,
              "#bd3786"
             ],
             [
              0.5555555555555556,
              "#d8576b"
             ],
             [
              0.6666666666666666,
              "#ed7953"
             ],
             [
              0.7777777777777778,
              "#fb9f3a"
             ],
             [
              0.8888888888888888,
              "#fdca26"
             ],
             [
              1,
              "#f0f921"
             ]
            ],
            "type": "contour"
           }
          ],
          "contourcarpet": [
           {
            "colorbar": {
             "outlinewidth": 0,
             "ticks": ""
            },
            "type": "contourcarpet"
           }
          ],
          "heatmap": [
           {
            "colorbar": {
             "outlinewidth": 0,
             "ticks": ""
            },
            "colorscale": [
             [
              0,
              "#0d0887"
             ],
             [
              0.1111111111111111,
              "#46039f"
             ],
             [
              0.2222222222222222,
              "#7201a8"
             ],
             [
              0.3333333333333333,
              "#9c179e"
             ],
             [
              0.4444444444444444,
              "#bd3786"
             ],
             [
              0.5555555555555556,
              "#d8576b"
             ],
             [
              0.6666666666666666,
              "#ed7953"
             ],
             [
              0.7777777777777778,
              "#fb9f3a"
             ],
             [
              0.8888888888888888,
              "#fdca26"
             ],
             [
              1,
              "#f0f921"
             ]
            ],
            "type": "heatmap"
           }
          ],
          "heatmapgl": [
           {
            "colorbar": {
             "outlinewidth": 0,
             "ticks": ""
            },
            "colorscale": [
             [
              0,
              "#0d0887"
             ],
             [
              0.1111111111111111,
              "#46039f"
             ],
             [
              0.2222222222222222,
              "#7201a8"
             ],
             [
              0.3333333333333333,
              "#9c179e"
             ],
             [
              0.4444444444444444,
              "#bd3786"
             ],
             [
              0.5555555555555556,
              "#d8576b"
             ],
             [
              0.6666666666666666,
              "#ed7953"
             ],
             [
              0.7777777777777778,
              "#fb9f3a"
             ],
             [
              0.8888888888888888,
              "#fdca26"
             ],
             [
              1,
              "#f0f921"
             ]
            ],
            "type": "heatmapgl"
           }
          ],
          "histogram": [
           {
            "marker": {
             "pattern": {
              "fillmode": "overlay",
              "size": 10,
              "solidity": 0.2
             }
            },
            "type": "histogram"
           }
          ],
          "histogram2d": [
           {
            "colorbar": {
             "outlinewidth": 0,
             "ticks": ""
            },
            "colorscale": [
             [
              0,
              "#0d0887"
             ],
             [
              0.1111111111111111,
              "#46039f"
             ],
             [
              0.2222222222222222,
              "#7201a8"
             ],
             [
              0.3333333333333333,
              "#9c179e"
             ],
             [
              0.4444444444444444,
              "#bd3786"
             ],
             [
              0.5555555555555556,
              "#d8576b"
             ],
             [
              0.6666666666666666,
              "#ed7953"
             ],
             [
              0.7777777777777778,
              "#fb9f3a"
             ],
             [
              0.8888888888888888,
              "#fdca26"
             ],
             [
              1,
              "#f0f921"
             ]
            ],
            "type": "histogram2d"
           }
          ],
          "histogram2dcontour": [
           {
            "colorbar": {
             "outlinewidth": 0,
             "ticks": ""
            },
            "colorscale": [
             [
              0,
              "#0d0887"
             ],
             [
              0.1111111111111111,
              "#46039f"
             ],
             [
              0.2222222222222222,
              "#7201a8"
             ],
             [
              0.3333333333333333,
              "#9c179e"
             ],
             [
              0.4444444444444444,
              "#bd3786"
             ],
             [
              0.5555555555555556,
              "#d8576b"
             ],
             [
              0.6666666666666666,
              "#ed7953"
             ],
             [
              0.7777777777777778,
              "#fb9f3a"
             ],
             [
              0.8888888888888888,
              "#fdca26"
             ],
             [
              1,
              "#f0f921"
             ]
            ],
            "type": "histogram2dcontour"
           }
          ],
          "mesh3d": [
           {
            "colorbar": {
             "outlinewidth": 0,
             "ticks": ""
            },
            "type": "mesh3d"
           }
          ],
          "parcoords": [
           {
            "line": {
             "colorbar": {
              "outlinewidth": 0,
              "ticks": ""
             }
            },
            "type": "parcoords"
           }
          ],
          "pie": [
           {
            "automargin": true,
            "type": "pie"
           }
          ],
          "scatter": [
           {
            "fillpattern": {
             "fillmode": "overlay",
             "size": 10,
             "solidity": 0.2
            },
            "type": "scatter"
           }
          ],
          "scatter3d": [
           {
            "line": {
             "colorbar": {
              "outlinewidth": 0,
              "ticks": ""
             }
            },
            "marker": {
             "colorbar": {
              "outlinewidth": 0,
              "ticks": ""
             }
            },
            "type": "scatter3d"
           }
          ],
          "scattercarpet": [
           {
            "marker": {
             "colorbar": {
              "outlinewidth": 0,
              "ticks": ""
             }
            },
            "type": "scattercarpet"
           }
          ],
          "scattergeo": [
           {
            "marker": {
             "colorbar": {
              "outlinewidth": 0,
              "ticks": ""
             }
            },
            "type": "scattergeo"
           }
          ],
          "scattergl": [
           {
            "marker": {
             "colorbar": {
              "outlinewidth": 0,
              "ticks": ""
             }
            },
            "type": "scattergl"
           }
          ],
          "scattermapbox": [
           {
            "marker": {
             "colorbar": {
              "outlinewidth": 0,
              "ticks": ""
             }
            },
            "type": "scattermapbox"
           }
          ],
          "scatterpolar": [
           {
            "marker": {
             "colorbar": {
              "outlinewidth": 0,
              "ticks": ""
             }
            },
            "type": "scatterpolar"
           }
          ],
          "scatterpolargl": [
           {
            "marker": {
             "colorbar": {
              "outlinewidth": 0,
              "ticks": ""
             }
            },
            "type": "scatterpolargl"
           }
          ],
          "scatterternary": [
           {
            "marker": {
             "colorbar": {
              "outlinewidth": 0,
              "ticks": ""
             }
            },
            "type": "scatterternary"
           }
          ],
          "surface": [
           {
            "colorbar": {
             "outlinewidth": 0,
             "ticks": ""
            },
            "colorscale": [
             [
              0,
              "#0d0887"
             ],
             [
              0.1111111111111111,
              "#46039f"
             ],
             [
              0.2222222222222222,
              "#7201a8"
             ],
             [
              0.3333333333333333,
              "#9c179e"
             ],
             [
              0.4444444444444444,
              "#bd3786"
             ],
             [
              0.5555555555555556,
              "#d8576b"
             ],
             [
              0.6666666666666666,
              "#ed7953"
             ],
             [
              0.7777777777777778,
              "#fb9f3a"
             ],
             [
              0.8888888888888888,
              "#fdca26"
             ],
             [
              1,
              "#f0f921"
             ]
            ],
            "type": "surface"
           }
          ],
          "table": [
           {
            "cells": {
             "fill": {
              "color": "#EBF0F8"
             },
             "line": {
              "color": "white"
             }
            },
            "header": {
             "fill": {
              "color": "#C8D4E3"
             },
             "line": {
              "color": "white"
             }
            },
            "type": "table"
           }
          ]
         },
         "layout": {
          "annotationdefaults": {
           "arrowcolor": "#2a3f5f",
           "arrowhead": 0,
           "arrowwidth": 1
          },
          "autotypenumbers": "strict",
          "coloraxis": {
           "colorbar": {
            "outlinewidth": 0,
            "ticks": ""
           }
          },
          "colorscale": {
           "diverging": [
            [
             0,
             "#8e0152"
            ],
            [
             0.1,
             "#c51b7d"
            ],
            [
             0.2,
             "#de77ae"
            ],
            [
             0.3,
             "#f1b6da"
            ],
            [
             0.4,
             "#fde0ef"
            ],
            [
             0.5,
             "#f7f7f7"
            ],
            [
             0.6,
             "#e6f5d0"
            ],
            [
             0.7,
             "#b8e186"
            ],
            [
             0.8,
             "#7fbc41"
            ],
            [
             0.9,
             "#4d9221"
            ],
            [
             1,
             "#276419"
            ]
           ],
           "sequential": [
            [
             0,
             "#0d0887"
            ],
            [
             0.1111111111111111,
             "#46039f"
            ],
            [
             0.2222222222222222,
             "#7201a8"
            ],
            [
             0.3333333333333333,
             "#9c179e"
            ],
            [
             0.4444444444444444,
             "#bd3786"
            ],
            [
             0.5555555555555556,
             "#d8576b"
            ],
            [
             0.6666666666666666,
             "#ed7953"
            ],
            [
             0.7777777777777778,
             "#fb9f3a"
            ],
            [
             0.8888888888888888,
             "#fdca26"
            ],
            [
             1,
             "#f0f921"
            ]
           ],
           "sequentialminus": [
            [
             0,
             "#0d0887"
            ],
            [
             0.1111111111111111,
             "#46039f"
            ],
            [
             0.2222222222222222,
             "#7201a8"
            ],
            [
             0.3333333333333333,
             "#9c179e"
            ],
            [
             0.4444444444444444,
             "#bd3786"
            ],
            [
             0.5555555555555556,
             "#d8576b"
            ],
            [
             0.6666666666666666,
             "#ed7953"
            ],
            [
             0.7777777777777778,
             "#fb9f3a"
            ],
            [
             0.8888888888888888,
             "#fdca26"
            ],
            [
             1,
             "#f0f921"
            ]
           ]
          },
          "colorway": [
           "#636efa",
           "#EF553B",
           "#00cc96",
           "#ab63fa",
           "#FFA15A",
           "#19d3f3",
           "#FF6692",
           "#B6E880",
           "#FF97FF",
           "#FECB52"
          ],
          "font": {
           "color": "#2a3f5f"
          },
          "geo": {
           "bgcolor": "white",
           "lakecolor": "white",
           "landcolor": "#E5ECF6",
           "showlakes": true,
           "showland": true,
           "subunitcolor": "white"
          },
          "hoverlabel": {
           "align": "left"
          },
          "hovermode": "closest",
          "mapbox": {
           "style": "light"
          },
          "paper_bgcolor": "white",
          "plot_bgcolor": "#E5ECF6",
          "polar": {
           "angularaxis": {
            "gridcolor": "white",
            "linecolor": "white",
            "ticks": ""
           },
           "bgcolor": "#E5ECF6",
           "radialaxis": {
            "gridcolor": "white",
            "linecolor": "white",
            "ticks": ""
           }
          },
          "scene": {
           "xaxis": {
            "backgroundcolor": "#E5ECF6",
            "gridcolor": "white",
            "gridwidth": 2,
            "linecolor": "white",
            "showbackground": true,
            "ticks": "",
            "zerolinecolor": "white"
           },
           "yaxis": {
            "backgroundcolor": "#E5ECF6",
            "gridcolor": "white",
            "gridwidth": 2,
            "linecolor": "white",
            "showbackground": true,
            "ticks": "",
            "zerolinecolor": "white"
           },
           "zaxis": {
            "backgroundcolor": "#E5ECF6",
            "gridcolor": "white",
            "gridwidth": 2,
            "linecolor": "white",
            "showbackground": true,
            "ticks": "",
            "zerolinecolor": "white"
           }
          },
          "shapedefaults": {
           "line": {
            "color": "#2a3f5f"
           }
          },
          "ternary": {
           "aaxis": {
            "gridcolor": "white",
            "linecolor": "white",
            "ticks": ""
           },
           "baxis": {
            "gridcolor": "white",
            "linecolor": "white",
            "ticks": ""
           },
           "bgcolor": "#E5ECF6",
           "caxis": {
            "gridcolor": "white",
            "linecolor": "white",
            "ticks": ""
           }
          },
          "title": {
           "x": 0.05
          },
          "xaxis": {
           "automargin": true,
           "gridcolor": "white",
           "linecolor": "white",
           "ticks": "",
           "title": {
            "standoff": 15
           },
           "zerolinecolor": "white",
           "zerolinewidth": 2
          },
          "yaxis": {
           "automargin": true,
           "gridcolor": "white",
           "linecolor": "white",
           "ticks": "",
           "title": {
            "standoff": 15
           },
           "zerolinecolor": "white",
           "zerolinewidth": 2
          }
         }
        },
        "xaxis": {
         "anchor": "y",
         "domain": [
          0,
          1
         ],
         "title": {
          "text": "manual ADR"
         }
        },
        "yaxis": {
         "anchor": "x",
         "domain": [
          0,
          1
         ],
         "title": {
          "text": "manual Occupancy"
         }
        }
       }
      },
      "text/html": [
       "<div>                            <div id=\"7bf2e799-a4a5-4dff-8f7f-89692dc3d044\" class=\"plotly-graph-div\" style=\"height:525px; width:100%;\"></div>            <script type=\"text/javascript\">                require([\"plotly\"], function(Plotly) {                    window.PLOTLYENV=window.PLOTLYENV || {};                                    if (document.getElementById(\"7bf2e799-a4a5-4dff-8f7f-89692dc3d044\")) {                    Plotly.newPlot(                        \"7bf2e799-a4a5-4dff-8f7f-89692dc3d044\",                        [{\"customdata\":[[null,\"https://www.airbnb.com/rooms/46038476\"],[\"Too fancy, comp won\\u2019t compare\",\"https://www.airbnb.com/rooms/54064539\"],[\"No Dynamic Pricing, looks like a house, not a cabin\",\"https://www.airbnb.com/rooms/52210633\"],[\"Bad Photos, On River\",\"https://www.airbnb.com/rooms/566008910384238034\"],[\"Owner Occupied, Poor Photos, Basement Apartment, Language Barrier\",\"https://www.airbnb.com/rooms/23960139\"],[\"New Listing, Underpriced, Bad Photos\",\"https://www.airbnb.com/rooms/732625739862507774\"],[\"Newer Listing\",\"https://www.airbnb.com/rooms/48258178\"],[\"In Town, updated\",\"https://www.airbnb.com/rooms/719625260995322512\"],[\"Superhost not vacasa or corporate\",\"https://www.airbnb.com/rooms/51149790\"],[\"Superhost not vacasa or corporate\",\"https://www.airbnb.com/rooms/26032476\"],[\"Superhost not vacasa or corporate\",\"https://www.airbnb.com/rooms/630394210952855297\"],[\"Superhost\",\"https://www.airbnb.com/rooms/36699088\"],[\"Superhost\",\"https://www.airbnb.com/rooms/48943693\"],[\"Ugly Old\",\"https://www.airbnb.com/rooms/53811926\"],[\"Looks Nice\",\"https://www.airbnb.com/rooms/49487409\"],[\"Nice, Superhost\",\"https://www.airbnb.com/rooms/36114880\"],[\"Superhost\",\"https://www.airbnb.com/rooms/23021070\"],[\"Superhost, good photos\",\"https://www.airbnb.com/rooms/46619467\"],[\"Expensive Furniture\",\"https://www.airbnb.com/rooms/557125827091662488\"],[\"Superhost, good furniture\",\"https://www.airbnb.com/rooms/49016675\"],[\"Superhost, condo community\",\"https://www.airbnb.com/rooms/23021100\"],[\"Superhost, by the beach\",\"https://www.airbnb.com/rooms/23352493\"],[\"Superhost\",\"https://www.airbnb.com/rooms/52735414\"],[\"Superhost, Nice Photos\",\"https://www.airbnb.com/rooms/666970338596390385\"],[\"On Stilts, Experience\",\"https://www.airbnb.com/rooms/50858816\"],[\"Fancy, Pro Photos\",\"https://www.airbnb.com/rooms/689441742434586212\"]],\"hovertemplate\":\"Host=Superhost<br>manual ADR=%{x}<br>manual Occupancy=%{y}<br>Notes=%{customdata[0]}<br>url=%{customdata[1]}<extra></extra>\",\"legendgroup\":\"Superhost\",\"marker\":{\"color\":\"#636efa\",\"symbol\":\"circle\"},\"mode\":\"markers\",\"name\":\"Superhost\",\"orientation\":\"v\",\"showlegend\":true,\"x\":[134.0,245.0,189.0,281.0,180.0,145.0,125.0,160.0,235.0,421.0,335.0,250.0,262.0,148.0,135.0,135.0,287.0,229.0,168.0,157.0,251.0,240.0,141.0,256.0,375.0,241.0],\"xaxis\":\"x\",\"y\":[0.903225806451613,0.645161290322581,0.645161290322581,0.451612903225806,0.483870967741936,0.709677419354839,0.612903225806452,0.451612903225806,0.838709677419355,0.225806451612903,0.387096774193548,0.161290322580645,0.483870967741936,0.258064516129032,0.67741935483871,0.645161290322581,0.483870967741936,0.225806451612903,0.612903225806452,0.645161290322581,0.645161290322581,0.903225806451613,0.612903225806452,0.47,0.2,0.290322580645161],\"yaxis\":\"y\",\"type\":\"scatter\"},{\"customdata\":[[\"Overpriced\",\"https://www.airbnb.com/rooms/45926314\"],[\"Ugly, No Dynamic Pricing\",\"https://www.airbnb.com/rooms/19908956\"],[\"Owner Occupied\",\"https://www.airbnb.com/rooms/768978483572927801\"],[\"On River\",\"https://www.airbnb.com/rooms/47389228\"],[\"Overpriced\",\"https://www.airbnb.com/rooms/27342797\"],[\"new listing\",\"https://www.airbnb.com/rooms/698544908100904679\"],[\"New Listing\",\"https://www.airbnb.com/rooms/878864519405589544\"],[\"Nonsuperhost\",\"https://www.airbnb.com/rooms/29740451\"]],\"hovertemplate\":\"Host=Regular<br>manual ADR=%{x}<br>manual Occupancy=%{y}<br>Notes=%{customdata[0]}<br>url=%{customdata[1]}<extra></extra>\",\"legendgroup\":\"Regular\",\"marker\":{\"color\":\"#EF553B\",\"symbol\":\"circle\"},\"mode\":\"markers\",\"name\":\"Regular\",\"orientation\":\"v\",\"showlegend\":true,\"x\":[375.0,145.0,270.0,200.0,257.0,205.0,168.0,254.0],\"xaxis\":\"x\",\"y\":[0.32258064516129,0.516129032258065,0.225806451612903,0.451612903225806,0.193548387096774,0.387096774193548,0.806451612903226,0.483870967741936],\"yaxis\":\"y\",\"type\":\"scatter\"},{\"customdata\":[[\"Evolve Management yields bad reviews\",\"https://www.airbnb.com/rooms/20889506\"],[\"Vacasa, bad reviews and cleaning\",\"https://www.airbnb.com/rooms/30071398\"],[\"Vacasa, bad reviews and cleaning\",\"https://www.airbnb.com/rooms/26051988\"],[\"Vacasa, very nice looking\",\"https://www.airbnb.com/rooms/847850412831339117\"],[\"Vacasa\",\"https://www.airbnb.com/rooms/572969241718961944\"],[\"Off Calendar\",\"https://www.airbnb.com/rooms/812259821220935977\"],[\"Corporation\",\"https://www.airbnb.com/rooms/46358968\"],[\"Corporation\",\"https://www.airbnb.com/rooms/46358968\"],[\"Too nice to comp\",\"https://www.airbnb.com/rooms/46466747\"],[\"Evolve Management yields bad reviews\",\"https://www.airbnb.com/rooms/47329399\"]],\"hovertemplate\":\"Host=Corporate<br>manual ADR=%{x}<br>manual Occupancy=%{y}<br>Notes=%{customdata[0]}<br>url=%{customdata[1]}<extra></extra>\",\"legendgroup\":\"Corporate\",\"marker\":{\"color\":\"#00cc96\",\"symbol\":\"circle\"},\"mode\":\"markers\",\"name\":\"Corporate\",\"orientation\":\"v\",\"showlegend\":true,\"x\":[255.0,171.0,186.0,210.0,190.0,null,276.0,267.0,360.0,173.0],\"xaxis\":\"x\",\"y\":[0.806451612903226,0.258064516129032,0.870967741935484,0.774193548387097,0.806451612903226,null,0.580645161290323,0.516129032258065,0.354838709677419,0.612903225806452],\"yaxis\":\"y\",\"type\":\"scatter\"}],                        {\"template\":{\"data\":{\"histogram2dcontour\":[{\"type\":\"histogram2dcontour\",\"colorbar\":{\"outlinewidth\":0,\"ticks\":\"\"},\"colorscale\":[[0.0,\"#0d0887\"],[0.1111111111111111,\"#46039f\"],[0.2222222222222222,\"#7201a8\"],[0.3333333333333333,\"#9c179e\"],[0.4444444444444444,\"#bd3786\"],[0.5555555555555556,\"#d8576b\"],[0.6666666666666666,\"#ed7953\"],[0.7777777777777778,\"#fb9f3a\"],[0.8888888888888888,\"#fdca26\"],[1.0,\"#f0f921\"]]}],\"choropleth\":[{\"type\":\"choropleth\",\"colorbar\":{\"outlinewidth\":0,\"ticks\":\"\"}}],\"histogram2d\":[{\"type\":\"histogram2d\",\"colorbar\":{\"outlinewidth\":0,\"ticks\":\"\"},\"colorscale\":[[0.0,\"#0d0887\"],[0.1111111111111111,\"#46039f\"],[0.2222222222222222,\"#7201a8\"],[0.3333333333333333,\"#9c179e\"],[0.4444444444444444,\"#bd3786\"],[0.5555555555555556,\"#d8576b\"],[0.6666666666666666,\"#ed7953\"],[0.7777777777777778,\"#fb9f3a\"],[0.8888888888888888,\"#fdca26\"],[1.0,\"#f0f921\"]]}],\"heatmap\":[{\"type\":\"heatmap\",\"colorbar\":{\"outlinewidth\":0,\"ticks\":\"\"},\"colorscale\":[[0.0,\"#0d0887\"],[0.1111111111111111,\"#46039f\"],[0.2222222222222222,\"#7201a8\"],[0.3333333333333333,\"#9c179e\"],[0.4444444444444444,\"#bd3786\"],[0.5555555555555556,\"#d8576b\"],[0.6666666666666666,\"#ed7953\"],[0.7777777777777778,\"#fb9f3a\"],[0.8888888888888888,\"#fdca26\"],[1.0,\"#f0f921\"]]}],\"heatmapgl\":[{\"type\":\"heatmapgl\",\"colorbar\":{\"outlinewidth\":0,\"ticks\":\"\"},\"colorscale\":[[0.0,\"#0d0887\"],[0.1111111111111111,\"#46039f\"],[0.2222222222222222,\"#7201a8\"],[0.3333333333333333,\"#9c179e\"],[0.4444444444444444,\"#bd3786\"],[0.5555555555555556,\"#d8576b\"],[0.6666666666666666,\"#ed7953\"],[0.7777777777777778,\"#fb9f3a\"],[0.8888888888888888,\"#fdca26\"],[1.0,\"#f0f921\"]]}],\"contourcarpet\":[{\"type\":\"contourcarpet\",\"colorbar\":{\"outlinewidth\":0,\"ticks\":\"\"}}],\"contour\":[{\"type\":\"contour\",\"colorbar\":{\"outlinewidth\":0,\"ticks\":\"\"},\"colorscale\":[[0.0,\"#0d0887\"],[0.1111111111111111,\"#46039f\"],[0.2222222222222222,\"#7201a8\"],[0.3333333333333333,\"#9c179e\"],[0.4444444444444444,\"#bd3786\"],[0.5555555555555556,\"#d8576b\"],[0.6666666666666666,\"#ed7953\"],[0.7777777777777778,\"#fb9f3a\"],[0.8888888888888888,\"#fdca26\"],[1.0,\"#f0f921\"]]}],\"surface\":[{\"type\":\"surface\",\"colorbar\":{\"outlinewidth\":0,\"ticks\":\"\"},\"colorscale\":[[0.0,\"#0d0887\"],[0.1111111111111111,\"#46039f\"],[0.2222222222222222,\"#7201a8\"],[0.3333333333333333,\"#9c179e\"],[0.4444444444444444,\"#bd3786\"],[0.5555555555555556,\"#d8576b\"],[0.6666666666666666,\"#ed7953\"],[0.7777777777777778,\"#fb9f3a\"],[0.8888888888888888,\"#fdca26\"],[1.0,\"#f0f921\"]]}],\"mesh3d\":[{\"type\":\"mesh3d\",\"colorbar\":{\"outlinewidth\":0,\"ticks\":\"\"}}],\"scatter\":[{\"fillpattern\":{\"fillmode\":\"overlay\",\"size\":10,\"solidity\":0.2},\"type\":\"scatter\"}],\"parcoords\":[{\"type\":\"parcoords\",\"line\":{\"colorbar\":{\"outlinewidth\":0,\"ticks\":\"\"}}}],\"scatterpolargl\":[{\"type\":\"scatterpolargl\",\"marker\":{\"colorbar\":{\"outlinewidth\":0,\"ticks\":\"\"}}}],\"bar\":[{\"error_x\":{\"color\":\"#2a3f5f\"},\"error_y\":{\"color\":\"#2a3f5f\"},\"marker\":{\"line\":{\"color\":\"#E5ECF6\",\"width\":0.5},\"pattern\":{\"fillmode\":\"overlay\",\"size\":10,\"solidity\":0.2}},\"type\":\"bar\"}],\"scattergeo\":[{\"type\":\"scattergeo\",\"marker\":{\"colorbar\":{\"outlinewidth\":0,\"ticks\":\"\"}}}],\"scatterpolar\":[{\"type\":\"scatterpolar\",\"marker\":{\"colorbar\":{\"outlinewidth\":0,\"ticks\":\"\"}}}],\"histogram\":[{\"marker\":{\"pattern\":{\"fillmode\":\"overlay\",\"size\":10,\"solidity\":0.2}},\"type\":\"histogram\"}],\"scattergl\":[{\"type\":\"scattergl\",\"marker\":{\"colorbar\":{\"outlinewidth\":0,\"ticks\":\"\"}}}],\"scatter3d\":[{\"type\":\"scatter3d\",\"line\":{\"colorbar\":{\"outlinewidth\":0,\"ticks\":\"\"}},\"marker\":{\"colorbar\":{\"outlinewidth\":0,\"ticks\":\"\"}}}],\"scattermapbox\":[{\"type\":\"scattermapbox\",\"marker\":{\"colorbar\":{\"outlinewidth\":0,\"ticks\":\"\"}}}],\"scatterternary\":[{\"type\":\"scatterternary\",\"marker\":{\"colorbar\":{\"outlinewidth\":0,\"ticks\":\"\"}}}],\"scattercarpet\":[{\"type\":\"scattercarpet\",\"marker\":{\"colorbar\":{\"outlinewidth\":0,\"ticks\":\"\"}}}],\"carpet\":[{\"aaxis\":{\"endlinecolor\":\"#2a3f5f\",\"gridcolor\":\"white\",\"linecolor\":\"white\",\"minorgridcolor\":\"white\",\"startlinecolor\":\"#2a3f5f\"},\"baxis\":{\"endlinecolor\":\"#2a3f5f\",\"gridcolor\":\"white\",\"linecolor\":\"white\",\"minorgridcolor\":\"white\",\"startlinecolor\":\"#2a3f5f\"},\"type\":\"carpet\"}],\"table\":[{\"cells\":{\"fill\":{\"color\":\"#EBF0F8\"},\"line\":{\"color\":\"white\"}},\"header\":{\"fill\":{\"color\":\"#C8D4E3\"},\"line\":{\"color\":\"white\"}},\"type\":\"table\"}],\"barpolar\":[{\"marker\":{\"line\":{\"color\":\"#E5ECF6\",\"width\":0.5},\"pattern\":{\"fillmode\":\"overlay\",\"size\":10,\"solidity\":0.2}},\"type\":\"barpolar\"}],\"pie\":[{\"automargin\":true,\"type\":\"pie\"}]},\"layout\":{\"autotypenumbers\":\"strict\",\"colorway\":[\"#636efa\",\"#EF553B\",\"#00cc96\",\"#ab63fa\",\"#FFA15A\",\"#19d3f3\",\"#FF6692\",\"#B6E880\",\"#FF97FF\",\"#FECB52\"],\"font\":{\"color\":\"#2a3f5f\"},\"hovermode\":\"closest\",\"hoverlabel\":{\"align\":\"left\"},\"paper_bgcolor\":\"white\",\"plot_bgcolor\":\"#E5ECF6\",\"polar\":{\"bgcolor\":\"#E5ECF6\",\"angularaxis\":{\"gridcolor\":\"white\",\"linecolor\":\"white\",\"ticks\":\"\"},\"radialaxis\":{\"gridcolor\":\"white\",\"linecolor\":\"white\",\"ticks\":\"\"}},\"ternary\":{\"bgcolor\":\"#E5ECF6\",\"aaxis\":{\"gridcolor\":\"white\",\"linecolor\":\"white\",\"ticks\":\"\"},\"baxis\":{\"gridcolor\":\"white\",\"linecolor\":\"white\",\"ticks\":\"\"},\"caxis\":{\"gridcolor\":\"white\",\"linecolor\":\"white\",\"ticks\":\"\"}},\"coloraxis\":{\"colorbar\":{\"outlinewidth\":0,\"ticks\":\"\"}},\"colorscale\":{\"sequential\":[[0.0,\"#0d0887\"],[0.1111111111111111,\"#46039f\"],[0.2222222222222222,\"#7201a8\"],[0.3333333333333333,\"#9c179e\"],[0.4444444444444444,\"#bd3786\"],[0.5555555555555556,\"#d8576b\"],[0.6666666666666666,\"#ed7953\"],[0.7777777777777778,\"#fb9f3a\"],[0.8888888888888888,\"#fdca26\"],[1.0,\"#f0f921\"]],\"sequentialminus\":[[0.0,\"#0d0887\"],[0.1111111111111111,\"#46039f\"],[0.2222222222222222,\"#7201a8\"],[0.3333333333333333,\"#9c179e\"],[0.4444444444444444,\"#bd3786\"],[0.5555555555555556,\"#d8576b\"],[0.6666666666666666,\"#ed7953\"],[0.7777777777777778,\"#fb9f3a\"],[0.8888888888888888,\"#fdca26\"],[1.0,\"#f0f921\"]],\"diverging\":[[0,\"#8e0152\"],[0.1,\"#c51b7d\"],[0.2,\"#de77ae\"],[0.3,\"#f1b6da\"],[0.4,\"#fde0ef\"],[0.5,\"#f7f7f7\"],[0.6,\"#e6f5d0\"],[0.7,\"#b8e186\"],[0.8,\"#7fbc41\"],[0.9,\"#4d9221\"],[1,\"#276419\"]]},\"xaxis\":{\"gridcolor\":\"white\",\"linecolor\":\"white\",\"ticks\":\"\",\"title\":{\"standoff\":15},\"zerolinecolor\":\"white\",\"automargin\":true,\"zerolinewidth\":2},\"yaxis\":{\"gridcolor\":\"white\",\"linecolor\":\"white\",\"ticks\":\"\",\"title\":{\"standoff\":15},\"zerolinecolor\":\"white\",\"automargin\":true,\"zerolinewidth\":2},\"scene\":{\"xaxis\":{\"backgroundcolor\":\"#E5ECF6\",\"gridcolor\":\"white\",\"linecolor\":\"white\",\"showbackground\":true,\"ticks\":\"\",\"zerolinecolor\":\"white\",\"gridwidth\":2},\"yaxis\":{\"backgroundcolor\":\"#E5ECF6\",\"gridcolor\":\"white\",\"linecolor\":\"white\",\"showbackground\":true,\"ticks\":\"\",\"zerolinecolor\":\"white\",\"gridwidth\":2},\"zaxis\":{\"backgroundcolor\":\"#E5ECF6\",\"gridcolor\":\"white\",\"linecolor\":\"white\",\"showbackground\":true,\"ticks\":\"\",\"zerolinecolor\":\"white\",\"gridwidth\":2}},\"shapedefaults\":{\"line\":{\"color\":\"#2a3f5f\"}},\"annotationdefaults\":{\"arrowcolor\":\"#2a3f5f\",\"arrowhead\":0,\"arrowwidth\":1},\"geo\":{\"bgcolor\":\"white\",\"landcolor\":\"#E5ECF6\",\"subunitcolor\":\"white\",\"showland\":true,\"showlakes\":true,\"lakecolor\":\"white\"},\"title\":{\"x\":0.05},\"mapbox\":{\"style\":\"light\"}}},\"xaxis\":{\"anchor\":\"y\",\"domain\":[0.0,1.0],\"title\":{\"text\":\"manual ADR\"}},\"yaxis\":{\"anchor\":\"x\",\"domain\":[0.0,1.0],\"title\":{\"text\":\"manual Occupancy\"}},\"legend\":{\"title\":{\"text\":\"Host\"},\"tracegroupgap\":0},\"margin\":{\"t\":60},\"shapes\":[{\"type\":\"line\",\"x0\":0,\"x1\":500,\"y0\":0.837607,\"y1\":0.147107}]},                        {\"responsive\": true}                    ).then(function(){\n",
       "                            \n",
       "var gd = document.getElementById('7bf2e799-a4a5-4dff-8f7f-89692dc3d044');\n",
       "var x = new MutationObserver(function (mutations, observer) {{\n",
       "        var display = window.getComputedStyle(gd).display;\n",
       "        if (!display || display === 'none') {{\n",
       "            console.log([gd, 'removed!']);\n",
       "            Plotly.purge(gd);\n",
       "            observer.disconnect();\n",
       "        }}\n",
       "}});\n",
       "\n",
       "// Listen for the removal of the full notebook cells\n",
       "var notebookContainer = gd.closest('#notebook-container');\n",
       "if (notebookContainer) {{\n",
       "    x.observe(notebookContainer, {childList: true});\n",
       "}}\n",
       "\n",
       "// Listen for the clearing of the current output cell\n",
       "var outputEl = gd.closest('.output');\n",
       "if (outputEl) {{\n",
       "    x.observe(outputEl, {childList: true});\n",
       "}}\n",
       "\n",
       "                        })                };                });            </script>        </div>"
      ]
     },
     "metadata": {},
     "output_type": "display_data"
    },
    {
     "data": {
      "application/javascript": [
       "\n",
       "            setTimeout(function() {\n",
       "                var nbb_cell_id = 67;\n",
       "                var nbb_unformatted_code = \"fig = px.scatter(\\n    comps,\\n    y=\\\"manual Occupancy\\\",\\n    x=\\\"manual ADR\\\",\\n    color=\\\"Host\\\",\\n    hover_data=[\\\"Notes\\\", \\\"url\\\"],\\n)\\nfig.add_shape(\\n    type=\\\"line\\\",\\n    x0=0,\\n    y0=0.837607,\\n    x1=500,\\n    y1=0.837607 + 500 * -0.001381,\\n)\\nfig.show()\";\n",
       "                var nbb_formatted_code = \"fig = px.scatter(\\n    comps,\\n    y=\\\"manual Occupancy\\\",\\n    x=\\\"manual ADR\\\",\\n    color=\\\"Host\\\",\\n    hover_data=[\\\"Notes\\\", \\\"url\\\"],\\n)\\nfig.add_shape(\\n    type=\\\"line\\\",\\n    x0=0,\\n    y0=0.837607,\\n    x1=500,\\n    y1=0.837607 + 500 * -0.001381,\\n)\\nfig.show()\";\n",
       "                var nbb_cells = Jupyter.notebook.get_cells();\n",
       "                for (var i = 0; i < nbb_cells.length; ++i) {\n",
       "                    if (nbb_cells[i].input_prompt_number == nbb_cell_id) {\n",
       "                        if (nbb_cells[i].get_text() == nbb_unformatted_code) {\n",
       "                             nbb_cells[i].set_text(nbb_formatted_code);\n",
       "                        }\n",
       "                        break;\n",
       "                    }\n",
       "                }\n",
       "            }, 500);\n",
       "            "
      ],
      "text/plain": [
       "<IPython.core.display.Javascript object>"
      ]
     },
     "metadata": {},
     "output_type": "display_data"
    }
   ],
   "source": [
    "fig = px.scatter(\n",
    "    comps,\n",
    "    y=\"manual Occupancy\",\n",
    "    x=\"manual ADR\",\n",
    "    color=\"Host\",\n",
    "    hover_data=[\"Notes\", \"url\"],\n",
    ")\n",
    "fig.add_shape(\n",
    "    type=\"line\",\n",
    "    x0=0,\n",
    "    y0=0.837607,\n",
    "    x1=500,\n",
    "    y1=0.837607 + 500 * -0.001381,\n",
    ")\n",
    "fig.show()"
   ]
  },
  {
   "cell_type": "code",
   "execution_count": 66,
   "id": "1ecd58ec",
   "metadata": {},
   "outputs": [
    {
     "data": {
      "text/plain": [
       "const         0.837607\n",
       "manual ADR   -0.001381\n",
       "dtype: float64"
      ]
     },
     "execution_count": 66,
     "metadata": {},
     "output_type": "execute_result"
    },
    {
     "data": {
      "application/javascript": [
       "\n",
       "            setTimeout(function() {\n",
       "                var nbb_cell_id = 66;\n",
       "                var nbb_unformatted_code = \"res.params\";\n",
       "                var nbb_formatted_code = \"res.params\";\n",
       "                var nbb_cells = Jupyter.notebook.get_cells();\n",
       "                for (var i = 0; i < nbb_cells.length; ++i) {\n",
       "                    if (nbb_cells[i].input_prompt_number == nbb_cell_id) {\n",
       "                        if (nbb_cells[i].get_text() == nbb_unformatted_code) {\n",
       "                             nbb_cells[i].set_text(nbb_formatted_code);\n",
       "                        }\n",
       "                        break;\n",
       "                    }\n",
       "                }\n",
       "            }, 500);\n",
       "            "
      ],
      "text/plain": [
       "<IPython.core.display.Javascript object>"
      ]
     },
     "metadata": {},
     "output_type": "display_data"
    }
   ],
   "source": [
    "res.params"
   ]
  },
  {
   "cell_type": "code",
   "execution_count": 68,
   "id": "05ac75e4",
   "metadata": {},
   "outputs": [
    {
     "name": "stdout",
     "output_type": "stream",
     "text": [
      "303.26104272266474\n",
      "0.41880349999999994\n"
     ]
    },
    {
     "data": {
      "application/javascript": [
       "\n",
       "            setTimeout(function() {\n",
       "                var nbb_cell_id = 68;\n",
       "                var nbb_unformatted_code = \"p_opt = -0.837607 / (2 * -0.001381)\\nprint(p_opt)\\nocc_opt = 0.837607 -0.001381 * p_opt\\nprint(occ_opt)\";\n",
       "                var nbb_formatted_code = \"p_opt = -0.837607 / (2 * -0.001381)\\nprint(p_opt)\\nocc_opt = 0.837607 - 0.001381 * p_opt\\nprint(occ_opt)\";\n",
       "                var nbb_cells = Jupyter.notebook.get_cells();\n",
       "                for (var i = 0; i < nbb_cells.length; ++i) {\n",
       "                    if (nbb_cells[i].input_prompt_number == nbb_cell_id) {\n",
       "                        if (nbb_cells[i].get_text() == nbb_unformatted_code) {\n",
       "                             nbb_cells[i].set_text(nbb_formatted_code);\n",
       "                        }\n",
       "                        break;\n",
       "                    }\n",
       "                }\n",
       "            }, 500);\n",
       "            "
      ],
      "text/plain": [
       "<IPython.core.display.Javascript object>"
      ]
     },
     "metadata": {},
     "output_type": "display_data"
    }
   ],
   "source": [
    "p_opt = -0.837607 / (2 * -0.001381)\n",
    "print(p_opt)\n",
    "occ_opt = 0.837607 - 0.001381 * p_opt\n",
    "print(occ_opt)"
   ]
  },
  {
   "cell_type": "code",
   "execution_count": 69,
   "id": "12c0ad13",
   "metadata": {},
   "outputs": [
    {
     "data": {
      "text/plain": [
       "<matplotlib.collections.PathCollection at 0x7f7936bf6530>"
      ]
     },
     "execution_count": 69,
     "metadata": {},
     "output_type": "execute_result"
    },
    {
     "data": {
      "image/png": "[encoded data removed]",
      "text/plain": [
       "<Figure size 1260x504 with 1 Axes>"
      ]
     },
     "metadata": {
      "needs_background": "light"
     },
     "output_type": "display_data"
    },
    {
     "data": {
      "application/javascript": [
       "\n",
       "            setTimeout(function() {\n",
       "                var nbb_cell_id = 69;\n",
       "                var nbb_unformatted_code = \"price_grid = np.linspace(0, 500, 10000)\\nX_grid = pd.DataFrame({\\\"const\\\": 1.0, \\\"manual ADR\\\": price_grid})\\nocc_grid = res.predict(X_grid)\\nrev_grid = price_grid * occ_grid\\nplt.plot(price_grid, 0.8 * rev_grid)\\nplt.scatter(p_opt, 0.8 * p_opt * occ_opt, color=\\\"red\\\", s=100)\";\n",
       "                var nbb_formatted_code = \"price_grid = np.linspace(0, 500, 10000)\\nX_grid = pd.DataFrame({\\\"const\\\": 1.0, \\\"manual ADR\\\": price_grid})\\nocc_grid = res.predict(X_grid)\\nrev_grid = price_grid * occ_grid\\nplt.plot(price_grid, 0.8 * rev_grid)\\nplt.scatter(p_opt, 0.8 * p_opt * occ_opt, color=\\\"red\\\", s=100)\";\n",
       "                var nbb_cells = Jupyter.notebook.get_cells();\n",
       "                for (var i = 0; i < nbb_cells.length; ++i) {\n",
       "                    if (nbb_cells[i].input_prompt_number == nbb_cell_id) {\n",
       "                        if (nbb_cells[i].get_text() == nbb_unformatted_code) {\n",
       "                             nbb_cells[i].set_text(nbb_formatted_code);\n",
       "                        }\n",
       "                        break;\n",
       "                    }\n",
       "                }\n",
       "            }, 500);\n",
       "            "
      ],
      "text/plain": [
       "<IPython.core.display.Javascript object>"
      ]
     },
     "metadata": {},
     "output_type": "display_data"
    }
   ],
   "source": [
    "price_grid = np.linspace(0, 500, 10000)\n",
    "X_grid = pd.DataFrame({\"const\": 1.0, \"manual ADR\": price_grid})\n",
    "occ_grid = res.predict(X_grid)\n",
    "rev_grid = price_grid * occ_grid\n",
    "plt.plot(price_grid, 0.8 * rev_grid)\n",
    "plt.scatter(p_opt, 0.8 * p_opt * occ_opt, color=\"red\", s=100)"
   ]
  },
  {
   "cell_type": "code",
   "execution_count": 70,
   "id": "3cadccfe",
   "metadata": {},
   "outputs": [
    {
     "data": {
      "text/plain": [
       "101.6054288847212"
      ]
     },
     "execution_count": 70,
     "metadata": {},
     "output_type": "execute_result"
    },
    {
     "data": {
      "application/javascript": [
       "\n",
       "            setTimeout(function() {\n",
       "                var nbb_cell_id = 70;\n",
       "                var nbb_unformatted_code = \"0.8 * p_opt * occ_opt\";\n",
       "                var nbb_formatted_code = \"0.8 * p_opt * occ_opt\";\n",
       "                var nbb_cells = Jupyter.notebook.get_cells();\n",
       "                for (var i = 0; i < nbb_cells.length; ++i) {\n",
       "                    if (nbb_cells[i].input_prompt_number == nbb_cell_id) {\n",
       "                        if (nbb_cells[i].get_text() == nbb_unformatted_code) {\n",
       "                             nbb_cells[i].set_text(nbb_formatted_code);\n",
       "                        }\n",
       "                        break;\n",
       "                    }\n",
       "                }\n",
       "            }, 500);\n",
       "            "
      ],
      "text/plain": [
       "<IPython.core.display.Javascript object>"
      ]
     },
     "metadata": {},
     "output_type": "display_data"
    }
   ],
   "source": [
    "0.8 * p_opt * occ_opt"
   ]
  },
  {
   "cell_type": "markdown",
   "id": "1e7adced",
   "metadata": {},
   "source": [
    "## Logistic Regression"
   ]
  },
  {
   "cell_type": "code",
   "execution_count": 74,
   "id": "fc07ed0d",
   "metadata": {},
   "outputs": [
    {
     "data": {
      "text/plain": [
       "<AxesSubplot: xlabel='manual ADR', ylabel='inv_logit_occ'>"
      ]
     },
     "execution_count": 74,
     "metadata": {},
     "output_type": "execute_result"
    },
    {
     "data": {
      "image/png": "[encoded data removed]",
      "text/plain": [
       "<Figure size 1260x504 with 1 Axes>"
      ]
     },
     "metadata": {
      "needs_background": "light"
     },
     "output_type": "display_data"
    },
    {
     "data": {
      "application/javascript": [
       "\n",
       "            setTimeout(function() {\n",
       "                var nbb_cell_id = 74;\n",
       "                var nbb_unformatted_code = \"mod_data[\\\"inv_logit_occ\\\"] = np.log(\\n    mod_data[\\\"manual Occupancy\\\"] / (1 - mod_data[\\\"manual Occupancy\\\"])\\n)\\nsns.lineplot(data=mod_data, x=\\\"manual ADR\\\", y=\\\"inv_logit_occ\\\", marker=\\\"o\\\")\";\n",
       "                var nbb_formatted_code = \"mod_data[\\\"inv_logit_occ\\\"] = np.log(\\n    mod_data[\\\"manual Occupancy\\\"] / (1 - mod_data[\\\"manual Occupancy\\\"])\\n)\\nsns.lineplot(data=mod_data, x=\\\"manual ADR\\\", y=\\\"inv_logit_occ\\\", marker=\\\"o\\\")\";\n",
       "                var nbb_cells = Jupyter.notebook.get_cells();\n",
       "                for (var i = 0; i < nbb_cells.length; ++i) {\n",
       "                    if (nbb_cells[i].input_prompt_number == nbb_cell_id) {\n",
       "                        if (nbb_cells[i].get_text() == nbb_unformatted_code) {\n",
       "                             nbb_cells[i].set_text(nbb_formatted_code);\n",
       "                        }\n",
       "                        break;\n",
       "                    }\n",
       "                }\n",
       "            }, 500);\n",
       "            "
      ],
      "text/plain": [
       "<IPython.core.display.Javascript object>"
      ]
     },
     "metadata": {},
     "output_type": "display_data"
    }
   ],
   "source": [
    "mod_data[\"inv_logit_occ\"] = np.log(\n",
    "    mod_data[\"manual Occupancy\"] / (1 - mod_data[\"manual Occupancy\"])\n",
    ")\n",
    "sns.lineplot(data=mod_data, x=\"manual ADR\", y=\"inv_logit_occ\", marker=\"o\")"
   ]
  },
  {
   "cell_type": "code",
   "execution_count": 75,
   "id": "b43be482",
   "metadata": {},
   "outputs": [
    {
     "data": {
      "text/plain": [
       "array([[28,  3],\n",
       "       [20, 11],\n",
       "       [20, 11],\n",
       "       [13, 18],\n",
       "       [15, 16],\n",
       "       [ 9, 22],\n",
       "       [25,  6],\n",
       "       [ 7, 24],\n",
       "       [16, 15],\n",
       "       [22,  9]])"
      ]
     },
     "execution_count": 75,
     "metadata": {},
     "output_type": "execute_result"
    },
    {
     "data": {
      "application/javascript": [
       "\n",
       "            setTimeout(function() {\n",
       "                var nbb_cell_id = 75;\n",
       "                var nbb_unformatted_code = \"nights_occupied = (mod_data[\\\"manual Occupancy\\\"] * 31).astype(int)\\nnights_vacant = 31 - nights_occupied\\ny_glm = np.c_[nights_occupied, nights_vacant]\\ny_glm[0:10]\";\n",
       "                var nbb_formatted_code = \"nights_occupied = (mod_data[\\\"manual Occupancy\\\"] * 31).astype(int)\\nnights_vacant = 31 - nights_occupied\\ny_glm = np.c_[nights_occupied, nights_vacant]\\ny_glm[0:10]\";\n",
       "                var nbb_cells = Jupyter.notebook.get_cells();\n",
       "                for (var i = 0; i < nbb_cells.length; ++i) {\n",
       "                    if (nbb_cells[i].input_prompt_number == nbb_cell_id) {\n",
       "                        if (nbb_cells[i].get_text() == nbb_unformatted_code) {\n",
       "                             nbb_cells[i].set_text(nbb_formatted_code);\n",
       "                        }\n",
       "                        break;\n",
       "                    }\n",
       "                }\n",
       "            }, 500);\n",
       "            "
      ],
      "text/plain": [
       "<IPython.core.display.Javascript object>"
      ]
     },
     "metadata": {},
     "output_type": "display_data"
    }
   ],
   "source": [
    "nights_occupied = (mod_data[\"manual Occupancy\"] * 31).astype(int)\n",
    "nights_vacant = 31 - nights_occupied\n",
    "y_glm = np.c_[nights_occupied, nights_vacant]\n",
    "y_glm[0:10]"
   ]
  },
  {
   "cell_type": "code",
   "execution_count": 76,
   "id": "86e9d2fb",
   "metadata": {},
   "outputs": [
    {
     "data": {
      "application/javascript": [
       "\n",
       "            setTimeout(function() {\n",
       "                var nbb_cell_id = 76;\n",
       "                var nbb_unformatted_code = \"glm_mod_matrix = sm.add_constant(X[\\\"manual ADR\\\"])\\nglm_mod = sm.GLM(y_glm, glm_mod_matrix, family=sm.families.Binomial())\\nglm_res = glm_mod.fit()\";\n",
       "                var nbb_formatted_code = \"glm_mod_matrix = sm.add_constant(X[\\\"manual ADR\\\"])\\nglm_mod = sm.GLM(y_glm, glm_mod_matrix, family=sm.families.Binomial())\\nglm_res = glm_mod.fit()\";\n",
       "                var nbb_cells = Jupyter.notebook.get_cells();\n",
       "                for (var i = 0; i < nbb_cells.length; ++i) {\n",
       "                    if (nbb_cells[i].input_prompt_number == nbb_cell_id) {\n",
       "                        if (nbb_cells[i].get_text() == nbb_unformatted_code) {\n",
       "                             nbb_cells[i].set_text(nbb_formatted_code);\n",
       "                        }\n",
       "                        break;\n",
       "                    }\n",
       "                }\n",
       "            }, 500);\n",
       "            "
      ],
      "text/plain": [
       "<IPython.core.display.Javascript object>"
      ]
     },
     "metadata": {},
     "output_type": "display_data"
    }
   ],
   "source": [
    "glm_mod_matrix = sm.add_constant(X[\"manual ADR\"])\n",
    "glm_mod = sm.GLM(y_glm, glm_mod_matrix, family=sm.families.Binomial())\n",
    "glm_res = glm_mod.fit()"
   ]
  },
  {
   "cell_type": "code",
   "execution_count": 77,
   "id": "46b19f6f",
   "metadata": {},
   "outputs": [
    {
     "data": {
      "text/html": [
       "<table class=\"simpletable\">\n",
       "<caption>Generalized Linear Model Regression Results</caption>\n",
       "<tr>\n",
       "  <th>Dep. Variable:</th>     <td>['y1', 'y2']</td>   <th>  No. Observations:  </th>  <td>    43</td> \n",
       "</tr>\n",
       "<tr>\n",
       "  <th>Model:</th>                  <td>GLM</td>       <th>  Df Residuals:      </th>  <td>    41</td> \n",
       "</tr>\n",
       "<tr>\n",
       "  <th>Model Family:</th>        <td>Binomial</td>     <th>  Df Model:          </th>  <td>     1</td> \n",
       "</tr>\n",
       "<tr>\n",
       "  <th>Link Function:</th>         <td>Logit</td>      <th>  Scale:             </th> <td>  1.0000</td>\n",
       "</tr>\n",
       "<tr>\n",
       "  <th>Method:</th>                <td>IRLS</td>       <th>  Log-Likelihood:    </th> <td> -191.92</td>\n",
       "</tr>\n",
       "<tr>\n",
       "  <th>Date:</th>            <td>Mon, 17 Jul 2023</td> <th>  Deviance:          </th> <td>  226.91</td>\n",
       "</tr>\n",
       "<tr>\n",
       "  <th>Time:</th>                <td>23:12:41</td>     <th>  Pearson chi2:      </th>  <td>  212.</td> \n",
       "</tr>\n",
       "<tr>\n",
       "  <th>No. Iterations:</th>          <td>4</td>        <th>  Pseudo R-squ. (CS):</th>  <td>0.7553</td> \n",
       "</tr>\n",
       "<tr>\n",
       "  <th>Covariance Type:</th>     <td>nonrobust</td>    <th>                     </th>     <td> </td>   \n",
       "</tr>\n",
       "</table>\n",
       "<table class=\"simpletable\">\n",
       "<tr>\n",
       "       <td></td>         <th>coef</th>     <th>std err</th>      <th>z</th>      <th>P>|z|</th>  <th>[0.025</th>    <th>0.975]</th>  \n",
       "</tr>\n",
       "<tr>\n",
       "  <th>const</th>      <td>    1.4337</td> <td>    0.190</td> <td>    7.533</td> <td> 0.000</td> <td>    1.061</td> <td>    1.807</td>\n",
       "</tr>\n",
       "<tr>\n",
       "  <th>manual ADR</th> <td>   -0.0061</td> <td>    0.001</td> <td>   -7.526</td> <td> 0.000</td> <td>   -0.008</td> <td>   -0.005</td>\n",
       "</tr>\n",
       "</table>"
      ],
      "text/plain": [
       "<class 'statsmodels.iolib.summary.Summary'>\n",
       "\"\"\"\n",
       "                 Generalized Linear Model Regression Results                  \n",
       "==============================================================================\n",
       "Dep. Variable:           ['y1', 'y2']   No. Observations:                   43\n",
       "Model:                            GLM   Df Residuals:                       41\n",
       "Model Family:                Binomial   Df Model:                            1\n",
       "Link Function:                  Logit   Scale:                          1.0000\n",
       "Method:                          IRLS   Log-Likelihood:                -191.92\n",
       "Date:                Mon, 17 Jul 2023   Deviance:                       226.91\n",
       "Time:                        23:12:41   Pearson chi2:                     212.\n",
       "No. Iterations:                     4   Pseudo R-squ. (CS):             0.7553\n",
       "Covariance Type:            nonrobust                                         \n",
       "==============================================================================\n",
       "                 coef    std err          z      P>|z|      [0.025      0.975]\n",
       "------------------------------------------------------------------------------\n",
       "const          1.4337      0.190      7.533      0.000       1.061       1.807\n",
       "manual ADR    -0.0061      0.001     -7.526      0.000      -0.008      -0.005\n",
       "==============================================================================\n",
       "\"\"\""
      ]
     },
     "execution_count": 77,
     "metadata": {},
     "output_type": "execute_result"
    },
    {
     "data": {
      "application/javascript": [
       "\n",
       "            setTimeout(function() {\n",
       "                var nbb_cell_id = 77;\n",
       "                var nbb_unformatted_code = \"glm_res.summary()\";\n",
       "                var nbb_formatted_code = \"glm_res.summary()\";\n",
       "                var nbb_cells = Jupyter.notebook.get_cells();\n",
       "                for (var i = 0; i < nbb_cells.length; ++i) {\n",
       "                    if (nbb_cells[i].input_prompt_number == nbb_cell_id) {\n",
       "                        if (nbb_cells[i].get_text() == nbb_unformatted_code) {\n",
       "                             nbb_cells[i].set_text(nbb_formatted_code);\n",
       "                        }\n",
       "                        break;\n",
       "                    }\n",
       "                }\n",
       "            }, 500);\n",
       "            "
      ],
      "text/plain": [
       "<IPython.core.display.Javascript object>"
      ]
     },
     "metadata": {},
     "output_type": "display_data"
    }
   ],
   "source": [
    "glm_res.summary()"
   ]
  },
  {
   "cell_type": "code",
   "execution_count": 79,
   "id": "e1c34c1d",
   "metadata": {},
   "outputs": [
    {
     "data": {
      "text/plain": [
       "const         1.433701\n",
       "manual ADR   -0.006114\n",
       "dtype: float64"
      ]
     },
     "execution_count": 79,
     "metadata": {},
     "output_type": "execute_result"
    },
    {
     "data": {
      "application/javascript": [
       "\n",
       "            setTimeout(function() {\n",
       "                var nbb_cell_id = 79;\n",
       "                var nbb_unformatted_code = \"glm_int = glm_res.params.loc['const']\\nglm_slope = glm_res.params.loc['manual ADR']\\nglm_res.params\";\n",
       "                var nbb_formatted_code = \"glm_int = glm_res.params.loc[\\\"const\\\"]\\nglm_slope = glm_res.params.loc[\\\"manual ADR\\\"]\\nglm_res.params\";\n",
       "                var nbb_cells = Jupyter.notebook.get_cells();\n",
       "                for (var i = 0; i < nbb_cells.length; ++i) {\n",
       "                    if (nbb_cells[i].input_prompt_number == nbb_cell_id) {\n",
       "                        if (nbb_cells[i].get_text() == nbb_unformatted_code) {\n",
       "                             nbb_cells[i].set_text(nbb_formatted_code);\n",
       "                        }\n",
       "                        break;\n",
       "                    }\n",
       "                }\n",
       "            }, 500);\n",
       "            "
      ],
      "text/plain": [
       "<IPython.core.display.Javascript object>"
      ]
     },
     "metadata": {},
     "output_type": "display_data"
    }
   ],
   "source": [
    "glm_int = glm_res.params.loc[\"const\"]\n",
    "glm_slope = glm_res.params.loc[\"manual ADR\"]\n",
    "glm_res.params"
   ]
  },
  {
   "cell_type": "code",
   "execution_count": 86,
   "id": "c3b0e5a6",
   "metadata": {},
   "outputs": [
    {
     "data": {
      "text/plain": [
       "[<matplotlib.lines.Line2D at 0x7f792c7ba3e0>]"
      ]
     },
     "execution_count": 86,
     "metadata": {},
     "output_type": "execute_result"
    },
    {
     "data": {
      "image/png": "[encoded data removed]",
      "text/plain": [
       "<Figure size 1260x504 with 2 Axes>"
      ]
     },
     "metadata": {
      "needs_background": "light"
     },
     "output_type": "display_data"
    },
    {
     "data": {
      "application/javascript": [
       "\n",
       "            setTimeout(function() {\n",
       "                var nbb_cell_id = 86;\n",
       "                var nbb_unformatted_code = \"price_grid = np.linspace(100, 500, 4000)\\nlogit_grid = glm_int + glm_slope * price_grid\\ndemand_grid = 1 / (1 + np.exp(-(logit_grid)))\\nrev_grid = price_grid * demand_grid\\n\\nfig, (ax1, ax2) = plt.subplots(2, 1)\\nlogit_df = pd.DataFrame(\\n    {\\n        \\\"price\\\": np.linspace(100, 500, 4000),\\n        \\\"logit_demand\\\": np.array(\\n            [glm_int + glm_slope * x for x in np.linspace(100, 500, 4000)]\\n        ),\\n    }\\n)\\nsns.lineplot(data=mod_data, x=\\\"manual ADR\\\", y=\\\"inv_logit_occ\\\", marker=\\\"o\\\", ax=ax1)\\nsns.lineplot(data=logit_df, x=\\\"price\\\", y=\\\"logit_demand\\\", ax=ax1)\\n\\nax2.plot(price_grid, rev_grid)\";\n",
       "                var nbb_formatted_code = \"price_grid = np.linspace(100, 500, 4000)\\nlogit_grid = glm_int + glm_slope * price_grid\\ndemand_grid = 1 / (1 + np.exp(-(logit_grid)))\\nrev_grid = price_grid * demand_grid\\n\\nfig, (ax1, ax2) = plt.subplots(2, 1)\\nlogit_df = pd.DataFrame(\\n    {\\n        \\\"price\\\": np.linspace(100, 500, 4000),\\n        \\\"logit_demand\\\": np.array(\\n            [glm_int + glm_slope * x for x in np.linspace(100, 500, 4000)]\\n        ),\\n    }\\n)\\nsns.lineplot(data=mod_data, x=\\\"manual ADR\\\", y=\\\"inv_logit_occ\\\", marker=\\\"o\\\", ax=ax1)\\nsns.lineplot(data=logit_df, x=\\\"price\\\", y=\\\"logit_demand\\\", ax=ax1)\\n\\nax2.plot(price_grid, rev_grid)\";\n",
       "                var nbb_cells = Jupyter.notebook.get_cells();\n",
       "                for (var i = 0; i < nbb_cells.length; ++i) {\n",
       "                    if (nbb_cells[i].input_prompt_number == nbb_cell_id) {\n",
       "                        if (nbb_cells[i].get_text() == nbb_unformatted_code) {\n",
       "                             nbb_cells[i].set_text(nbb_formatted_code);\n",
       "                        }\n",
       "                        break;\n",
       "                    }\n",
       "                }\n",
       "            }, 500);\n",
       "            "
      ],
      "text/plain": [
       "<IPython.core.display.Javascript object>"
      ]
     },
     "metadata": {},
     "output_type": "display_data"
    }
   ],
   "source": [
    "price_grid = np.linspace(100, 500, 4000)\n",
    "logit_grid = glm_int + glm_slope * price_grid\n",
    "demand_grid = 1 / (1 + np.exp(-(logit_grid)))\n",
    "rev_grid = price_grid * demand_grid\n",
    "\n",
    "fig, (ax1, ax2) = plt.subplots(2, 1)\n",
    "logit_df = pd.DataFrame(\n",
    "    {\n",
    "        \"price\": np.linspace(100, 500, 4000),\n",
    "        \"logit_demand\": np.array(\n",
    "            [glm_int + glm_slope * x for x in np.linspace(100, 500, 4000)]\n",
    "        ),\n",
    "    }\n",
    ")\n",
    "sns.lineplot(data=mod_data, x=\"manual ADR\", y=\"inv_logit_occ\", marker=\"o\", ax=ax1)\n",
    "sns.lineplot(data=logit_df, x=\"price\", y=\"logit_demand\", ax=ax1)\n",
    "\n",
    "ax2.plot(price_grid, rev_grid)"
   ]
  },
  {
   "cell_type": "code",
   "execution_count": 45,
   "id": "8d975740",
   "metadata": {},
   "outputs": [
    {
     "data": {
      "text/plain": [
       "[<matplotlib.lines.Line2D at 0x7f7931f50490>]"
      ]
     },
     "execution_count": 45,
     "metadata": {},
     "output_type": "execute_result"
    },
    {
     "data": {
      "image/png": "[encoded data removed]",
      "text/plain": [
       "<Figure size 1008x504 with 1 Axes>"
      ]
     },
     "metadata": {
      "needs_background": "light"
     },
     "output_type": "display_data"
    },
    {
     "data": {
      "application/javascript": [
       "\n",
       "            setTimeout(function() {\n",
       "                var nbb_cell_id = 45;\n",
       "                var nbb_unformatted_code = \"price_grid\\ndemand_grid_hat = 1 / (1 + np.exp(-1 * (1.03 - 0.0039 * price_grid)))\\nrev_grid_hat = price_grid * demand_grid_hat\\nindex_star = np.argmax(rev_grid_hat)\\nprice_star = price_grid[index_star]\\nrev_star = rev_grid[index_star]\\nplt.plot(price_grid, demand_grid_hat)\\n# occupancy_pred = 1 / (1 + np.exp(-(1.00300 - 0.0039 * np.linspace(0, 501, 500))))\";\n",
       "                var nbb_formatted_code = \"price_grid\\ndemand_grid_hat = 1 / (1 + np.exp(-1 * (1.03 - 0.0039 * price_grid)))\\nrev_grid_hat = price_grid * demand_grid_hat\\nindex_star = np.argmax(rev_grid_hat)\\nprice_star = price_grid[index_star]\\nrev_star = rev_grid[index_star]\\nplt.plot(price_grid, demand_grid_hat)\\n# occupancy_pred = 1 / (1 + np.exp(-(1.00300 - 0.0039 * np.linspace(0, 501, 500))))\";\n",
       "                var nbb_cells = Jupyter.notebook.get_cells();\n",
       "                for (var i = 0; i < nbb_cells.length; ++i) {\n",
       "                    if (nbb_cells[i].input_prompt_number == nbb_cell_id) {\n",
       "                        if (nbb_cells[i].get_text() == nbb_unformatted_code) {\n",
       "                             nbb_cells[i].set_text(nbb_formatted_code);\n",
       "                        }\n",
       "                        break;\n",
       "                    }\n",
       "                }\n",
       "            }, 500);\n",
       "            "
      ],
      "text/plain": [
       "<IPython.core.display.Javascript object>"
      ]
     },
     "metadata": {},
     "output_type": "display_data"
    }
   ],
   "source": [
    "price_grid\n",
    "demand_grid_hat = 1 / (1 + np.exp(-1 * (1.03 - 0.0039 * price_grid)))\n",
    "rev_grid_hat = price_grid * demand_grid_hat\n",
    "index_star = np.argmax(rev_grid_hat)\n",
    "price_star = price_grid[index_star]\n",
    "rev_star = rev_grid[index_star]\n",
    "plt.plot(price_grid, demand_grid_hat)\n",
    "# occupancy_pred = 1 / (1 + np.exp(-(1.00300 - 0.0039 * np.linspace(0, 501, 500))))"
   ]
  },
  {
   "cell_type": "code",
   "execution_count": 51,
   "id": "7fc85bed",
   "metadata": {},
   "outputs": [
    {
     "data": {
      "text/plain": [
       "404.64046404640465"
      ]
     },
     "execution_count": 51,
     "metadata": {},
     "output_type": "execute_result"
    },
    {
     "data": {
      "application/javascript": [
       "\n",
       "            setTimeout(function() {\n",
       "                var nbb_cell_id = 51;\n",
       "                var nbb_unformatted_code = \"price_star\";\n",
       "                var nbb_formatted_code = \"price_star\";\n",
       "                var nbb_cells = Jupyter.notebook.get_cells();\n",
       "                for (var i = 0; i < nbb_cells.length; ++i) {\n",
       "                    if (nbb_cells[i].input_prompt_number == nbb_cell_id) {\n",
       "                        if (nbb_cells[i].get_text() == nbb_unformatted_code) {\n",
       "                             nbb_cells[i].set_text(nbb_formatted_code);\n",
       "                        }\n",
       "                        break;\n",
       "                    }\n",
       "                }\n",
       "            }, 500);\n",
       "            "
      ],
      "text/plain": [
       "<IPython.core.display.Javascript object>"
      ]
     },
     "metadata": {},
     "output_type": "display_data"
    }
   ],
   "source": [
    "price_star"
   ]
  },
  {
   "cell_type": "code",
   "execution_count": 52,
   "id": "41bd65d7",
   "metadata": {},
   "outputs": [
    {
     "data": {
      "text/plain": [
       "<matplotlib.collections.PathCollection at 0x7f792e17e0b0>"
      ]
     },
     "execution_count": 52,
     "metadata": {},
     "output_type": "execute_result"
    },
    {
     "data": {
      "image/png": "[encoded data removed]",
      "text/plain": [
       "<Figure size 1008x504 with 1 Axes>"
      ]
     },
     "metadata": {
      "needs_background": "light"
     },
     "output_type": "display_data"
    },
    {
     "data": {
      "application/javascript": [
       "\n",
       "            setTimeout(function() {\n",
       "                var nbb_cell_id = 52;\n",
       "                var nbb_unformatted_code = \"plt.plot(price_grid, price_grid * demand_grid_hat)\\nplt.scatter(price_star, rev_star, color=\\\"red\\\")\";\n",
       "                var nbb_formatted_code = \"plt.plot(price_grid, price_grid * demand_grid_hat)\\nplt.scatter(price_star, rev_star, color=\\\"red\\\")\";\n",
       "                var nbb_cells = Jupyter.notebook.get_cells();\n",
       "                for (var i = 0; i < nbb_cells.length; ++i) {\n",
       "                    if (nbb_cells[i].input_prompt_number == nbb_cell_id) {\n",
       "                        if (nbb_cells[i].get_text() == nbb_unformatted_code) {\n",
       "                             nbb_cells[i].set_text(nbb_formatted_code);\n",
       "                        }\n",
       "                        break;\n",
       "                    }\n",
       "                }\n",
       "            }, 500);\n",
       "            "
      ],
      "text/plain": [
       "<IPython.core.display.Javascript object>"
      ]
     },
     "metadata": {},
     "output_type": "display_data"
    }
   ],
   "source": [
    "plt.plot(price_grid, price_grid * demand_grid_hat)\n",
    "plt.scatter(price_star, rev_star, color=\"red\")"
   ]
  },
  {
   "cell_type": "code",
   "execution_count": 70,
   "id": "08c00141",
   "metadata": {},
   "outputs": [
    {
     "data": {
      "application/javascript": [
       "\n",
       "            setTimeout(function() {\n",
       "                var nbb_cell_id = 70;\n",
       "                var nbb_unformatted_code = \"data.exog = sm.add_constant(data.exog)\";\n",
       "                var nbb_formatted_code = \"data.exog = sm.add_constant(data.exog)\";\n",
       "                var nbb_cells = Jupyter.notebook.get_cells();\n",
       "                for (var i = 0; i < nbb_cells.length; ++i) {\n",
       "                    if (nbb_cells[i].input_prompt_number == nbb_cell_id) {\n",
       "                        if (nbb_cells[i].get_text() == nbb_unformatted_code) {\n",
       "                             nbb_cells[i].set_text(nbb_formatted_code);\n",
       "                        }\n",
       "                        break;\n",
       "                    }\n",
       "                }\n",
       "            }, 500);\n",
       "            "
      ],
      "text/plain": [
       "<IPython.core.display.Javascript object>"
      ]
     },
     "metadata": {},
     "output_type": "display_data"
    }
   ],
   "source": [
    "data.exog = sm.add_constant(data.exog)"
   ]
  },
  {
   "cell_type": "code",
   "execution_count": 72,
   "id": "73d4c63d",
   "metadata": {},
   "outputs": [
    {
     "data": {
      "text/plain": [
       "0     60.3\n",
       "1     52.3\n",
       "2     53.4\n",
       "3     57.0\n",
       "4     68.7\n",
       "5     48.8\n",
       "6     65.5\n",
       "7     70.5\n",
       "8     59.1\n",
       "9     62.7\n",
       "10    51.6\n",
       "11    62.0\n",
       "12    68.4\n",
       "13    69.2\n",
       "14    64.7\n",
       "15    75.0\n",
       "16    62.1\n",
       "17    67.2\n",
       "18    67.7\n",
       "19    52.7\n",
       "20    65.7\n",
       "21    72.2\n",
       "22    47.4\n",
       "23    51.3\n",
       "24    63.6\n",
       "25    50.7\n",
       "26    51.6\n",
       "27    56.2\n",
       "28    67.6\n",
       "29    58.9\n",
       "30    74.7\n",
       "31    67.3\n",
       "Name: YES, dtype: float64"
      ]
     },
     "execution_count": 72,
     "metadata": {},
     "output_type": "execute_result"
    },
    {
     "data": {
      "application/javascript": [
       "\n",
       "            setTimeout(function() {\n",
       "                var nbb_cell_id = 72;\n",
       "                var nbb_unformatted_code = \"data.endog\";\n",
       "                var nbb_formatted_code = \"data.endog\";\n",
       "                var nbb_cells = Jupyter.notebook.get_cells();\n",
       "                for (var i = 0; i < nbb_cells.length; ++i) {\n",
       "                    if (nbb_cells[i].input_prompt_number == nbb_cell_id) {\n",
       "                        if (nbb_cells[i].get_text() == nbb_unformatted_code) {\n",
       "                             nbb_cells[i].set_text(nbb_formatted_code);\n",
       "                        }\n",
       "                        break;\n",
       "                    }\n",
       "                }\n",
       "            }, 500);\n",
       "            "
      ],
      "text/plain": [
       "<IPython.core.display.Javascript object>"
      ]
     },
     "metadata": {},
     "output_type": "display_data"
    }
   ],
   "source": [
    "data.endog"
   ]
  },
  {
   "cell_type": "markdown",
   "id": "f3a70944",
   "metadata": {},
   "source": [
    "--------------------\n",
    "## Seasonality"
   ]
  },
  {
   "cell_type": "code",
   "execution_count": 61,
   "id": "7ef0695a",
   "metadata": {},
   "outputs": [
    {
     "data": {
      "application/javascript": [
       "\n",
       "            setTimeout(function() {\n",
       "                var nbb_cell_id = 61;\n",
       "                var nbb_unformatted_code = \"seasonality[\\\"seasonal_adj\\\"] = seasonality[\\\"Revenue\\\"] / 4866\\nseasonality[\\\"seasonal_revenue\\\"] = (\\n    p_opt * occ_opt * seasonality[\\\"seasonal_adj\\\"] * 365.25 / 12\\n)\";\n",
       "                var nbb_formatted_code = \"seasonality[\\\"seasonal_adj\\\"] = seasonality[\\\"Revenue\\\"] / 4866\\nseasonality[\\\"seasonal_revenue\\\"] = (\\n    p_opt * occ_opt * seasonality[\\\"seasonal_adj\\\"] * 365.25 / 12\\n)\";\n",
       "                var nbb_cells = Jupyter.notebook.get_cells();\n",
       "                for (var i = 0; i < nbb_cells.length; ++i) {\n",
       "                    if (nbb_cells[i].input_prompt_number == nbb_cell_id) {\n",
       "                        if (nbb_cells[i].get_text() == nbb_unformatted_code) {\n",
       "                             nbb_cells[i].set_text(nbb_formatted_code);\n",
       "                        }\n",
       "                        break;\n",
       "                    }\n",
       "                }\n",
       "            }, 500);\n",
       "            "
      ],
      "text/plain": [
       "<IPython.core.display.Javascript object>"
      ]
     },
     "metadata": {},
     "output_type": "display_data"
    }
   ],
   "source": [
    "seasonality[\"seasonal_adj\"] = seasonality[\"Revenue\"] / 4866\n",
    "seasonality[\"seasonal_revenue\"] = (\n",
    "    p_opt * occ_opt * seasonality[\"seasonal_adj\"] * 365.25 / 12\n",
    ")"
   ]
  },
  {
   "cell_type": "code",
   "execution_count": 62,
   "id": "5363cfc2",
   "metadata": {},
   "outputs": [
    {
     "data": {
      "text/html": [
       "<div>\n",
       "<style scoped>\n",
       "    .dataframe tbody tr th:only-of-type {\n",
       "        vertical-align: middle;\n",
       "    }\n",
       "\n",
       "    .dataframe tbody tr th {\n",
       "        vertical-align: top;\n",
       "    }\n",
       "\n",
       "    .dataframe thead th {\n",
       "        text-align: right;\n",
       "    }\n",
       "</style>\n",
       "<table border=\"1\" class=\"dataframe\">\n",
       "  <thead>\n",
       "    <tr style=\"text-align: right;\">\n",
       "      <th></th>\n",
       "      <th>Month</th>\n",
       "      <th>Revenue</th>\n",
       "      <th>seasonal_adj</th>\n",
       "      <th>seasonal_revenue</th>\n",
       "    </tr>\n",
       "  </thead>\n",
       "  <tbody>\n",
       "    <tr>\n",
       "      <th>0</th>\n",
       "      <td>1</td>\n",
       "      <td>2311</td>\n",
       "      <td>0.474928</td>\n",
       "      <td>2261.879019</td>\n",
       "    </tr>\n",
       "    <tr>\n",
       "      <th>1</th>\n",
       "      <td>2</td>\n",
       "      <td>2388</td>\n",
       "      <td>0.490752</td>\n",
       "      <td>2337.242361</td>\n",
       "    </tr>\n",
       "    <tr>\n",
       "      <th>2</th>\n",
       "      <td>3</td>\n",
       "      <td>2312</td>\n",
       "      <td>0.475134</td>\n",
       "      <td>2262.857763</td>\n",
       "    </tr>\n",
       "    <tr>\n",
       "      <th>3</th>\n",
       "      <td>4</td>\n",
       "      <td>2080</td>\n",
       "      <td>0.427456</td>\n",
       "      <td>2035.788991</td>\n",
       "    </tr>\n",
       "    <tr>\n",
       "      <th>4</th>\n",
       "      <td>5</td>\n",
       "      <td>2833</td>\n",
       "      <td>0.582203</td>\n",
       "      <td>2772.783756</td>\n",
       "    </tr>\n",
       "    <tr>\n",
       "      <th>5</th>\n",
       "      <td>6</td>\n",
       "      <td>3901</td>\n",
       "      <td>0.801685</td>\n",
       "      <td>3818.083103</td>\n",
       "    </tr>\n",
       "    <tr>\n",
       "      <th>6</th>\n",
       "      <td>7</td>\n",
       "      <td>4866</td>\n",
       "      <td>1.000000</td>\n",
       "      <td>4762.571746</td>\n",
       "    </tr>\n",
       "    <tr>\n",
       "      <th>7</th>\n",
       "      <td>8</td>\n",
       "      <td>5370</td>\n",
       "      <td>1.103576</td>\n",
       "      <td>5255.859079</td>\n",
       "    </tr>\n",
       "    <tr>\n",
       "      <th>8</th>\n",
       "      <td>9</td>\n",
       "      <td>3403</td>\n",
       "      <td>0.699342</td>\n",
       "      <td>3330.668239</td>\n",
       "    </tr>\n",
       "    <tr>\n",
       "      <th>9</th>\n",
       "      <td>10</td>\n",
       "      <td>2452</td>\n",
       "      <td>0.503905</td>\n",
       "      <td>2399.882023</td>\n",
       "    </tr>\n",
       "    <tr>\n",
       "      <th>10</th>\n",
       "      <td>11</td>\n",
       "      <td>2142</td>\n",
       "      <td>0.440197</td>\n",
       "      <td>2096.471163</td>\n",
       "    </tr>\n",
       "    <tr>\n",
       "      <th>11</th>\n",
       "      <td>12</td>\n",
       "      <td>2828</td>\n",
       "      <td>0.581176</td>\n",
       "      <td>2767.890032</td>\n",
       "    </tr>\n",
       "  </tbody>\n",
       "</table>\n",
       "</div>"
      ],
      "text/plain": [
       "    Month  Revenue  seasonal_adj  seasonal_revenue\n",
       "0       1     2311      0.474928       2261.879019\n",
       "1       2     2388      0.490752       2337.242361\n",
       "2       3     2312      0.475134       2262.857763\n",
       "3       4     2080      0.427456       2035.788991\n",
       "4       5     2833      0.582203       2772.783756\n",
       "5       6     3901      0.801685       3818.083103\n",
       "6       7     4866      1.000000       4762.571746\n",
       "7       8     5370      1.103576       5255.859079\n",
       "8       9     3403      0.699342       3330.668239\n",
       "9      10     2452      0.503905       2399.882023\n",
       "10     11     2142      0.440197       2096.471163\n",
       "11     12     2828      0.581176       2767.890032"
      ]
     },
     "execution_count": 62,
     "metadata": {},
     "output_type": "execute_result"
    },
    {
     "data": {
      "application/javascript": [
       "\n",
       "            setTimeout(function() {\n",
       "                var nbb_cell_id = 62;\n",
       "                var nbb_unformatted_code = \"seasonality\";\n",
       "                var nbb_formatted_code = \"seasonality\";\n",
       "                var nbb_cells = Jupyter.notebook.get_cells();\n",
       "                for (var i = 0; i < nbb_cells.length; ++i) {\n",
       "                    if (nbb_cells[i].input_prompt_number == nbb_cell_id) {\n",
       "                        if (nbb_cells[i].get_text() == nbb_unformatted_code) {\n",
       "                             nbb_cells[i].set_text(nbb_formatted_code);\n",
       "                        }\n",
       "                        break;\n",
       "                    }\n",
       "                }\n",
       "            }, 500);\n",
       "            "
      ],
      "text/plain": [
       "<IPython.core.display.Javascript object>"
      ]
     },
     "metadata": {},
     "output_type": "display_data"
    }
   ],
   "source": [
    "seasonality"
   ]
  },
  {
   "cell_type": "code",
   "execution_count": 65,
   "id": "952d67c2",
   "metadata": {},
   "outputs": [
    {
     "data": {
      "text/plain": [
       "(0.0, 6000.0)"
      ]
     },
     "execution_count": 65,
     "metadata": {},
     "output_type": "execute_result"
    },
    {
     "data": {
      "image/png": "[encoded data removed]",
      "text/plain": [
       "<Figure size 1260x504 with 1 Axes>"
      ]
     },
     "metadata": {
      "needs_background": "light"
     },
     "output_type": "display_data"
    },
    {
     "data": {
      "application/javascript": [
       "\n",
       "            setTimeout(function() {\n",
       "                var nbb_cell_id = 65;\n",
       "                var nbb_unformatted_code = \"g=sns.lineplot(data=seasonality, x=\\\"Month\\\", y=\\\"seasonal_revenue\\\", marker=\\\"o\\\")\\ng.set_ylim(0,6000)\";\n",
       "                var nbb_formatted_code = \"g = sns.lineplot(data=seasonality, x=\\\"Month\\\", y=\\\"seasonal_revenue\\\", marker=\\\"o\\\")\\ng.set_ylim(0, 6000)\";\n",
       "                var nbb_cells = Jupyter.notebook.get_cells();\n",
       "                for (var i = 0; i < nbb_cells.length; ++i) {\n",
       "                    if (nbb_cells[i].input_prompt_number == nbb_cell_id) {\n",
       "                        if (nbb_cells[i].get_text() == nbb_unformatted_code) {\n",
       "                             nbb_cells[i].set_text(nbb_formatted_code);\n",
       "                        }\n",
       "                        break;\n",
       "                    }\n",
       "                }\n",
       "            }, 500);\n",
       "            "
      ],
      "text/plain": [
       "<IPython.core.display.Javascript object>"
      ]
     },
     "metadata": {},
     "output_type": "display_data"
    }
   ],
   "source": [
    "g = sns.lineplot(data=seasonality, x=\"Month\", y=\"seasonal_revenue\", marker=\"o\")\n",
    "g.set_ylim(0, 6000)"
   ]
  },
  {
   "cell_type": "code",
   "execution_count": 127,
   "id": "659d58c5",
   "metadata": {},
   "outputs": [
    {
     "data": {
      "text/plain": [
       "36102.0"
      ]
     },
     "execution_count": 127,
     "metadata": {},
     "output_type": "execute_result"
    },
    {
     "data": {
      "application/javascript": [
       "\n",
       "            setTimeout(function() {\n",
       "                var nbb_cell_id = 127;\n",
       "                var nbb_unformatted_code = \"annual_rev = seasonality.seasonal_revenue.sum().round()\\nannual_rev\";\n",
       "                var nbb_formatted_code = \"annual_rev = seasonality.seasonal_revenue.sum().round()\\nannual_rev\";\n",
       "                var nbb_cells = Jupyter.notebook.get_cells();\n",
       "                for (var i = 0; i < nbb_cells.length; ++i) {\n",
       "                    if (nbb_cells[i].input_prompt_number == nbb_cell_id) {\n",
       "                        if (nbb_cells[i].get_text() == nbb_unformatted_code) {\n",
       "                             nbb_cells[i].set_text(nbb_formatted_code);\n",
       "                        }\n",
       "                        break;\n",
       "                    }\n",
       "                }\n",
       "            }, 500);\n",
       "            "
      ],
      "text/plain": [
       "<IPython.core.display.Javascript object>"
      ]
     },
     "metadata": {},
     "output_type": "display_data"
    }
   ],
   "source": [
    "annual_rev = seasonality.seasonal_revenue.sum().round()\n",
    "annual_rev"
   ]
  },
  {
   "cell_type": "code",
   "execution_count": null,
   "id": "29791155",
   "metadata": {},
   "outputs": [],
   "source": []
  }
 ],
 "metadata": {
  "kernelspec": {
   "display_name": "Python 3",
   "language": "python",
   "name": "python3"
  },
  "language_info": {
   "codemirror_mode": {
    "name": "ipython",
    "version": 3
   },
   "file_extension": ".py",
   "mimetype": "text/x-python",
   "name": "python",
   "nbconvert_exporter": "python",
   "pygments_lexer": "ipython3",
   "version": "3.10.6"
  }
 },
 "nbformat": 4,
 "nbformat_minor": 5
}
