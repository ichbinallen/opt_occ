{
 "cells": [
  {
   "cell_type": "code",
   "execution_count": 106,
   "id": "5555a0e6",
   "metadata": {},
   "outputs": [
    {
     "name": "stdout",
     "output_type": "stream",
     "text": [
      "The nb_black extension is already loaded. To reload it, use:\n",
      "  %reload_ext nb_black\n"
     ]
    },
    {
     "data": {
      "application/javascript": [
       "\n",
       "            setTimeout(function() {\n",
       "                var nbb_cell_id = 106;\n",
       "                var nbb_unformatted_code = \"import pandas as pd\\nimport numpy as np\\n\\nimport matplotlib.pyplot as plt\\nimport seaborn as sns\\nimport plotly.express as px\\n\\nfrom sklearn.linear_model import LinearRegression\\n\\n%matplotlib inline\\n%load_ext nb_black\\n\\nplt.rcParams[\\\"figure.figsize\\\"] = (14, 7)\";\n",
       "                var nbb_formatted_code = \"import pandas as pd\\nimport numpy as np\\n\\nimport matplotlib.pyplot as plt\\nimport seaborn as sns\\nimport plotly.express as px\\n\\nfrom sklearn.linear_model import LinearRegression\\n\\n%matplotlib inline\\n%load_ext nb_black\\n\\nplt.rcParams[\\\"figure.figsize\\\"] = (14, 7)\";\n",
       "                var nbb_cells = Jupyter.notebook.get_cells();\n",
       "                for (var i = 0; i < nbb_cells.length; ++i) {\n",
       "                    if (nbb_cells[i].input_prompt_number == nbb_cell_id) {\n",
       "                        if (nbb_cells[i].get_text() == nbb_unformatted_code) {\n",
       "                             nbb_cells[i].set_text(nbb_formatted_code);\n",
       "                        }\n",
       "                        break;\n",
       "                    }\n",
       "                }\n",
       "            }, 500);\n",
       "            "
      ],
      "text/plain": [
       "<IPython.core.display.Javascript object>"
      ]
     },
     "metadata": {},
     "output_type": "display_data"
    }
   ],
   "source": [
    "import pandas as pd\n",
    "import numpy as np\n",
    "\n",
    "import matplotlib.pyplot as plt\n",
    "import seaborn as sns\n",
    "import plotly.express as px\n",
    "\n",
    "from sklearn.linear_model import LinearRegression\n",
    "\n",
    "%matplotlib inline\n",
    "%load_ext nb_black\n",
    "\n",
    "plt.rcParams[\"figure.figsize\"] = (14, 7)"
   ]
  },
  {
   "cell_type": "code",
   "execution_count": 107,
   "id": "5aedb36b",
   "metadata": {},
   "outputs": [
    {
     "data": {
      "application/javascript": [
       "\n",
       "            setTimeout(function() {\n",
       "                var nbb_cell_id = 107;\n",
       "                var nbb_unformatted_code = \"comps = pd.read_csv(\\\"../data/Comps.csv\\\")\\nseasonality = pd.read_csv(\\\"../data/Seasonality.csv\\\")\";\n",
       "                var nbb_formatted_code = \"comps = pd.read_csv(\\\"../data/Comps.csv\\\")\\nseasonality = pd.read_csv(\\\"../data/Seasonality.csv\\\")\";\n",
       "                var nbb_cells = Jupyter.notebook.get_cells();\n",
       "                for (var i = 0; i < nbb_cells.length; ++i) {\n",
       "                    if (nbb_cells[i].input_prompt_number == nbb_cell_id) {\n",
       "                        if (nbb_cells[i].get_text() == nbb_unformatted_code) {\n",
       "                             nbb_cells[i].set_text(nbb_formatted_code);\n",
       "                        }\n",
       "                        break;\n",
       "                    }\n",
       "                }\n",
       "            }, 500);\n",
       "            "
      ],
      "text/plain": [
       "<IPython.core.display.Javascript object>"
      ]
     },
     "metadata": {},
     "output_type": "display_data"
    }
   ],
   "source": [
    "comps = pd.read_csv(\"../data/Comps.csv\")\n",
    "seasonality = pd.read_csv(\"../data/Seasonality.csv\")"
   ]
  },
  {
   "cell_type": "code",
   "execution_count": 108,
   "id": "74168608",
   "metadata": {},
   "outputs": [
    {
     "data": {
      "text/html": [
       "<div>\n",
       "<style scoped>\n",
       "    .dataframe tbody tr th:only-of-type {\n",
       "        vertical-align: middle;\n",
       "    }\n",
       "\n",
       "    .dataframe tbody tr th {\n",
       "        vertical-align: top;\n",
       "    }\n",
       "\n",
       "    .dataframe thead th {\n",
       "        text-align: right;\n",
       "    }\n",
       "</style>\n",
       "<table border=\"1\" class=\"dataframe\">\n",
       "  <thead>\n",
       "    <tr style=\"text-align: right;\">\n",
       "      <th></th>\n",
       "      <th>url</th>\n",
       "      <th>beds</th>\n",
       "      <th>bath</th>\n",
       "      <th>rabbu Occupancy</th>\n",
       "      <th>rabbu ADR</th>\n",
       "      <th>manual Occupancy</th>\n",
       "      <th>manual ADR</th>\n",
       "      <th>Notes</th>\n",
       "      <th>Location</th>\n",
       "      <th>Stars</th>\n",
       "      <th>Review</th>\n",
       "      <th>Cleaning Fee</th>\n",
       "      <th>Host</th>\n",
       "    </tr>\n",
       "  </thead>\n",
       "  <tbody>\n",
       "    <tr>\n",
       "      <th>0</th>\n",
       "      <td>https://www.airbnb.com/rooms/46038476</td>\n",
       "      <td>2</td>\n",
       "      <td>2</td>\n",
       "      <td>0.53</td>\n",
       "      <td>143</td>\n",
       "      <td>0.903226</td>\n",
       "      <td>134.0</td>\n",
       "      <td>NaN</td>\n",
       "      <td>North Bend</td>\n",
       "      <td>4.98</td>\n",
       "      <td>41</td>\n",
       "      <td>80.0</td>\n",
       "      <td>Superhost</td>\n",
       "    </tr>\n",
       "    <tr>\n",
       "      <th>1</th>\n",
       "      <td>https://www.airbnb.com/rooms/54064539</td>\n",
       "      <td>2</td>\n",
       "      <td>2</td>\n",
       "      <td>0.83</td>\n",
       "      <td>251</td>\n",
       "      <td>0.645161</td>\n",
       "      <td>245.0</td>\n",
       "      <td>Too fancy, comp won’t compare</td>\n",
       "      <td>North Bend</td>\n",
       "      <td>4.99</td>\n",
       "      <td>75</td>\n",
       "      <td>95.0</td>\n",
       "      <td>Superhost</td>\n",
       "    </tr>\n",
       "    <tr>\n",
       "      <th>2</th>\n",
       "      <td>https://www.airbnb.com/rooms/52210633</td>\n",
       "      <td>2</td>\n",
       "      <td>1</td>\n",
       "      <td>0.70</td>\n",
       "      <td>189</td>\n",
       "      <td>0.645161</td>\n",
       "      <td>189.0</td>\n",
       "      <td>No Dynamic Pricing, looks like a house, not a ...</td>\n",
       "      <td>North Bend</td>\n",
       "      <td>4.96</td>\n",
       "      <td>45</td>\n",
       "      <td>95.0</td>\n",
       "      <td>Superhost</td>\n",
       "    </tr>\n",
       "    <tr>\n",
       "      <th>3</th>\n",
       "      <td>https://www.airbnb.com/rooms/721062423659714038</td>\n",
       "      <td>2</td>\n",
       "      <td>2</td>\n",
       "      <td>0.73</td>\n",
       "      <td>387</td>\n",
       "      <td>0.580645</td>\n",
       "      <td>350.0</td>\n",
       "      <td>Fancy, Cabin Style</td>\n",
       "      <td>North Bend</td>\n",
       "      <td>4.89</td>\n",
       "      <td>19</td>\n",
       "      <td>125.0</td>\n",
       "      <td>Superhost</td>\n",
       "    </tr>\n",
       "    <tr>\n",
       "      <th>4</th>\n",
       "      <td>https://www.airbnb.com/rooms/566008910384238034</td>\n",
       "      <td>2</td>\n",
       "      <td>1</td>\n",
       "      <td>0.67</td>\n",
       "      <td>283</td>\n",
       "      <td>0.451613</td>\n",
       "      <td>281.0</td>\n",
       "      <td>Bad Photos, On River</td>\n",
       "      <td>North Bend</td>\n",
       "      <td>4.89</td>\n",
       "      <td>64</td>\n",
       "      <td>80.0</td>\n",
       "      <td>Superhost</td>\n",
       "    </tr>\n",
       "  </tbody>\n",
       "</table>\n",
       "</div>"
      ],
      "text/plain": [
       "                                               url  beds  bath  \\\n",
       "0            https://www.airbnb.com/rooms/46038476     2     2   \n",
       "1            https://www.airbnb.com/rooms/54064539     2     2   \n",
       "2            https://www.airbnb.com/rooms/52210633     2     1   \n",
       "3  https://www.airbnb.com/rooms/721062423659714038     2     2   \n",
       "4  https://www.airbnb.com/rooms/566008910384238034     2     1   \n",
       "\n",
       "   rabbu Occupancy  rabbu ADR  manual Occupancy  manual ADR  \\\n",
       "0             0.53        143          0.903226       134.0   \n",
       "1             0.83        251          0.645161       245.0   \n",
       "2             0.70        189          0.645161       189.0   \n",
       "3             0.73        387          0.580645       350.0   \n",
       "4             0.67        283          0.451613       281.0   \n",
       "\n",
       "                                               Notes    Location  Stars  \\\n",
       "0                                                NaN  North Bend   4.98   \n",
       "1                      Too fancy, comp won’t compare  North Bend   4.99   \n",
       "2  No Dynamic Pricing, looks like a house, not a ...  North Bend   4.96   \n",
       "3                                 Fancy, Cabin Style  North Bend   4.89   \n",
       "4                               Bad Photos, On River  North Bend   4.89   \n",
       "\n",
       "   Review  Cleaning Fee       Host  \n",
       "0      41          80.0  Superhost  \n",
       "1      75          95.0  Superhost  \n",
       "2      45          95.0  Superhost  \n",
       "3      19         125.0  Superhost  \n",
       "4      64          80.0  Superhost  "
      ]
     },
     "execution_count": 108,
     "metadata": {},
     "output_type": "execute_result"
    },
    {
     "data": {
      "application/javascript": [
       "\n",
       "            setTimeout(function() {\n",
       "                var nbb_cell_id = 108;\n",
       "                var nbb_unformatted_code = \"comps.head()\";\n",
       "                var nbb_formatted_code = \"comps.head()\";\n",
       "                var nbb_cells = Jupyter.notebook.get_cells();\n",
       "                for (var i = 0; i < nbb_cells.length; ++i) {\n",
       "                    if (nbb_cells[i].input_prompt_number == nbb_cell_id) {\n",
       "                        if (nbb_cells[i].get_text() == nbb_unformatted_code) {\n",
       "                             nbb_cells[i].set_text(nbb_formatted_code);\n",
       "                        }\n",
       "                        break;\n",
       "                    }\n",
       "                }\n",
       "            }, 500);\n",
       "            "
      ],
      "text/plain": [
       "<IPython.core.display.Javascript object>"
      ]
     },
     "metadata": {},
     "output_type": "display_data"
    }
   ],
   "source": [
    "comps.head()"
   ]
  },
  {
   "cell_type": "code",
   "execution_count": 109,
   "id": "d6b56303",
   "metadata": {},
   "outputs": [
    {
     "data": {
      "application/javascript": [
       "\n",
       "            setTimeout(function() {\n",
       "                var nbb_cell_id = 109;\n",
       "                var nbb_unformatted_code = \"quants = np.quantile(comps.Stars[comps.Review > 10], q=[0.2, 0.4, 0.6, 0.8])\";\n",
       "                var nbb_formatted_code = \"quants = np.quantile(comps.Stars[comps.Review > 10], q=[0.2, 0.4, 0.6, 0.8])\";\n",
       "                var nbb_cells = Jupyter.notebook.get_cells();\n",
       "                for (var i = 0; i < nbb_cells.length; ++i) {\n",
       "                    if (nbb_cells[i].input_prompt_number == nbb_cell_id) {\n",
       "                        if (nbb_cells[i].get_text() == nbb_unformatted_code) {\n",
       "                             nbb_cells[i].set_text(nbb_formatted_code);\n",
       "                        }\n",
       "                        break;\n",
       "                    }\n",
       "                }\n",
       "            }, 500);\n",
       "            "
      ],
      "text/plain": [
       "<IPython.core.display.Javascript object>"
      ]
     },
     "metadata": {},
     "output_type": "display_data"
    }
   ],
   "source": [
    "quants = np.quantile(comps.Stars[comps.Review > 10], q=[0.2, 0.4, 0.6, 0.8])"
   ]
  },
  {
   "cell_type": "code",
   "execution_count": 110,
   "id": "6d800cf5",
   "metadata": {},
   "outputs": [
    {
     "data": {
      "image/png": "[encoded data removed]",
      "text/plain": [
       "<Figure size 1260x504 with 1 Axes>"
      ]
     },
     "metadata": {
      "needs_background": "light"
     },
     "output_type": "display_data"
    },
    {
     "data": {
      "application/javascript": [
       "\n",
       "            setTimeout(function() {\n",
       "                var nbb_cell_id = 110;\n",
       "                var nbb_unformatted_code = \"plt.rcParams[\\\"figure.figsize\\\"] = (17.5, 7)\\nstar_histogram = sns.histplot(comps.Stars, bins=18)\\nax = plt.gca()\\nfor quant in quants:\\n    ax.axvline(\\n        x=quant, ymin=0, ymax=16, color=\\\"red\\\", linestyle=\\\"dashed\\\"\\n    )  # Line on x = 2  # Bottom of the plot\\n# sns.vline(quants)\\nstar_histogram.set_title(\\\"Star Rating\\\", fontsize=24)\\nax.text((quants[0] + 4.3) / 2, 10, s=f\\\"1 Star < {quants[0]}\\\")\\nax.text((quants[1] + quants[0]) / 2 - 0.03, 11, s=f\\\"2 Stars < {quants[1]}\\\")\\nax.text((quants[2] + quants[1]) / 2 - 0.03, 12, s=f\\\"3 Stars < {quants[2]}\\\")\\nax.text((quants[3] + quants[2]) / 2 - 0.03, 13, s=f\\\"4 Stars < {quants[3]}\\\")\\n_ = ax.text(quants[3], 14, s=f\\\"5 Stars > {quants[3]}\\\")\";\n",
       "                var nbb_formatted_code = \"plt.rcParams[\\\"figure.figsize\\\"] = (17.5, 7)\\nstar_histogram = sns.histplot(comps.Stars, bins=18)\\nax = plt.gca()\\nfor quant in quants:\\n    ax.axvline(\\n        x=quant, ymin=0, ymax=16, color=\\\"red\\\", linestyle=\\\"dashed\\\"\\n    )  # Line on x = 2  # Bottom of the plot\\n# sns.vline(quants)\\nstar_histogram.set_title(\\\"Star Rating\\\", fontsize=24)\\nax.text((quants[0] + 4.3) / 2, 10, s=f\\\"1 Star < {quants[0]}\\\")\\nax.text((quants[1] + quants[0]) / 2 - 0.03, 11, s=f\\\"2 Stars < {quants[1]}\\\")\\nax.text((quants[2] + quants[1]) / 2 - 0.03, 12, s=f\\\"3 Stars < {quants[2]}\\\")\\nax.text((quants[3] + quants[2]) / 2 - 0.03, 13, s=f\\\"4 Stars < {quants[3]}\\\")\\n_ = ax.text(quants[3], 14, s=f\\\"5 Stars > {quants[3]}\\\")\";\n",
       "                var nbb_cells = Jupyter.notebook.get_cells();\n",
       "                for (var i = 0; i < nbb_cells.length; ++i) {\n",
       "                    if (nbb_cells[i].input_prompt_number == nbb_cell_id) {\n",
       "                        if (nbb_cells[i].get_text() == nbb_unformatted_code) {\n",
       "                             nbb_cells[i].set_text(nbb_formatted_code);\n",
       "                        }\n",
       "                        break;\n",
       "                    }\n",
       "                }\n",
       "            }, 500);\n",
       "            "
      ],
      "text/plain": [
       "<IPython.core.display.Javascript object>"
      ]
     },
     "metadata": {},
     "output_type": "display_data"
    }
   ],
   "source": [
    "plt.rcParams[\"figure.figsize\"] = (17.5, 7)\n",
    "star_histogram = sns.histplot(comps.Stars, bins=18)\n",
    "ax = plt.gca()\n",
    "for quant in quants:\n",
    "    ax.axvline(\n",
    "        x=quant, ymin=0, ymax=16, color=\"red\", linestyle=\"dashed\"\n",
    "    )  # Line on x = 2  # Bottom of the plot\n",
    "# sns.vline(quants)\n",
    "star_histogram.set_title(\"Star Rating\", fontsize=24)\n",
    "ax.text((quants[0] + 4.3) / 2, 10, s=f\"1 Star < {quants[0]}\")\n",
    "ax.text((quants[1] + quants[0]) / 2 - 0.03, 11, s=f\"2 Stars < {quants[1]}\")\n",
    "ax.text((quants[2] + quants[1]) / 2 - 0.03, 12, s=f\"3 Stars < {quants[2]}\")\n",
    "ax.text((quants[3] + quants[2]) / 2 - 0.03, 13, s=f\"4 Stars < {quants[3]}\")\n",
    "_ = ax.text(quants[3], 14, s=f\"5 Stars > {quants[3]}\")"
   ]
  },
  {
   "cell_type": "code",
   "execution_count": 111,
   "id": "4f72762b",
   "metadata": {},
   "outputs": [
    {
     "data": {
      "application/vnd.plotly.v1+json": {
       "config": {
        "plotlyServerURL": "https://plot.ly"
       },
       "data": [
        {
         "customdata": [
          [
           null,
           "https://www.airbnb.com/rooms/46038476"
          ],
          [
           "Too fancy, comp won’t compare",
           "https://www.airbnb.com/rooms/54064539"
          ],
          [
           "No Dynamic Pricing, looks like a house, not a cabin",
           "https://www.airbnb.com/rooms/52210633"
          ],
          [
           "Fancy, Cabin Style",
           "https://www.airbnb.com/rooms/721062423659714038"
          ],
          [
           "Bad Photos, On River",
           "https://www.airbnb.com/rooms/566008910384238034"
          ],
          [
           "Quaint Cabind Style, Near Rattlesnake Ledge",
           "https://www.airbnb.com/rooms/51785328"
          ],
          [
           "Owner Occupied, Poor Photos, Basement Apartment, Language Barrier",
           "https://www.airbnb.com/rooms/23960139"
          ],
          [
           "New Listing, Underpriced, Bad Photos",
           "https://www.airbnb.com/rooms/732625739862507774"
          ],
          [
           "Newer Listing",
           "https://www.airbnb.com/rooms/48258178"
          ],
          [
           "In Town, updated",
           "https://www.airbnb.com/rooms/719625260995322512"
          ],
          [
           "Superhost, relatively new",
           "https://www.airbnb.com/rooms/23021120"
          ],
          [
           "Superhost not vacasa or corporate",
           "https://www.airbnb.com/rooms/51149790"
          ],
          [
           "Superhost not vacasa or corporate",
           "https://www.airbnb.com/rooms/26032476"
          ],
          [
           "Superhost not vacasa or corporate",
           "https://www.airbnb.com/rooms/630394210952855297"
          ],
          [
           "Superhost",
           "https://www.airbnb.com/rooms/36699088"
          ],
          [
           "Superhost",
           "https://www.airbnb.com/rooms/48943693"
          ],
          [
           "Ugly Old",
           "https://www.airbnb.com/rooms/53811926"
          ],
          [
           "Looks Nice",
           "https://www.airbnb.com/rooms/49487409"
          ],
          [
           "Nice, Superhost",
           "https://www.airbnb.com/rooms/36114880"
          ],
          [
           "Superhost",
           "https://www.airbnb.com/rooms/23021070"
          ],
          [
           "Superhost, good photos",
           "https://www.airbnb.com/rooms/46619467"
          ],
          [
           "Expensive Furniture",
           "https://www.airbnb.com/rooms/557125827091662488"
          ],
          [
           "Superhost, good furniture",
           "https://www.airbnb.com/rooms/49016675"
          ],
          [
           "Superhost, condo community",
           "https://www.airbnb.com/rooms/23021100"
          ],
          [
           "Superhost, by the beach",
           "https://www.airbnb.com/rooms/23352493"
          ],
          [
           "Superhost",
           "https://www.airbnb.com/rooms/52735414"
          ],
          [
           "Superhost, Nice Photos",
           "https://www.airbnb.com/rooms/666970338596390385"
          ],
          [
           "On Stilts, Experience",
           "https://www.airbnb.com/rooms/50858816"
          ],
          [
           "Fancy, Pro Photos",
           "https://www.airbnb.com/rooms/689441742434586212"
          ]
         ],
         "hovertemplate": "Host=Superhost<br>manual ADR=%{x}<br>manual Occupancy=%{y}<br>Notes=%{customdata[0]}<br>url=%{customdata[1]}<extra></extra>",
         "legendgroup": "Superhost",
         "marker": {
          "color": "#636efa",
          "symbol": "circle"
         },
         "mode": "markers",
         "name": "Superhost",
         "orientation": "v",
         "showlegend": true,
         "type": "scatter",
         "x": [
          134,
          245,
          189,
          350,
          281,
          250,
          180,
          145,
          125,
          160,
          360,
          235,
          421,
          335,
          250,
          262,
          148,
          135,
          135,
          287,
          229,
          168,
          157,
          251,
          240,
          141,
          256,
          375,
          241
         ],
         "xaxis": "x",
         "y": [
          0.903225806451613,
          0.645161290322581,
          0.645161290322581,
          0.580645161290323,
          0.451612903225806,
          1,
          0.483870967741936,
          0.709677419354839,
          0.612903225806452,
          0.451612903225806,
          0.645161290322581,
          0.838709677419355,
          0.225806451612903,
          0.387096774193548,
          0.161290322580645,
          0.483870967741936,
          0.258064516129032,
          0.67741935483871,
          0.645161290322581,
          0.483870967741936,
          0.225806451612903,
          0.612903225806452,
          0.645161290322581,
          0.645161290322581,
          0.903225806451613,
          0.612903225806452,
          0.47,
          0.2,
          0.290322580645161
         ],
         "yaxis": "y"
        },
        {
         "customdata": [
          [
           "Overpriced",
           "https://www.airbnb.com/rooms/45926314"
          ],
          [
           "Ugly, No Dynamic Pricing",
           "https://www.airbnb.com/rooms/19908956"
          ],
          [
           "Lakefront, bad photos, Overpriced",
           "https://www.airbnb.com/rooms/714819816371099049"
          ],
          [
           "Owner Occupied",
           "https://www.airbnb.com/rooms/768978483572927801"
          ],
          [
           "On River",
           "https://www.airbnb.com/rooms/47389228"
          ],
          [
           "Overpriced",
           "https://www.airbnb.com/rooms/27342797"
          ],
          [
           "Not Superhost",
           "https://www.airbnb.com/rooms/33964064"
          ],
          [
           "new listing",
           "https://www.airbnb.com/rooms/698544908100904679"
          ],
          [
           "New Listing",
           "https://www.airbnb.com/rooms/878864519405589544"
          ],
          [
           "Nonsuperhost",
           "https://www.airbnb.com/rooms/29740451"
          ]
         ],
         "hovertemplate": "Host=Regular<br>manual ADR=%{x}<br>manual Occupancy=%{y}<br>Notes=%{customdata[0]}<br>url=%{customdata[1]}<extra></extra>",
         "legendgroup": "Regular",
         "marker": {
          "color": "#EF553B",
          "symbol": "circle"
         },
         "mode": "markers",
         "name": "Regular",
         "orientation": "v",
         "showlegend": true,
         "type": "scatter",
         "x": [
          375,
          145,
          470,
          270,
          200,
          257,
          315,
          205,
          168,
          254
         ],
         "xaxis": "x",
         "y": [
          0.32258064516129,
          0.516129032258065,
          0,
          0.225806451612903,
          0.451612903225806,
          0.193548387096774,
          0.774193548387097,
          0.387096774193548,
          0.806451612903226,
          0.483870967741936
         ],
         "yaxis": "y"
        },
        {
         "customdata": [
          [
           "Evolve Management yields bad reviews",
           "https://www.airbnb.com/rooms/20889506"
          ],
          [
           "Vacasa, bad reviews and cleaning",
           "https://www.airbnb.com/rooms/30071398"
          ],
          [
           "Vacasa, bad reviews and cleaning",
           "https://www.airbnb.com/rooms/26051988"
          ],
          [
           "Vacasa, very nice looking",
           "https://www.airbnb.com/rooms/847850412831339117"
          ],
          [
           "Vacasa",
           "https://www.airbnb.com/rooms/572969241718961944"
          ],
          [
           "Off Calendar",
           "https://www.airbnb.com/rooms/812259821220935977"
          ],
          [
           "Corporation",
           "https://www.airbnb.com/rooms/46358968"
          ],
          [
           "Corporation",
           "https://www.airbnb.com/rooms/46358968"
          ],
          [
           "Corporation",
           "https://www.airbnb.com/rooms/39804129"
          ],
          [
           "Way too nice to count as a comp",
           "https://www.airbnb.com/rooms/772511804409507635?"
          ],
          [
           "Too nice to comp",
           "https://www.airbnb.com/rooms/46466747"
          ],
          [
           "Evolve Management yields bad reviews",
           "https://www.airbnb.com/rooms/47329399"
          ]
         ],
         "hovertemplate": "Host=Corporate<br>manual ADR=%{x}<br>manual Occupancy=%{y}<br>Notes=%{customdata[0]}<br>url=%{customdata[1]}<extra></extra>",
         "legendgroup": "Corporate",
         "marker": {
          "color": "#00cc96",
          "symbol": "circle"
         },
         "mode": "markers",
         "name": "Corporate",
         "orientation": "v",
         "showlegend": true,
         "type": "scatter",
         "x": [
          255,
          171,
          186,
          210,
          190,
          null,
          276,
          267,
          333,
          560,
          360,
          173
         ],
         "xaxis": "x",
         "y": [
          0.806451612903226,
          0.258064516129032,
          0.870967741935484,
          0.774193548387097,
          0.806451612903226,
          null,
          0.580645161290323,
          0.516129032258065,
          0.741935483870968,
          0.67741935483871,
          0.354838709677419,
          0.612903225806452
         ],
         "yaxis": "y"
        }
       ],
       "layout": {
        "legend": {
         "title": {
          "text": "Host"
         },
         "tracegroupgap": 0
        },
        "margin": {
         "t": 60
        },
        "template": {
         "data": {
          "bar": [
           {
            "error_x": {
             "color": "#2a3f5f"
            },
            "error_y": {
             "color": "#2a3f5f"
            },
            "marker": {
             "line": {
              "color": "#E5ECF6",
              "width": 0.5
             },
             "pattern": {
              "fillmode": "overlay",
              "size": 10,
              "solidity": 0.2
             }
            },
            "type": "bar"
           }
          ],
          "barpolar": [
           {
            "marker": {
             "line": {
              "color": "#E5ECF6",
              "width": 0.5
             },
             "pattern": {
              "fillmode": "overlay",
              "size": 10,
              "solidity": 0.2
             }
            },
            "type": "barpolar"
           }
          ],
          "carpet": [
           {
            "aaxis": {
             "endlinecolor": "#2a3f5f",
             "gridcolor": "white",
             "linecolor": "white",
             "minorgridcolor": "white",
             "startlinecolor": "#2a3f5f"
            },
            "baxis": {
             "endlinecolor": "#2a3f5f",
             "gridcolor": "white",
             "linecolor": "white",
             "minorgridcolor": "white",
             "startlinecolor": "#2a3f5f"
            },
            "type": "carpet"
           }
          ],
          "choropleth": [
           {
            "colorbar": {
             "outlinewidth": 0,
             "ticks": ""
            },
            "type": "choropleth"
           }
          ],
          "contour": [
           {
            "colorbar": {
             "outlinewidth": 0,
             "ticks": ""
            },
            "colorscale": [
             [
              0,
              "#0d0887"
             ],
             [
              0.1111111111111111,
              "#46039f"
             ],
             [
              0.2222222222222222,
              "#7201a8"
             ],
             [
              0.3333333333333333,
              "#9c179e"
             ],
             [
              0.4444444444444444,
              "#bd3786"
             ],
             [
              0.5555555555555556,
              "#d8576b"
             ],
             [
              0.6666666666666666,
              "#ed7953"
             ],
             [
              0.7777777777777778,
              "#fb9f3a"
             ],
             [
              0.8888888888888888,
              "#fdca26"
             ],
             [
              1,
              "#f0f921"
             ]
            ],
            "type": "contour"
           }
          ],
          "contourcarpet": [
           {
            "colorbar": {
             "outlinewidth": 0,
             "ticks": ""
            },
            "type": "contourcarpet"
           }
          ],
          "heatmap": [
           {
            "colorbar": {
             "outlinewidth": 0,
             "ticks": ""
            },
            "colorscale": [
             [
              0,
              "#0d0887"
             ],
             [
              0.1111111111111111,
              "#46039f"
             ],
             [
              0.2222222222222222,
              "#7201a8"
             ],
             [
              0.3333333333333333,
              "#9c179e"
             ],
             [
              0.4444444444444444,
              "#bd3786"
             ],
             [
              0.5555555555555556,
              "#d8576b"
             ],
             [
              0.6666666666666666,
              "#ed7953"
             ],
             [
              0.7777777777777778,
              "#fb9f3a"
             ],
             [
              0.8888888888888888,
              "#fdca26"
             ],
             [
              1,
              "#f0f921"
             ]
            ],
            "type": "heatmap"
           }
          ],
          "heatmapgl": [
           {
            "colorbar": {
             "outlinewidth": 0,
             "ticks": ""
            },
            "colorscale": [
             [
              0,
              "#0d0887"
             ],
             [
              0.1111111111111111,
              "#46039f"
             ],
             [
              0.2222222222222222,
              "#7201a8"
             ],
             [
              0.3333333333333333,
              "#9c179e"
             ],
             [
              0.4444444444444444,
              "#bd3786"
             ],
             [
              0.5555555555555556,
              "#d8576b"
             ],
             [
              0.6666666666666666,
              "#ed7953"
             ],
             [
              0.7777777777777778,
              "#fb9f3a"
             ],
             [
              0.8888888888888888,
              "#fdca26"
             ],
             [
              1,
              "#f0f921"
             ]
            ],
            "type": "heatmapgl"
           }
          ],
          "histogram": [
           {
            "marker": {
             "pattern": {
              "fillmode": "overlay",
              "size": 10,
              "solidity": 0.2
             }
            },
            "type": "histogram"
           }
          ],
          "histogram2d": [
           {
            "colorbar": {
             "outlinewidth": 0,
             "ticks": ""
            },
            "colorscale": [
             [
              0,
              "#0d0887"
             ],
             [
              0.1111111111111111,
              "#46039f"
             ],
             [
              0.2222222222222222,
              "#7201a8"
             ],
             [
              0.3333333333333333,
              "#9c179e"
             ],
             [
              0.4444444444444444,
              "#bd3786"
             ],
             [
              0.5555555555555556,
              "#d8576b"
             ],
             [
              0.6666666666666666,
              "#ed7953"
             ],
             [
              0.7777777777777778,
              "#fb9f3a"
             ],
             [
              0.8888888888888888,
              "#fdca26"
             ],
             [
              1,
              "#f0f921"
             ]
            ],
            "type": "histogram2d"
           }
          ],
          "histogram2dcontour": [
           {
            "colorbar": {
             "outlinewidth": 0,
             "ticks": ""
            },
            "colorscale": [
             [
              0,
              "#0d0887"
             ],
             [
              0.1111111111111111,
              "#46039f"
             ],
             [
              0.2222222222222222,
              "#7201a8"
             ],
             [
              0.3333333333333333,
              "#9c179e"
             ],
             [
              0.4444444444444444,
              "#bd3786"
             ],
             [
              0.5555555555555556,
              "#d8576b"
             ],
             [
              0.6666666666666666,
              "#ed7953"
             ],
             [
              0.7777777777777778,
              "#fb9f3a"
             ],
             [
              0.8888888888888888,
              "#fdca26"
             ],
             [
              1,
              "#f0f921"
             ]
            ],
            "type": "histogram2dcontour"
           }
          ],
          "mesh3d": [
           {
            "colorbar": {
             "outlinewidth": 0,
             "ticks": ""
            },
            "type": "mesh3d"
           }
          ],
          "parcoords": [
           {
            "line": {
             "colorbar": {
              "outlinewidth": 0,
              "ticks": ""
             }
            },
            "type": "parcoords"
           }
          ],
          "pie": [
           {
            "automargin": true,
            "type": "pie"
           }
          ],
          "scatter": [
           {
            "fillpattern": {
             "fillmode": "overlay",
             "size": 10,
             "solidity": 0.2
            },
            "type": "scatter"
           }
          ],
          "scatter3d": [
           {
            "line": {
             "colorbar": {
              "outlinewidth": 0,
              "ticks": ""
             }
            },
            "marker": {
             "colorbar": {
              "outlinewidth": 0,
              "ticks": ""
             }
            },
            "type": "scatter3d"
           }
          ],
          "scattercarpet": [
           {
            "marker": {
             "colorbar": {
              "outlinewidth": 0,
              "ticks": ""
             }
            },
            "type": "scattercarpet"
           }
          ],
          "scattergeo": [
           {
            "marker": {
             "colorbar": {
              "outlinewidth": 0,
              "ticks": ""
             }
            },
            "type": "scattergeo"
           }
          ],
          "scattergl": [
           {
            "marker": {
             "colorbar": {
              "outlinewidth": 0,
              "ticks": ""
             }
            },
            "type": "scattergl"
           }
          ],
          "scattermapbox": [
           {
            "marker": {
             "colorbar": {
              "outlinewidth": 0,
              "ticks": ""
             }
            },
            "type": "scattermapbox"
           }
          ],
          "scatterpolar": [
           {
            "marker": {
             "colorbar": {
              "outlinewidth": 0,
              "ticks": ""
             }
            },
            "type": "scatterpolar"
           }
          ],
          "scatterpolargl": [
           {
            "marker": {
             "colorbar": {
              "outlinewidth": 0,
              "ticks": ""
             }
            },
            "type": "scatterpolargl"
           }
          ],
          "scatterternary": [
           {
            "marker": {
             "colorbar": {
              "outlinewidth": 0,
              "ticks": ""
             }
            },
            "type": "scatterternary"
           }
          ],
          "surface": [
           {
            "colorbar": {
             "outlinewidth": 0,
             "ticks": ""
            },
            "colorscale": [
             [
              0,
              "#0d0887"
             ],
             [
              0.1111111111111111,
              "#46039f"
             ],
             [
              0.2222222222222222,
              "#7201a8"
             ],
             [
              0.3333333333333333,
              "#9c179e"
             ],
             [
              0.4444444444444444,
              "#bd3786"
             ],
             [
              0.5555555555555556,
              "#d8576b"
             ],
             [
              0.6666666666666666,
              "#ed7953"
             ],
             [
              0.7777777777777778,
              "#fb9f3a"
             ],
             [
              0.8888888888888888,
              "#fdca26"
             ],
             [
              1,
              "#f0f921"
             ]
            ],
            "type": "surface"
           }
          ],
          "table": [
           {
            "cells": {
             "fill": {
              "color": "#EBF0F8"
             },
             "line": {
              "color": "white"
             }
            },
            "header": {
             "fill": {
              "color": "#C8D4E3"
             },
             "line": {
              "color": "white"
             }
            },
            "type": "table"
           }
          ]
         },
         "layout": {
          "annotationdefaults": {
           "arrowcolor": "#2a3f5f",
           "arrowhead": 0,
           "arrowwidth": 1
          },
          "autotypenumbers": "strict",
          "coloraxis": {
           "colorbar": {
            "outlinewidth": 0,
            "ticks": ""
           }
          },
          "colorscale": {
           "diverging": [
            [
             0,
             "#8e0152"
            ],
            [
             0.1,
             "#c51b7d"
            ],
            [
             0.2,
             "#de77ae"
            ],
            [
             0.3,
             "#f1b6da"
            ],
            [
             0.4,
             "#fde0ef"
            ],
            [
             0.5,
             "#f7f7f7"
            ],
            [
             0.6,
             "#e6f5d0"
            ],
            [
             0.7,
             "#b8e186"
            ],
            [
             0.8,
             "#7fbc41"
            ],
            [
             0.9,
             "#4d9221"
            ],
            [
             1,
             "#276419"
            ]
           ],
           "sequential": [
            [
             0,
             "#0d0887"
            ],
            [
             0.1111111111111111,
             "#46039f"
            ],
            [
             0.2222222222222222,
             "#7201a8"
            ],
            [
             0.3333333333333333,
             "#9c179e"
            ],
            [
             0.4444444444444444,
             "#bd3786"
            ],
            [
             0.5555555555555556,
             "#d8576b"
            ],
            [
             0.6666666666666666,
             "#ed7953"
            ],
            [
             0.7777777777777778,
             "#fb9f3a"
            ],
            [
             0.8888888888888888,
             "#fdca26"
            ],
            [
             1,
             "#f0f921"
            ]
           ],
           "sequentialminus": [
            [
             0,
             "#0d0887"
            ],
            [
             0.1111111111111111,
             "#46039f"
            ],
            [
             0.2222222222222222,
             "#7201a8"
            ],
            [
             0.3333333333333333,
             "#9c179e"
            ],
            [
             0.4444444444444444,
             "#bd3786"
            ],
            [
             0.5555555555555556,
             "#d8576b"
            ],
            [
             0.6666666666666666,
             "#ed7953"
            ],
            [
             0.7777777777777778,
             "#fb9f3a"
            ],
            [
             0.8888888888888888,
             "#fdca26"
            ],
            [
             1,
             "#f0f921"
            ]
           ]
          },
          "colorway": [
           "#636efa",
           "#EF553B",
           "#00cc96",
           "#ab63fa",
           "#FFA15A",
           "#19d3f3",
           "#FF6692",
           "#B6E880",
           "#FF97FF",
           "#FECB52"
          ],
          "font": {
           "color": "#2a3f5f"
          },
          "geo": {
           "bgcolor": "white",
           "lakecolor": "white",
           "landcolor": "#E5ECF6",
           "showlakes": true,
           "showland": true,
           "subunitcolor": "white"
          },
          "hoverlabel": {
           "align": "left"
          },
          "hovermode": "closest",
          "mapbox": {
           "style": "light"
          },
          "paper_bgcolor": "white",
          "plot_bgcolor": "#E5ECF6",
          "polar": {
           "angularaxis": {
            "gridcolor": "white",
            "linecolor": "white",
            "ticks": ""
           },
           "bgcolor": "#E5ECF6",
           "radialaxis": {
            "gridcolor": "white",
            "linecolor": "white",
            "ticks": ""
           }
          },
          "scene": {
           "xaxis": {
            "backgroundcolor": "#E5ECF6",
            "gridcolor": "white",
            "gridwidth": 2,
            "linecolor": "white",
            "showbackground": true,
            "ticks": "",
            "zerolinecolor": "white"
           },
           "yaxis": {
            "backgroundcolor": "#E5ECF6",
            "gridcolor": "white",
            "gridwidth": 2,
            "linecolor": "white",
            "showbackground": true,
            "ticks": "",
            "zerolinecolor": "white"
           },
           "zaxis": {
            "backgroundcolor": "#E5ECF6",
            "gridcolor": "white",
            "gridwidth": 2,
            "linecolor": "white",
            "showbackground": true,
            "ticks": "",
            "zerolinecolor": "white"
           }
          },
          "shapedefaults": {
           "line": {
            "color": "#2a3f5f"
           }
          },
          "ternary": {
           "aaxis": {
            "gridcolor": "white",
            "linecolor": "white",
            "ticks": ""
           },
           "baxis": {
            "gridcolor": "white",
            "linecolor": "white",
            "ticks": ""
           },
           "bgcolor": "#E5ECF6",
           "caxis": {
            "gridcolor": "white",
            "linecolor": "white",
            "ticks": ""
           }
          },
          "title": {
           "x": 0.05
          },
          "xaxis": {
           "automargin": true,
           "gridcolor": "white",
           "linecolor": "white",
           "ticks": "",
           "title": {
            "standoff": 15
           },
           "zerolinecolor": "white",
           "zerolinewidth": 2
          },
          "yaxis": {
           "automargin": true,
           "gridcolor": "white",
           "linecolor": "white",
           "ticks": "",
           "title": {
            "standoff": 15
           },
           "zerolinecolor": "white",
           "zerolinewidth": 2
          }
         }
        },
        "xaxis": {
         "anchor": "y",
         "domain": [
          0,
          1
         ],
         "title": {
          "text": "manual ADR"
         }
        },
        "yaxis": {
         "anchor": "x",
         "domain": [
          0,
          1
         ],
         "title": {
          "text": "manual Occupancy"
         }
        }
       }
      },
      "text/html": [
       "<div>                            <div id=\"c2f6aad0-fa35-4c86-95f1-7859cbf636e4\" class=\"plotly-graph-div\" style=\"height:525px; width:100%;\"></div>            <script type=\"text/javascript\">                require([\"plotly\"], function(Plotly) {                    window.PLOTLYENV=window.PLOTLYENV || {};                                    if (document.getElementById(\"c2f6aad0-fa35-4c86-95f1-7859cbf636e4\")) {                    Plotly.newPlot(                        \"c2f6aad0-fa35-4c86-95f1-7859cbf636e4\",                        [{\"customdata\":[[null,\"https://www.airbnb.com/rooms/46038476\"],[\"Too fancy, comp won\\u2019t compare\",\"https://www.airbnb.com/rooms/54064539\"],[\"No Dynamic Pricing, looks like a house, not a cabin\",\"https://www.airbnb.com/rooms/52210633\"],[\"Fancy, Cabin Style\",\"https://www.airbnb.com/rooms/721062423659714038\"],[\"Bad Photos, On River\",\"https://www.airbnb.com/rooms/566008910384238034\"],[\"Quaint Cabind Style, Near Rattlesnake Ledge\",\"https://www.airbnb.com/rooms/51785328\"],[\"Owner Occupied, Poor Photos, Basement Apartment, Language Barrier\",\"https://www.airbnb.com/rooms/23960139\"],[\"New Listing, Underpriced, Bad Photos\",\"https://www.airbnb.com/rooms/732625739862507774\"],[\"Newer Listing\",\"https://www.airbnb.com/rooms/48258178\"],[\"In Town, updated\",\"https://www.airbnb.com/rooms/719625260995322512\"],[\"Superhost, relatively new\",\"https://www.airbnb.com/rooms/23021120\"],[\"Superhost not vacasa or corporate\",\"https://www.airbnb.com/rooms/51149790\"],[\"Superhost not vacasa or corporate\",\"https://www.airbnb.com/rooms/26032476\"],[\"Superhost not vacasa or corporate\",\"https://www.airbnb.com/rooms/630394210952855297\"],[\"Superhost\",\"https://www.airbnb.com/rooms/36699088\"],[\"Superhost\",\"https://www.airbnb.com/rooms/48943693\"],[\"Ugly Old\",\"https://www.airbnb.com/rooms/53811926\"],[\"Looks Nice\",\"https://www.airbnb.com/rooms/49487409\"],[\"Nice, Superhost\",\"https://www.airbnb.com/rooms/36114880\"],[\"Superhost\",\"https://www.airbnb.com/rooms/23021070\"],[\"Superhost, good photos\",\"https://www.airbnb.com/rooms/46619467\"],[\"Expensive Furniture\",\"https://www.airbnb.com/rooms/557125827091662488\"],[\"Superhost, good furniture\",\"https://www.airbnb.com/rooms/49016675\"],[\"Superhost, condo community\",\"https://www.airbnb.com/rooms/23021100\"],[\"Superhost, by the beach\",\"https://www.airbnb.com/rooms/23352493\"],[\"Superhost\",\"https://www.airbnb.com/rooms/52735414\"],[\"Superhost, Nice Photos\",\"https://www.airbnb.com/rooms/666970338596390385\"],[\"On Stilts, Experience\",\"https://www.airbnb.com/rooms/50858816\"],[\"Fancy, Pro Photos\",\"https://www.airbnb.com/rooms/689441742434586212\"]],\"hovertemplate\":\"Host=Superhost<br>manual ADR=%{x}<br>manual Occupancy=%{y}<br>Notes=%{customdata[0]}<br>url=%{customdata[1]}<extra></extra>\",\"legendgroup\":\"Superhost\",\"marker\":{\"color\":\"#636efa\",\"symbol\":\"circle\"},\"mode\":\"markers\",\"name\":\"Superhost\",\"orientation\":\"v\",\"showlegend\":true,\"x\":[134.0,245.0,189.0,350.0,281.0,250.0,180.0,145.0,125.0,160.0,360.0,235.0,421.0,335.0,250.0,262.0,148.0,135.0,135.0,287.0,229.0,168.0,157.0,251.0,240.0,141.0,256.0,375.0,241.0],\"xaxis\":\"x\",\"y\":[0.903225806451613,0.645161290322581,0.645161290322581,0.580645161290323,0.451612903225806,1.0,0.483870967741936,0.709677419354839,0.612903225806452,0.451612903225806,0.645161290322581,0.838709677419355,0.225806451612903,0.387096774193548,0.161290322580645,0.483870967741936,0.258064516129032,0.67741935483871,0.645161290322581,0.483870967741936,0.225806451612903,0.612903225806452,0.645161290322581,0.645161290322581,0.903225806451613,0.612903225806452,0.47,0.2,0.290322580645161],\"yaxis\":\"y\",\"type\":\"scatter\"},{\"customdata\":[[\"Overpriced\",\"https://www.airbnb.com/rooms/45926314\"],[\"Ugly, No Dynamic Pricing\",\"https://www.airbnb.com/rooms/19908956\"],[\"Lakefront, bad photos, Overpriced\",\"https://www.airbnb.com/rooms/714819816371099049\"],[\"Owner Occupied\",\"https://www.airbnb.com/rooms/768978483572927801\"],[\"On River\",\"https://www.airbnb.com/rooms/47389228\"],[\"Overpriced\",\"https://www.airbnb.com/rooms/27342797\"],[\"Not Superhost\",\"https://www.airbnb.com/rooms/33964064\"],[\"new listing\",\"https://www.airbnb.com/rooms/698544908100904679\"],[\"New Listing\",\"https://www.airbnb.com/rooms/878864519405589544\"],[\"Nonsuperhost\",\"https://www.airbnb.com/rooms/29740451\"]],\"hovertemplate\":\"Host=Regular<br>manual ADR=%{x}<br>manual Occupancy=%{y}<br>Notes=%{customdata[0]}<br>url=%{customdata[1]}<extra></extra>\",\"legendgroup\":\"Regular\",\"marker\":{\"color\":\"#EF553B\",\"symbol\":\"circle\"},\"mode\":\"markers\",\"name\":\"Regular\",\"orientation\":\"v\",\"showlegend\":true,\"x\":[375.0,145.0,470.0,270.0,200.0,257.0,315.0,205.0,168.0,254.0],\"xaxis\":\"x\",\"y\":[0.32258064516129,0.516129032258065,0.0,0.225806451612903,0.451612903225806,0.193548387096774,0.774193548387097,0.387096774193548,0.806451612903226,0.483870967741936],\"yaxis\":\"y\",\"type\":\"scatter\"},{\"customdata\":[[\"Evolve Management yields bad reviews\",\"https://www.airbnb.com/rooms/20889506\"],[\"Vacasa, bad reviews and cleaning\",\"https://www.airbnb.com/rooms/30071398\"],[\"Vacasa, bad reviews and cleaning\",\"https://www.airbnb.com/rooms/26051988\"],[\"Vacasa, very nice looking\",\"https://www.airbnb.com/rooms/847850412831339117\"],[\"Vacasa\",\"https://www.airbnb.com/rooms/572969241718961944\"],[\"Off Calendar\",\"https://www.airbnb.com/rooms/812259821220935977\"],[\"Corporation\",\"https://www.airbnb.com/rooms/46358968\"],[\"Corporation\",\"https://www.airbnb.com/rooms/46358968\"],[\"Corporation\",\"https://www.airbnb.com/rooms/39804129\"],[\"Way too nice to count as a comp\",\"https://www.airbnb.com/rooms/772511804409507635?\"],[\"Too nice to comp\",\"https://www.airbnb.com/rooms/46466747\"],[\"Evolve Management yields bad reviews\",\"https://www.airbnb.com/rooms/47329399\"]],\"hovertemplate\":\"Host=Corporate<br>manual ADR=%{x}<br>manual Occupancy=%{y}<br>Notes=%{customdata[0]}<br>url=%{customdata[1]}<extra></extra>\",\"legendgroup\":\"Corporate\",\"marker\":{\"color\":\"#00cc96\",\"symbol\":\"circle\"},\"mode\":\"markers\",\"name\":\"Corporate\",\"orientation\":\"v\",\"showlegend\":true,\"x\":[255.0,171.0,186.0,210.0,190.0,null,276.0,267.0,333.0,560.0,360.0,173.0],\"xaxis\":\"x\",\"y\":[0.806451612903226,0.258064516129032,0.870967741935484,0.774193548387097,0.806451612903226,null,0.580645161290323,0.516129032258065,0.741935483870968,0.67741935483871,0.354838709677419,0.612903225806452],\"yaxis\":\"y\",\"type\":\"scatter\"}],                        {\"template\":{\"data\":{\"histogram2dcontour\":[{\"type\":\"histogram2dcontour\",\"colorbar\":{\"outlinewidth\":0,\"ticks\":\"\"},\"colorscale\":[[0.0,\"#0d0887\"],[0.1111111111111111,\"#46039f\"],[0.2222222222222222,\"#7201a8\"],[0.3333333333333333,\"#9c179e\"],[0.4444444444444444,\"#bd3786\"],[0.5555555555555556,\"#d8576b\"],[0.6666666666666666,\"#ed7953\"],[0.7777777777777778,\"#fb9f3a\"],[0.8888888888888888,\"#fdca26\"],[1.0,\"#f0f921\"]]}],\"choropleth\":[{\"type\":\"choropleth\",\"colorbar\":{\"outlinewidth\":0,\"ticks\":\"\"}}],\"histogram2d\":[{\"type\":\"histogram2d\",\"colorbar\":{\"outlinewidth\":0,\"ticks\":\"\"},\"colorscale\":[[0.0,\"#0d0887\"],[0.1111111111111111,\"#46039f\"],[0.2222222222222222,\"#7201a8\"],[0.3333333333333333,\"#9c179e\"],[0.4444444444444444,\"#bd3786\"],[0.5555555555555556,\"#d8576b\"],[0.6666666666666666,\"#ed7953\"],[0.7777777777777778,\"#fb9f3a\"],[0.8888888888888888,\"#fdca26\"],[1.0,\"#f0f921\"]]}],\"heatmap\":[{\"type\":\"heatmap\",\"colorbar\":{\"outlinewidth\":0,\"ticks\":\"\"},\"colorscale\":[[0.0,\"#0d0887\"],[0.1111111111111111,\"#46039f\"],[0.2222222222222222,\"#7201a8\"],[0.3333333333333333,\"#9c179e\"],[0.4444444444444444,\"#bd3786\"],[0.5555555555555556,\"#d8576b\"],[0.6666666666666666,\"#ed7953\"],[0.7777777777777778,\"#fb9f3a\"],[0.8888888888888888,\"#fdca26\"],[1.0,\"#f0f921\"]]}],\"heatmapgl\":[{\"type\":\"heatmapgl\",\"colorbar\":{\"outlinewidth\":0,\"ticks\":\"\"},\"colorscale\":[[0.0,\"#0d0887\"],[0.1111111111111111,\"#46039f\"],[0.2222222222222222,\"#7201a8\"],[0.3333333333333333,\"#9c179e\"],[0.4444444444444444,\"#bd3786\"],[0.5555555555555556,\"#d8576b\"],[0.6666666666666666,\"#ed7953\"],[0.7777777777777778,\"#fb9f3a\"],[0.8888888888888888,\"#fdca26\"],[1.0,\"#f0f921\"]]}],\"contourcarpet\":[{\"type\":\"contourcarpet\",\"colorbar\":{\"outlinewidth\":0,\"ticks\":\"\"}}],\"contour\":[{\"type\":\"contour\",\"colorbar\":{\"outlinewidth\":0,\"ticks\":\"\"},\"colorscale\":[[0.0,\"#0d0887\"],[0.1111111111111111,\"#46039f\"],[0.2222222222222222,\"#7201a8\"],[0.3333333333333333,\"#9c179e\"],[0.4444444444444444,\"#bd3786\"],[0.5555555555555556,\"#d8576b\"],[0.6666666666666666,\"#ed7953\"],[0.7777777777777778,\"#fb9f3a\"],[0.8888888888888888,\"#fdca26\"],[1.0,\"#f0f921\"]]}],\"surface\":[{\"type\":\"surface\",\"colorbar\":{\"outlinewidth\":0,\"ticks\":\"\"},\"colorscale\":[[0.0,\"#0d0887\"],[0.1111111111111111,\"#46039f\"],[0.2222222222222222,\"#7201a8\"],[0.3333333333333333,\"#9c179e\"],[0.4444444444444444,\"#bd3786\"],[0.5555555555555556,\"#d8576b\"],[0.6666666666666666,\"#ed7953\"],[0.7777777777777778,\"#fb9f3a\"],[0.8888888888888888,\"#fdca26\"],[1.0,\"#f0f921\"]]}],\"mesh3d\":[{\"type\":\"mesh3d\",\"colorbar\":{\"outlinewidth\":0,\"ticks\":\"\"}}],\"scatter\":[{\"fillpattern\":{\"fillmode\":\"overlay\",\"size\":10,\"solidity\":0.2},\"type\":\"scatter\"}],\"parcoords\":[{\"type\":\"parcoords\",\"line\":{\"colorbar\":{\"outlinewidth\":0,\"ticks\":\"\"}}}],\"scatterpolargl\":[{\"type\":\"scatterpolargl\",\"marker\":{\"colorbar\":{\"outlinewidth\":0,\"ticks\":\"\"}}}],\"bar\":[{\"error_x\":{\"color\":\"#2a3f5f\"},\"error_y\":{\"color\":\"#2a3f5f\"},\"marker\":{\"line\":{\"color\":\"#E5ECF6\",\"width\":0.5},\"pattern\":{\"fillmode\":\"overlay\",\"size\":10,\"solidity\":0.2}},\"type\":\"bar\"}],\"scattergeo\":[{\"type\":\"scattergeo\",\"marker\":{\"colorbar\":{\"outlinewidth\":0,\"ticks\":\"\"}}}],\"scatterpolar\":[{\"type\":\"scatterpolar\",\"marker\":{\"colorbar\":{\"outlinewidth\":0,\"ticks\":\"\"}}}],\"histogram\":[{\"marker\":{\"pattern\":{\"fillmode\":\"overlay\",\"size\":10,\"solidity\":0.2}},\"type\":\"histogram\"}],\"scattergl\":[{\"type\":\"scattergl\",\"marker\":{\"colorbar\":{\"outlinewidth\":0,\"ticks\":\"\"}}}],\"scatter3d\":[{\"type\":\"scatter3d\",\"line\":{\"colorbar\":{\"outlinewidth\":0,\"ticks\":\"\"}},\"marker\":{\"colorbar\":{\"outlinewidth\":0,\"ticks\":\"\"}}}],\"scattermapbox\":[{\"type\":\"scattermapbox\",\"marker\":{\"colorbar\":{\"outlinewidth\":0,\"ticks\":\"\"}}}],\"scatterternary\":[{\"type\":\"scatterternary\",\"marker\":{\"colorbar\":{\"outlinewidth\":0,\"ticks\":\"\"}}}],\"scattercarpet\":[{\"type\":\"scattercarpet\",\"marker\":{\"colorbar\":{\"outlinewidth\":0,\"ticks\":\"\"}}}],\"carpet\":[{\"aaxis\":{\"endlinecolor\":\"#2a3f5f\",\"gridcolor\":\"white\",\"linecolor\":\"white\",\"minorgridcolor\":\"white\",\"startlinecolor\":\"#2a3f5f\"},\"baxis\":{\"endlinecolor\":\"#2a3f5f\",\"gridcolor\":\"white\",\"linecolor\":\"white\",\"minorgridcolor\":\"white\",\"startlinecolor\":\"#2a3f5f\"},\"type\":\"carpet\"}],\"table\":[{\"cells\":{\"fill\":{\"color\":\"#EBF0F8\"},\"line\":{\"color\":\"white\"}},\"header\":{\"fill\":{\"color\":\"#C8D4E3\"},\"line\":{\"color\":\"white\"}},\"type\":\"table\"}],\"barpolar\":[{\"marker\":{\"line\":{\"color\":\"#E5ECF6\",\"width\":0.5},\"pattern\":{\"fillmode\":\"overlay\",\"size\":10,\"solidity\":0.2}},\"type\":\"barpolar\"}],\"pie\":[{\"automargin\":true,\"type\":\"pie\"}]},\"layout\":{\"autotypenumbers\":\"strict\",\"colorway\":[\"#636efa\",\"#EF553B\",\"#00cc96\",\"#ab63fa\",\"#FFA15A\",\"#19d3f3\",\"#FF6692\",\"#B6E880\",\"#FF97FF\",\"#FECB52\"],\"font\":{\"color\":\"#2a3f5f\"},\"hovermode\":\"closest\",\"hoverlabel\":{\"align\":\"left\"},\"paper_bgcolor\":\"white\",\"plot_bgcolor\":\"#E5ECF6\",\"polar\":{\"bgcolor\":\"#E5ECF6\",\"angularaxis\":{\"gridcolor\":\"white\",\"linecolor\":\"white\",\"ticks\":\"\"},\"radialaxis\":{\"gridcolor\":\"white\",\"linecolor\":\"white\",\"ticks\":\"\"}},\"ternary\":{\"bgcolor\":\"#E5ECF6\",\"aaxis\":{\"gridcolor\":\"white\",\"linecolor\":\"white\",\"ticks\":\"\"},\"baxis\":{\"gridcolor\":\"white\",\"linecolor\":\"white\",\"ticks\":\"\"},\"caxis\":{\"gridcolor\":\"white\",\"linecolor\":\"white\",\"ticks\":\"\"}},\"coloraxis\":{\"colorbar\":{\"outlinewidth\":0,\"ticks\":\"\"}},\"colorscale\":{\"sequential\":[[0.0,\"#0d0887\"],[0.1111111111111111,\"#46039f\"],[0.2222222222222222,\"#7201a8\"],[0.3333333333333333,\"#9c179e\"],[0.4444444444444444,\"#bd3786\"],[0.5555555555555556,\"#d8576b\"],[0.6666666666666666,\"#ed7953\"],[0.7777777777777778,\"#fb9f3a\"],[0.8888888888888888,\"#fdca26\"],[1.0,\"#f0f921\"]],\"sequentialminus\":[[0.0,\"#0d0887\"],[0.1111111111111111,\"#46039f\"],[0.2222222222222222,\"#7201a8\"],[0.3333333333333333,\"#9c179e\"],[0.4444444444444444,\"#bd3786\"],[0.5555555555555556,\"#d8576b\"],[0.6666666666666666,\"#ed7953\"],[0.7777777777777778,\"#fb9f3a\"],[0.8888888888888888,\"#fdca26\"],[1.0,\"#f0f921\"]],\"diverging\":[[0,\"#8e0152\"],[0.1,\"#c51b7d\"],[0.2,\"#de77ae\"],[0.3,\"#f1b6da\"],[0.4,\"#fde0ef\"],[0.5,\"#f7f7f7\"],[0.6,\"#e6f5d0\"],[0.7,\"#b8e186\"],[0.8,\"#7fbc41\"],[0.9,\"#4d9221\"],[1,\"#276419\"]]},\"xaxis\":{\"gridcolor\":\"white\",\"linecolor\":\"white\",\"ticks\":\"\",\"title\":{\"standoff\":15},\"zerolinecolor\":\"white\",\"automargin\":true,\"zerolinewidth\":2},\"yaxis\":{\"gridcolor\":\"white\",\"linecolor\":\"white\",\"ticks\":\"\",\"title\":{\"standoff\":15},\"zerolinecolor\":\"white\",\"automargin\":true,\"zerolinewidth\":2},\"scene\":{\"xaxis\":{\"backgroundcolor\":\"#E5ECF6\",\"gridcolor\":\"white\",\"linecolor\":\"white\",\"showbackground\":true,\"ticks\":\"\",\"zerolinecolor\":\"white\",\"gridwidth\":2},\"yaxis\":{\"backgroundcolor\":\"#E5ECF6\",\"gridcolor\":\"white\",\"linecolor\":\"white\",\"showbackground\":true,\"ticks\":\"\",\"zerolinecolor\":\"white\",\"gridwidth\":2},\"zaxis\":{\"backgroundcolor\":\"#E5ECF6\",\"gridcolor\":\"white\",\"linecolor\":\"white\",\"showbackground\":true,\"ticks\":\"\",\"zerolinecolor\":\"white\",\"gridwidth\":2}},\"shapedefaults\":{\"line\":{\"color\":\"#2a3f5f\"}},\"annotationdefaults\":{\"arrowcolor\":\"#2a3f5f\",\"arrowhead\":0,\"arrowwidth\":1},\"geo\":{\"bgcolor\":\"white\",\"landcolor\":\"#E5ECF6\",\"subunitcolor\":\"white\",\"showland\":true,\"showlakes\":true,\"lakecolor\":\"white\"},\"title\":{\"x\":0.05},\"mapbox\":{\"style\":\"light\"}}},\"xaxis\":{\"anchor\":\"y\",\"domain\":[0.0,1.0],\"title\":{\"text\":\"manual ADR\"}},\"yaxis\":{\"anchor\":\"x\",\"domain\":[0.0,1.0],\"title\":{\"text\":\"manual Occupancy\"}},\"legend\":{\"title\":{\"text\":\"Host\"},\"tracegroupgap\":0},\"margin\":{\"t\":60}},                        {\"responsive\": true}                    ).then(function(){\n",
       "                            \n",
       "var gd = document.getElementById('c2f6aad0-fa35-4c86-95f1-7859cbf636e4');\n",
       "var x = new MutationObserver(function (mutations, observer) {{\n",
       "        var display = window.getComputedStyle(gd).display;\n",
       "        if (!display || display === 'none') {{\n",
       "            console.log([gd, 'removed!']);\n",
       "            Plotly.purge(gd);\n",
       "            observer.disconnect();\n",
       "        }}\n",
       "}});\n",
       "\n",
       "// Listen for the removal of the full notebook cells\n",
       "var notebookContainer = gd.closest('#notebook-container');\n",
       "if (notebookContainer) {{\n",
       "    x.observe(notebookContainer, {childList: true});\n",
       "}}\n",
       "\n",
       "// Listen for the clearing of the current output cell\n",
       "var outputEl = gd.closest('.output');\n",
       "if (outputEl) {{\n",
       "    x.observe(outputEl, {childList: true});\n",
       "}}\n",
       "\n",
       "                        })                };                });            </script>        </div>"
      ]
     },
     "metadata": {},
     "output_type": "display_data"
    },
    {
     "data": {
      "application/javascript": [
       "\n",
       "            setTimeout(function() {\n",
       "                var nbb_cell_id = 111;\n",
       "                var nbb_unformatted_code = \"fig = px.scatter(\\n    comps,\\n    y=\\\"manual Occupancy\\\",\\n    x=\\\"manual ADR\\\",\\n    color=\\\"Host\\\",\\n    hover_data=[\\\"Notes\\\", \\\"url\\\"],\\n)\\nfig.show()\\n\\n# adr_vs_ocp = sns.scatterplot(\\n#     data=comps, x=\\\"manual Occupancy\\\", y=\\\"manual ADR\\\", hue=\\\"Host\\\"\\n# )\";\n",
       "                var nbb_formatted_code = \"fig = px.scatter(\\n    comps,\\n    y=\\\"manual Occupancy\\\",\\n    x=\\\"manual ADR\\\",\\n    color=\\\"Host\\\",\\n    hover_data=[\\\"Notes\\\", \\\"url\\\"],\\n)\\nfig.show()\\n\\n# adr_vs_ocp = sns.scatterplot(\\n#     data=comps, x=\\\"manual Occupancy\\\", y=\\\"manual ADR\\\", hue=\\\"Host\\\"\\n# )\";\n",
       "                var nbb_cells = Jupyter.notebook.get_cells();\n",
       "                for (var i = 0; i < nbb_cells.length; ++i) {\n",
       "                    if (nbb_cells[i].input_prompt_number == nbb_cell_id) {\n",
       "                        if (nbb_cells[i].get_text() == nbb_unformatted_code) {\n",
       "                             nbb_cells[i].set_text(nbb_formatted_code);\n",
       "                        }\n",
       "                        break;\n",
       "                    }\n",
       "                }\n",
       "            }, 500);\n",
       "            "
      ],
      "text/plain": [
       "<IPython.core.display.Javascript object>"
      ]
     },
     "metadata": {},
     "output_type": "display_data"
    }
   ],
   "source": [
    "fig = px.scatter(\n",
    "    comps,\n",
    "    y=\"manual Occupancy\",\n",
    "    x=\"manual ADR\",\n",
    "    color=\"Host\",\n",
    "    hover_data=[\"Notes\", \"url\"],\n",
    ")\n",
    "fig.show()\n",
    "\n",
    "# adr_vs_ocp = sns.scatterplot(\n",
    "#     data=comps, x=\"manual Occupancy\", y=\"manual ADR\", hue=\"Host\"\n",
    "# )"
   ]
  },
  {
   "cell_type": "code",
   "execution_count": 112,
   "id": "75ad4154",
   "metadata": {},
   "outputs": [
    {
     "data": {
      "application/javascript": [
       "\n",
       "            setTimeout(function() {\n",
       "                var nbb_cell_id = 112;\n",
       "                var nbb_unformatted_code = \"exclude_indx = [11, 5, 48]\\ncomps.drop(index=exclude_indx, inplace=True)\";\n",
       "                var nbb_formatted_code = \"exclude_indx = [11, 5, 48]\\ncomps.drop(index=exclude_indx, inplace=True)\";\n",
       "                var nbb_cells = Jupyter.notebook.get_cells();\n",
       "                for (var i = 0; i < nbb_cells.length; ++i) {\n",
       "                    if (nbb_cells[i].input_prompt_number == nbb_cell_id) {\n",
       "                        if (nbb_cells[i].get_text() == nbb_unformatted_code) {\n",
       "                             nbb_cells[i].set_text(nbb_formatted_code);\n",
       "                        }\n",
       "                        break;\n",
       "                    }\n",
       "                }\n",
       "            }, 500);\n",
       "            "
      ],
      "text/plain": [
       "<IPython.core.display.Javascript object>"
      ]
     },
     "metadata": {},
     "output_type": "display_data"
    }
   ],
   "source": [
    "exclude_indx = [11, 5, 48]\n",
    "comps.drop(index=exclude_indx, inplace=True)"
   ]
  },
  {
   "cell_type": "code",
   "execution_count": null,
   "id": "8256d5e5",
   "metadata": {},
   "outputs": [],
   "source": []
  },
  {
   "cell_type": "code",
   "execution_count": 113,
   "id": "44e4b863",
   "metadata": {},
   "outputs": [
    {
     "data": {
      "application/vnd.plotly.v1+json": {
       "config": {
        "plotlyServerURL": "https://plot.ly"
       },
       "data": [
        {
         "customdata": [
          [
           null,
           "https://www.airbnb.com/rooms/46038476"
          ],
          [
           "Too fancy, comp won’t compare",
           "https://www.airbnb.com/rooms/54064539"
          ],
          [
           "No Dynamic Pricing, looks like a house, not a cabin",
           "https://www.airbnb.com/rooms/52210633"
          ],
          [
           "Fancy, Cabin Style",
           "https://www.airbnb.com/rooms/721062423659714038"
          ],
          [
           "Bad Photos, On River",
           "https://www.airbnb.com/rooms/566008910384238034"
          ],
          [
           "Owner Occupied, Poor Photos, Basement Apartment, Language Barrier",
           "https://www.airbnb.com/rooms/23960139"
          ],
          [
           "New Listing, Underpriced, Bad Photos",
           "https://www.airbnb.com/rooms/732625739862507774"
          ],
          [
           "Newer Listing",
           "https://www.airbnb.com/rooms/48258178"
          ],
          [
           "In Town, updated",
           "https://www.airbnb.com/rooms/719625260995322512"
          ],
          [
           "Superhost, relatively new",
           "https://www.airbnb.com/rooms/23021120"
          ],
          [
           "Superhost not vacasa or corporate",
           "https://www.airbnb.com/rooms/51149790"
          ],
          [
           "Superhost not vacasa or corporate",
           "https://www.airbnb.com/rooms/26032476"
          ],
          [
           "Superhost not vacasa or corporate",
           "https://www.airbnb.com/rooms/630394210952855297"
          ],
          [
           "Superhost",
           "https://www.airbnb.com/rooms/36699088"
          ],
          [
           "Superhost",
           "https://www.airbnb.com/rooms/48943693"
          ],
          [
           "Ugly Old",
           "https://www.airbnb.com/rooms/53811926"
          ],
          [
           "Looks Nice",
           "https://www.airbnb.com/rooms/49487409"
          ],
          [
           "Nice, Superhost",
           "https://www.airbnb.com/rooms/36114880"
          ],
          [
           "Superhost",
           "https://www.airbnb.com/rooms/23021070"
          ],
          [
           "Superhost, good photos",
           "https://www.airbnb.com/rooms/46619467"
          ],
          [
           "Expensive Furniture",
           "https://www.airbnb.com/rooms/557125827091662488"
          ],
          [
           "Superhost, good furniture",
           "https://www.airbnb.com/rooms/49016675"
          ],
          [
           "Superhost, condo community",
           "https://www.airbnb.com/rooms/23021100"
          ],
          [
           "Superhost, by the beach",
           "https://www.airbnb.com/rooms/23352493"
          ],
          [
           "Superhost",
           "https://www.airbnb.com/rooms/52735414"
          ],
          [
           "Superhost, Nice Photos",
           "https://www.airbnb.com/rooms/666970338596390385"
          ],
          [
           "On Stilts, Experience",
           "https://www.airbnb.com/rooms/50858816"
          ],
          [
           "Fancy, Pro Photos",
           "https://www.airbnb.com/rooms/689441742434586212"
          ]
         ],
         "hovertemplate": "Host=Superhost<br>manual ADR=%{x}<br>manual Occupancy=%{y}<br>Notes=%{customdata[0]}<br>url=%{customdata[1]}<extra></extra>",
         "legendgroup": "Superhost",
         "marker": {
          "color": "#636efa",
          "symbol": "circle"
         },
         "mode": "markers",
         "name": "Superhost",
         "orientation": "v",
         "showlegend": true,
         "type": "scatter",
         "x": [
          134,
          245,
          189,
          350,
          281,
          180,
          145,
          125,
          160,
          360,
          235,
          421,
          335,
          250,
          262,
          148,
          135,
          135,
          287,
          229,
          168,
          157,
          251,
          240,
          141,
          256,
          375,
          241
         ],
         "xaxis": "x",
         "y": [
          0.903225806451613,
          0.645161290322581,
          0.645161290322581,
          0.580645161290323,
          0.451612903225806,
          0.483870967741936,
          0.709677419354839,
          0.612903225806452,
          0.451612903225806,
          0.645161290322581,
          0.838709677419355,
          0.225806451612903,
          0.387096774193548,
          0.161290322580645,
          0.483870967741936,
          0.258064516129032,
          0.67741935483871,
          0.645161290322581,
          0.483870967741936,
          0.225806451612903,
          0.612903225806452,
          0.645161290322581,
          0.645161290322581,
          0.903225806451613,
          0.612903225806452,
          0.47,
          0.2,
          0.290322580645161
         ],
         "yaxis": "y"
        },
        {
         "customdata": [
          [
           "Overpriced",
           "https://www.airbnb.com/rooms/45926314"
          ],
          [
           "Ugly, No Dynamic Pricing",
           "https://www.airbnb.com/rooms/19908956"
          ],
          [
           "Owner Occupied",
           "https://www.airbnb.com/rooms/768978483572927801"
          ],
          [
           "On River",
           "https://www.airbnb.com/rooms/47389228"
          ],
          [
           "Overpriced",
           "https://www.airbnb.com/rooms/27342797"
          ],
          [
           "Not Superhost",
           "https://www.airbnb.com/rooms/33964064"
          ],
          [
           "new listing",
           "https://www.airbnb.com/rooms/698544908100904679"
          ],
          [
           "New Listing",
           "https://www.airbnb.com/rooms/878864519405589544"
          ],
          [
           "Nonsuperhost",
           "https://www.airbnb.com/rooms/29740451"
          ]
         ],
         "hovertemplate": "Host=Regular<br>manual ADR=%{x}<br>manual Occupancy=%{y}<br>Notes=%{customdata[0]}<br>url=%{customdata[1]}<extra></extra>",
         "legendgroup": "Regular",
         "marker": {
          "color": "#EF553B",
          "symbol": "circle"
         },
         "mode": "markers",
         "name": "Regular",
         "orientation": "v",
         "showlegend": true,
         "type": "scatter",
         "x": [
          375,
          145,
          270,
          200,
          257,
          315,
          205,
          168,
          254
         ],
         "xaxis": "x",
         "y": [
          0.32258064516129,
          0.516129032258065,
          0.225806451612903,
          0.451612903225806,
          0.193548387096774,
          0.774193548387097,
          0.387096774193548,
          0.806451612903226,
          0.483870967741936
         ],
         "yaxis": "y"
        },
        {
         "customdata": [
          [
           "Evolve Management yields bad reviews",
           "https://www.airbnb.com/rooms/20889506"
          ],
          [
           "Vacasa, bad reviews and cleaning",
           "https://www.airbnb.com/rooms/30071398"
          ],
          [
           "Vacasa, bad reviews and cleaning",
           "https://www.airbnb.com/rooms/26051988"
          ],
          [
           "Vacasa, very nice looking",
           "https://www.airbnb.com/rooms/847850412831339117"
          ],
          [
           "Vacasa",
           "https://www.airbnb.com/rooms/572969241718961944"
          ],
          [
           "Off Calendar",
           "https://www.airbnb.com/rooms/812259821220935977"
          ],
          [
           "Corporation",
           "https://www.airbnb.com/rooms/46358968"
          ],
          [
           "Corporation",
           "https://www.airbnb.com/rooms/46358968"
          ],
          [
           "Corporation",
           "https://www.airbnb.com/rooms/39804129"
          ],
          [
           "Too nice to comp",
           "https://www.airbnb.com/rooms/46466747"
          ],
          [
           "Evolve Management yields bad reviews",
           "https://www.airbnb.com/rooms/47329399"
          ]
         ],
         "hovertemplate": "Host=Corporate<br>manual ADR=%{x}<br>manual Occupancy=%{y}<br>Notes=%{customdata[0]}<br>url=%{customdata[1]}<extra></extra>",
         "legendgroup": "Corporate",
         "marker": {
          "color": "#00cc96",
          "symbol": "circle"
         },
         "mode": "markers",
         "name": "Corporate",
         "orientation": "v",
         "showlegend": true,
         "type": "scatter",
         "x": [
          255,
          171,
          186,
          210,
          190,
          null,
          276,
          267,
          333,
          360,
          173
         ],
         "xaxis": "x",
         "y": [
          0.806451612903226,
          0.258064516129032,
          0.870967741935484,
          0.774193548387097,
          0.806451612903226,
          null,
          0.580645161290323,
          0.516129032258065,
          0.741935483870968,
          0.354838709677419,
          0.612903225806452
         ],
         "yaxis": "y"
        }
       ],
       "layout": {
        "legend": {
         "title": {
          "text": "Host"
         },
         "tracegroupgap": 0
        },
        "margin": {
         "t": 60
        },
        "shapes": [
         {
          "type": "line",
          "x0": 0,
          "x1": 500,
          "y0": 0.752611,
          "y1": 0.302611
         }
        ],
        "template": {
         "data": {
          "bar": [
           {
            "error_x": {
             "color": "#2a3f5f"
            },
            "error_y": {
             "color": "#2a3f5f"
            },
            "marker": {
             "line": {
              "color": "#E5ECF6",
              "width": 0.5
             },
             "pattern": {
              "fillmode": "overlay",
              "size": 10,
              "solidity": 0.2
             }
            },
            "type": "bar"
           }
          ],
          "barpolar": [
           {
            "marker": {
             "line": {
              "color": "#E5ECF6",
              "width": 0.5
             },
             "pattern": {
              "fillmode": "overlay",
              "size": 10,
              "solidity": 0.2
             }
            },
            "type": "barpolar"
           }
          ],
          "carpet": [
           {
            "aaxis": {
             "endlinecolor": "#2a3f5f",
             "gridcolor": "white",
             "linecolor": "white",
             "minorgridcolor": "white",
             "startlinecolor": "#2a3f5f"
            },
            "baxis": {
             "endlinecolor": "#2a3f5f",
             "gridcolor": "white",
             "linecolor": "white",
             "minorgridcolor": "white",
             "startlinecolor": "#2a3f5f"
            },
            "type": "carpet"
           }
          ],
          "choropleth": [
           {
            "colorbar": {
             "outlinewidth": 0,
             "ticks": ""
            },
            "type": "choropleth"
           }
          ],
          "contour": [
           {
            "colorbar": {
             "outlinewidth": 0,
             "ticks": ""
            },
            "colorscale": [
             [
              0,
              "#0d0887"
             ],
             [
              0.1111111111111111,
              "#46039f"
             ],
             [
              0.2222222222222222,
              "#7201a8"
             ],
             [
              0.3333333333333333,
              "#9c179e"
             ],
             [
              0.4444444444444444,
              "#bd3786"
             ],
             [
              0.5555555555555556,
              "#d8576b"
             ],
             [
              0.6666666666666666,
              "#ed7953"
             ],
             [
              0.7777777777777778,
              "#fb9f3a"
             ],
             [
              0.8888888888888888,
              "#fdca26"
             ],
             [
              1,
              "#f0f921"
             ]
            ],
            "type": "contour"
           }
          ],
          "contourcarpet": [
           {
            "colorbar": {
             "outlinewidth": 0,
             "ticks": ""
            },
            "type": "contourcarpet"
           }
          ],
          "heatmap": [
           {
            "colorbar": {
             "outlinewidth": 0,
             "ticks": ""
            },
            "colorscale": [
             [
              0,
              "#0d0887"
             ],
             [
              0.1111111111111111,
              "#46039f"
             ],
             [
              0.2222222222222222,
              "#7201a8"
             ],
             [
              0.3333333333333333,
              "#9c179e"
             ],
             [
              0.4444444444444444,
              "#bd3786"
             ],
             [
              0.5555555555555556,
              "#d8576b"
             ],
             [
              0.6666666666666666,
              "#ed7953"
             ],
             [
              0.7777777777777778,
              "#fb9f3a"
             ],
             [
              0.8888888888888888,
              "#fdca26"
             ],
             [
              1,
              "#f0f921"
             ]
            ],
            "type": "heatmap"
           }
          ],
          "heatmapgl": [
           {
            "colorbar": {
             "outlinewidth": 0,
             "ticks": ""
            },
            "colorscale": [
             [
              0,
              "#0d0887"
             ],
             [
              0.1111111111111111,
              "#46039f"
             ],
             [
              0.2222222222222222,
              "#7201a8"
             ],
             [
              0.3333333333333333,
              "#9c179e"
             ],
             [
              0.4444444444444444,
              "#bd3786"
             ],
             [
              0.5555555555555556,
              "#d8576b"
             ],
             [
              0.6666666666666666,
              "#ed7953"
             ],
             [
              0.7777777777777778,
              "#fb9f3a"
             ],
             [
              0.8888888888888888,
              "#fdca26"
             ],
             [
              1,
              "#f0f921"
             ]
            ],
            "type": "heatmapgl"
           }
          ],
          "histogram": [
           {
            "marker": {
             "pattern": {
              "fillmode": "overlay",
              "size": 10,
              "solidity": 0.2
             }
            },
            "type": "histogram"
           }
          ],
          "histogram2d": [
           {
            "colorbar": {
             "outlinewidth": 0,
             "ticks": ""
            },
            "colorscale": [
             [
              0,
              "#0d0887"
             ],
             [
              0.1111111111111111,
              "#46039f"
             ],
             [
              0.2222222222222222,
              "#7201a8"
             ],
             [
              0.3333333333333333,
              "#9c179e"
             ],
             [
              0.4444444444444444,
              "#bd3786"
             ],
             [
              0.5555555555555556,
              "#d8576b"
             ],
             [
              0.6666666666666666,
              "#ed7953"
             ],
             [
              0.7777777777777778,
              "#fb9f3a"
             ],
             [
              0.8888888888888888,
              "#fdca26"
             ],
             [
              1,
              "#f0f921"
             ]
            ],
            "type": "histogram2d"
           }
          ],
          "histogram2dcontour": [
           {
            "colorbar": {
             "outlinewidth": 0,
             "ticks": ""
            },
            "colorscale": [
             [
              0,
              "#0d0887"
             ],
             [
              0.1111111111111111,
              "#46039f"
             ],
             [
              0.2222222222222222,
              "#7201a8"
             ],
             [
              0.3333333333333333,
              "#9c179e"
             ],
             [
              0.4444444444444444,
              "#bd3786"
             ],
             [
              0.5555555555555556,
              "#d8576b"
             ],
             [
              0.6666666666666666,
              "#ed7953"
             ],
             [
              0.7777777777777778,
              "#fb9f3a"
             ],
             [
              0.8888888888888888,
              "#fdca26"
             ],
             [
              1,
              "#f0f921"
             ]
            ],
            "type": "histogram2dcontour"
           }
          ],
          "mesh3d": [
           {
            "colorbar": {
             "outlinewidth": 0,
             "ticks": ""
            },
            "type": "mesh3d"
           }
          ],
          "parcoords": [
           {
            "line": {
             "colorbar": {
              "outlinewidth": 0,
              "ticks": ""
             }
            },
            "type": "parcoords"
           }
          ],
          "pie": [
           {
            "automargin": true,
            "type": "pie"
           }
          ],
          "scatter": [
           {
            "fillpattern": {
             "fillmode": "overlay",
             "size": 10,
             "solidity": 0.2
            },
            "type": "scatter"
           }
          ],
          "scatter3d": [
           {
            "line": {
             "colorbar": {
              "outlinewidth": 0,
              "ticks": ""
             }
            },
            "marker": {
             "colorbar": {
              "outlinewidth": 0,
              "ticks": ""
             }
            },
            "type": "scatter3d"
           }
          ],
          "scattercarpet": [
           {
            "marker": {
             "colorbar": {
              "outlinewidth": 0,
              "ticks": ""
             }
            },
            "type": "scattercarpet"
           }
          ],
          "scattergeo": [
           {
            "marker": {
             "colorbar": {
              "outlinewidth": 0,
              "ticks": ""
             }
            },
            "type": "scattergeo"
           }
          ],
          "scattergl": [
           {
            "marker": {
             "colorbar": {
              "outlinewidth": 0,
              "ticks": ""
             }
            },
            "type": "scattergl"
           }
          ],
          "scattermapbox": [
           {
            "marker": {
             "colorbar": {
              "outlinewidth": 0,
              "ticks": ""
             }
            },
            "type": "scattermapbox"
           }
          ],
          "scatterpolar": [
           {
            "marker": {
             "colorbar": {
              "outlinewidth": 0,
              "ticks": ""
             }
            },
            "type": "scatterpolar"
           }
          ],
          "scatterpolargl": [
           {
            "marker": {
             "colorbar": {
              "outlinewidth": 0,
              "ticks": ""
             }
            },
            "type": "scatterpolargl"
           }
          ],
          "scatterternary": [
           {
            "marker": {
             "colorbar": {
              "outlinewidth": 0,
              "ticks": ""
             }
            },
            "type": "scatterternary"
           }
          ],
          "surface": [
           {
            "colorbar": {
             "outlinewidth": 0,
             "ticks": ""
            },
            "colorscale": [
             [
              0,
              "#0d0887"
             ],
             [
              0.1111111111111111,
              "#46039f"
             ],
             [
              0.2222222222222222,
              "#7201a8"
             ],
             [
              0.3333333333333333,
              "#9c179e"
             ],
             [
              0.4444444444444444,
              "#bd3786"
             ],
             [
              0.5555555555555556,
              "#d8576b"
             ],
             [
              0.6666666666666666,
              "#ed7953"
             ],
             [
              0.7777777777777778,
              "#fb9f3a"
             ],
             [
              0.8888888888888888,
              "#fdca26"
             ],
             [
              1,
              "#f0f921"
             ]
            ],
            "type": "surface"
           }
          ],
          "table": [
           {
            "cells": {
             "fill": {
              "color": "#EBF0F8"
             },
             "line": {
              "color": "white"
             }
            },
            "header": {
             "fill": {
              "color": "#C8D4E3"
             },
             "line": {
              "color": "white"
             }
            },
            "type": "table"
           }
          ]
         },
         "layout": {
          "annotationdefaults": {
           "arrowcolor": "#2a3f5f",
           "arrowhead": 0,
           "arrowwidth": 1
          },
          "autotypenumbers": "strict",
          "coloraxis": {
           "colorbar": {
            "outlinewidth": 0,
            "ticks": ""
           }
          },
          "colorscale": {
           "diverging": [
            [
             0,
             "#8e0152"
            ],
            [
             0.1,
             "#c51b7d"
            ],
            [
             0.2,
             "#de77ae"
            ],
            [
             0.3,
             "#f1b6da"
            ],
            [
             0.4,
             "#fde0ef"
            ],
            [
             0.5,
             "#f7f7f7"
            ],
            [
             0.6,
             "#e6f5d0"
            ],
            [
             0.7,
             "#b8e186"
            ],
            [
             0.8,
             "#7fbc41"
            ],
            [
             0.9,
             "#4d9221"
            ],
            [
             1,
             "#276419"
            ]
           ],
           "sequential": [
            [
             0,
             "#0d0887"
            ],
            [
             0.1111111111111111,
             "#46039f"
            ],
            [
             0.2222222222222222,
             "#7201a8"
            ],
            [
             0.3333333333333333,
             "#9c179e"
            ],
            [
             0.4444444444444444,
             "#bd3786"
            ],
            [
             0.5555555555555556,
             "#d8576b"
            ],
            [
             0.6666666666666666,
             "#ed7953"
            ],
            [
             0.7777777777777778,
             "#fb9f3a"
            ],
            [
             0.8888888888888888,
             "#fdca26"
            ],
            [
             1,
             "#f0f921"
            ]
           ],
           "sequentialminus": [
            [
             0,
             "#0d0887"
            ],
            [
             0.1111111111111111,
             "#46039f"
            ],
            [
             0.2222222222222222,
             "#7201a8"
            ],
            [
             0.3333333333333333,
             "#9c179e"
            ],
            [
             0.4444444444444444,
             "#bd3786"
            ],
            [
             0.5555555555555556,
             "#d8576b"
            ],
            [
             0.6666666666666666,
             "#ed7953"
            ],
            [
             0.7777777777777778,
             "#fb9f3a"
            ],
            [
             0.8888888888888888,
             "#fdca26"
            ],
            [
             1,
             "#f0f921"
            ]
           ]
          },
          "colorway": [
           "#636efa",
           "#EF553B",
           "#00cc96",
           "#ab63fa",
           "#FFA15A",
           "#19d3f3",
           "#FF6692",
           "#B6E880",
           "#FF97FF",
           "#FECB52"
          ],
          "font": {
           "color": "#2a3f5f"
          },
          "geo": {
           "bgcolor": "white",
           "lakecolor": "white",
           "landcolor": "#E5ECF6",
           "showlakes": true,
           "showland": true,
           "subunitcolor": "white"
          },
          "hoverlabel": {
           "align": "left"
          },
          "hovermode": "closest",
          "mapbox": {
           "style": "light"
          },
          "paper_bgcolor": "white",
          "plot_bgcolor": "#E5ECF6",
          "polar": {
           "angularaxis": {
            "gridcolor": "white",
            "linecolor": "white",
            "ticks": ""
           },
           "bgcolor": "#E5ECF6",
           "radialaxis": {
            "gridcolor": "white",
            "linecolor": "white",
            "ticks": ""
           }
          },
          "scene": {
           "xaxis": {
            "backgroundcolor": "#E5ECF6",
            "gridcolor": "white",
            "gridwidth": 2,
            "linecolor": "white",
            "showbackground": true,
            "ticks": "",
            "zerolinecolor": "white"
           },
           "yaxis": {
            "backgroundcolor": "#E5ECF6",
            "gridcolor": "white",
            "gridwidth": 2,
            "linecolor": "white",
            "showbackground": true,
            "ticks": "",
            "zerolinecolor": "white"
           },
           "zaxis": {
            "backgroundcolor": "#E5ECF6",
            "gridcolor": "white",
            "gridwidth": 2,
            "linecolor": "white",
            "showbackground": true,
            "ticks": "",
            "zerolinecolor": "white"
           }
          },
          "shapedefaults": {
           "line": {
            "color": "#2a3f5f"
           }
          },
          "ternary": {
           "aaxis": {
            "gridcolor": "white",
            "linecolor": "white",
            "ticks": ""
           },
           "baxis": {
            "gridcolor": "white",
            "linecolor": "white",
            "ticks": ""
           },
           "bgcolor": "#E5ECF6",
           "caxis": {
            "gridcolor": "white",
            "linecolor": "white",
            "ticks": ""
           }
          },
          "title": {
           "x": 0.05
          },
          "xaxis": {
           "automargin": true,
           "gridcolor": "white",
           "linecolor": "white",
           "ticks": "",
           "title": {
            "standoff": 15
           },
           "zerolinecolor": "white",
           "zerolinewidth": 2
          },
          "yaxis": {
           "automargin": true,
           "gridcolor": "white",
           "linecolor": "white",
           "ticks": "",
           "title": {
            "standoff": 15
           },
           "zerolinecolor": "white",
           "zerolinewidth": 2
          }
         }
        },
        "xaxis": {
         "anchor": "y",
         "domain": [
          0,
          1
         ],
         "title": {
          "text": "manual ADR"
         }
        },
        "yaxis": {
         "anchor": "x",
         "domain": [
          0,
          1
         ],
         "title": {
          "text": "manual Occupancy"
         }
        }
       }
      },
      "text/html": [
       "<div>                            <div id=\"6774c3b3-0547-411c-98d7-787f37b8ac6c\" class=\"plotly-graph-div\" style=\"height:525px; width:100%;\"></div>            <script type=\"text/javascript\">                require([\"plotly\"], function(Plotly) {                    window.PLOTLYENV=window.PLOTLYENV || {};                                    if (document.getElementById(\"6774c3b3-0547-411c-98d7-787f37b8ac6c\")) {                    Plotly.newPlot(                        \"6774c3b3-0547-411c-98d7-787f37b8ac6c\",                        [{\"customdata\":[[null,\"https://www.airbnb.com/rooms/46038476\"],[\"Too fancy, comp won\\u2019t compare\",\"https://www.airbnb.com/rooms/54064539\"],[\"No Dynamic Pricing, looks like a house, not a cabin\",\"https://www.airbnb.com/rooms/52210633\"],[\"Fancy, Cabin Style\",\"https://www.airbnb.com/rooms/721062423659714038\"],[\"Bad Photos, On River\",\"https://www.airbnb.com/rooms/566008910384238034\"],[\"Owner Occupied, Poor Photos, Basement Apartment, Language Barrier\",\"https://www.airbnb.com/rooms/23960139\"],[\"New Listing, Underpriced, Bad Photos\",\"https://www.airbnb.com/rooms/732625739862507774\"],[\"Newer Listing\",\"https://www.airbnb.com/rooms/48258178\"],[\"In Town, updated\",\"https://www.airbnb.com/rooms/719625260995322512\"],[\"Superhost, relatively new\",\"https://www.airbnb.com/rooms/23021120\"],[\"Superhost not vacasa or corporate\",\"https://www.airbnb.com/rooms/51149790\"],[\"Superhost not vacasa or corporate\",\"https://www.airbnb.com/rooms/26032476\"],[\"Superhost not vacasa or corporate\",\"https://www.airbnb.com/rooms/630394210952855297\"],[\"Superhost\",\"https://www.airbnb.com/rooms/36699088\"],[\"Superhost\",\"https://www.airbnb.com/rooms/48943693\"],[\"Ugly Old\",\"https://www.airbnb.com/rooms/53811926\"],[\"Looks Nice\",\"https://www.airbnb.com/rooms/49487409\"],[\"Nice, Superhost\",\"https://www.airbnb.com/rooms/36114880\"],[\"Superhost\",\"https://www.airbnb.com/rooms/23021070\"],[\"Superhost, good photos\",\"https://www.airbnb.com/rooms/46619467\"],[\"Expensive Furniture\",\"https://www.airbnb.com/rooms/557125827091662488\"],[\"Superhost, good furniture\",\"https://www.airbnb.com/rooms/49016675\"],[\"Superhost, condo community\",\"https://www.airbnb.com/rooms/23021100\"],[\"Superhost, by the beach\",\"https://www.airbnb.com/rooms/23352493\"],[\"Superhost\",\"https://www.airbnb.com/rooms/52735414\"],[\"Superhost, Nice Photos\",\"https://www.airbnb.com/rooms/666970338596390385\"],[\"On Stilts, Experience\",\"https://www.airbnb.com/rooms/50858816\"],[\"Fancy, Pro Photos\",\"https://www.airbnb.com/rooms/689441742434586212\"]],\"hovertemplate\":\"Host=Superhost<br>manual ADR=%{x}<br>manual Occupancy=%{y}<br>Notes=%{customdata[0]}<br>url=%{customdata[1]}<extra></extra>\",\"legendgroup\":\"Superhost\",\"marker\":{\"color\":\"#636efa\",\"symbol\":\"circle\"},\"mode\":\"markers\",\"name\":\"Superhost\",\"orientation\":\"v\",\"showlegend\":true,\"x\":[134.0,245.0,189.0,350.0,281.0,180.0,145.0,125.0,160.0,360.0,235.0,421.0,335.0,250.0,262.0,148.0,135.0,135.0,287.0,229.0,168.0,157.0,251.0,240.0,141.0,256.0,375.0,241.0],\"xaxis\":\"x\",\"y\":[0.903225806451613,0.645161290322581,0.645161290322581,0.580645161290323,0.451612903225806,0.483870967741936,0.709677419354839,0.612903225806452,0.451612903225806,0.645161290322581,0.838709677419355,0.225806451612903,0.387096774193548,0.161290322580645,0.483870967741936,0.258064516129032,0.67741935483871,0.645161290322581,0.483870967741936,0.225806451612903,0.612903225806452,0.645161290322581,0.645161290322581,0.903225806451613,0.612903225806452,0.47,0.2,0.290322580645161],\"yaxis\":\"y\",\"type\":\"scatter\"},{\"customdata\":[[\"Overpriced\",\"https://www.airbnb.com/rooms/45926314\"],[\"Ugly, No Dynamic Pricing\",\"https://www.airbnb.com/rooms/19908956\"],[\"Owner Occupied\",\"https://www.airbnb.com/rooms/768978483572927801\"],[\"On River\",\"https://www.airbnb.com/rooms/47389228\"],[\"Overpriced\",\"https://www.airbnb.com/rooms/27342797\"],[\"Not Superhost\",\"https://www.airbnb.com/rooms/33964064\"],[\"new listing\",\"https://www.airbnb.com/rooms/698544908100904679\"],[\"New Listing\",\"https://www.airbnb.com/rooms/878864519405589544\"],[\"Nonsuperhost\",\"https://www.airbnb.com/rooms/29740451\"]],\"hovertemplate\":\"Host=Regular<br>manual ADR=%{x}<br>manual Occupancy=%{y}<br>Notes=%{customdata[0]}<br>url=%{customdata[1]}<extra></extra>\",\"legendgroup\":\"Regular\",\"marker\":{\"color\":\"#EF553B\",\"symbol\":\"circle\"},\"mode\":\"markers\",\"name\":\"Regular\",\"orientation\":\"v\",\"showlegend\":true,\"x\":[375.0,145.0,270.0,200.0,257.0,315.0,205.0,168.0,254.0],\"xaxis\":\"x\",\"y\":[0.32258064516129,0.516129032258065,0.225806451612903,0.451612903225806,0.193548387096774,0.774193548387097,0.387096774193548,0.806451612903226,0.483870967741936],\"yaxis\":\"y\",\"type\":\"scatter\"},{\"customdata\":[[\"Evolve Management yields bad reviews\",\"https://www.airbnb.com/rooms/20889506\"],[\"Vacasa, bad reviews and cleaning\",\"https://www.airbnb.com/rooms/30071398\"],[\"Vacasa, bad reviews and cleaning\",\"https://www.airbnb.com/rooms/26051988\"],[\"Vacasa, very nice looking\",\"https://www.airbnb.com/rooms/847850412831339117\"],[\"Vacasa\",\"https://www.airbnb.com/rooms/572969241718961944\"],[\"Off Calendar\",\"https://www.airbnb.com/rooms/812259821220935977\"],[\"Corporation\",\"https://www.airbnb.com/rooms/46358968\"],[\"Corporation\",\"https://www.airbnb.com/rooms/46358968\"],[\"Corporation\",\"https://www.airbnb.com/rooms/39804129\"],[\"Too nice to comp\",\"https://www.airbnb.com/rooms/46466747\"],[\"Evolve Management yields bad reviews\",\"https://www.airbnb.com/rooms/47329399\"]],\"hovertemplate\":\"Host=Corporate<br>manual ADR=%{x}<br>manual Occupancy=%{y}<br>Notes=%{customdata[0]}<br>url=%{customdata[1]}<extra></extra>\",\"legendgroup\":\"Corporate\",\"marker\":{\"color\":\"#00cc96\",\"symbol\":\"circle\"},\"mode\":\"markers\",\"name\":\"Corporate\",\"orientation\":\"v\",\"showlegend\":true,\"x\":[255.0,171.0,186.0,210.0,190.0,null,276.0,267.0,333.0,360.0,173.0],\"xaxis\":\"x\",\"y\":[0.806451612903226,0.258064516129032,0.870967741935484,0.774193548387097,0.806451612903226,null,0.580645161290323,0.516129032258065,0.741935483870968,0.354838709677419,0.612903225806452],\"yaxis\":\"y\",\"type\":\"scatter\"}],                        {\"template\":{\"data\":{\"histogram2dcontour\":[{\"type\":\"histogram2dcontour\",\"colorbar\":{\"outlinewidth\":0,\"ticks\":\"\"},\"colorscale\":[[0.0,\"#0d0887\"],[0.1111111111111111,\"#46039f\"],[0.2222222222222222,\"#7201a8\"],[0.3333333333333333,\"#9c179e\"],[0.4444444444444444,\"#bd3786\"],[0.5555555555555556,\"#d8576b\"],[0.6666666666666666,\"#ed7953\"],[0.7777777777777778,\"#fb9f3a\"],[0.8888888888888888,\"#fdca26\"],[1.0,\"#f0f921\"]]}],\"choropleth\":[{\"type\":\"choropleth\",\"colorbar\":{\"outlinewidth\":0,\"ticks\":\"\"}}],\"histogram2d\":[{\"type\":\"histogram2d\",\"colorbar\":{\"outlinewidth\":0,\"ticks\":\"\"},\"colorscale\":[[0.0,\"#0d0887\"],[0.1111111111111111,\"#46039f\"],[0.2222222222222222,\"#7201a8\"],[0.3333333333333333,\"#9c179e\"],[0.4444444444444444,\"#bd3786\"],[0.5555555555555556,\"#d8576b\"],[0.6666666666666666,\"#ed7953\"],[0.7777777777777778,\"#fb9f3a\"],[0.8888888888888888,\"#fdca26\"],[1.0,\"#f0f921\"]]}],\"heatmap\":[{\"type\":\"heatmap\",\"colorbar\":{\"outlinewidth\":0,\"ticks\":\"\"},\"colorscale\":[[0.0,\"#0d0887\"],[0.1111111111111111,\"#46039f\"],[0.2222222222222222,\"#7201a8\"],[0.3333333333333333,\"#9c179e\"],[0.4444444444444444,\"#bd3786\"],[0.5555555555555556,\"#d8576b\"],[0.6666666666666666,\"#ed7953\"],[0.7777777777777778,\"#fb9f3a\"],[0.8888888888888888,\"#fdca26\"],[1.0,\"#f0f921\"]]}],\"heatmapgl\":[{\"type\":\"heatmapgl\",\"colorbar\":{\"outlinewidth\":0,\"ticks\":\"\"},\"colorscale\":[[0.0,\"#0d0887\"],[0.1111111111111111,\"#46039f\"],[0.2222222222222222,\"#7201a8\"],[0.3333333333333333,\"#9c179e\"],[0.4444444444444444,\"#bd3786\"],[0.5555555555555556,\"#d8576b\"],[0.6666666666666666,\"#ed7953\"],[0.7777777777777778,\"#fb9f3a\"],[0.8888888888888888,\"#fdca26\"],[1.0,\"#f0f921\"]]}],\"contourcarpet\":[{\"type\":\"contourcarpet\",\"colorbar\":{\"outlinewidth\":0,\"ticks\":\"\"}}],\"contour\":[{\"type\":\"contour\",\"colorbar\":{\"outlinewidth\":0,\"ticks\":\"\"},\"colorscale\":[[0.0,\"#0d0887\"],[0.1111111111111111,\"#46039f\"],[0.2222222222222222,\"#7201a8\"],[0.3333333333333333,\"#9c179e\"],[0.4444444444444444,\"#bd3786\"],[0.5555555555555556,\"#d8576b\"],[0.6666666666666666,\"#ed7953\"],[0.7777777777777778,\"#fb9f3a\"],[0.8888888888888888,\"#fdca26\"],[1.0,\"#f0f921\"]]}],\"surface\":[{\"type\":\"surface\",\"colorbar\":{\"outlinewidth\":0,\"ticks\":\"\"},\"colorscale\":[[0.0,\"#0d0887\"],[0.1111111111111111,\"#46039f\"],[0.2222222222222222,\"#7201a8\"],[0.3333333333333333,\"#9c179e\"],[0.4444444444444444,\"#bd3786\"],[0.5555555555555556,\"#d8576b\"],[0.6666666666666666,\"#ed7953\"],[0.7777777777777778,\"#fb9f3a\"],[0.8888888888888888,\"#fdca26\"],[1.0,\"#f0f921\"]]}],\"mesh3d\":[{\"type\":\"mesh3d\",\"colorbar\":{\"outlinewidth\":0,\"ticks\":\"\"}}],\"scatter\":[{\"fillpattern\":{\"fillmode\":\"overlay\",\"size\":10,\"solidity\":0.2},\"type\":\"scatter\"}],\"parcoords\":[{\"type\":\"parcoords\",\"line\":{\"colorbar\":{\"outlinewidth\":0,\"ticks\":\"\"}}}],\"scatterpolargl\":[{\"type\":\"scatterpolargl\",\"marker\":{\"colorbar\":{\"outlinewidth\":0,\"ticks\":\"\"}}}],\"bar\":[{\"error_x\":{\"color\":\"#2a3f5f\"},\"error_y\":{\"color\":\"#2a3f5f\"},\"marker\":{\"line\":{\"color\":\"#E5ECF6\",\"width\":0.5},\"pattern\":{\"fillmode\":\"overlay\",\"size\":10,\"solidity\":0.2}},\"type\":\"bar\"}],\"scattergeo\":[{\"type\":\"scattergeo\",\"marker\":{\"colorbar\":{\"outlinewidth\":0,\"ticks\":\"\"}}}],\"scatterpolar\":[{\"type\":\"scatterpolar\",\"marker\":{\"colorbar\":{\"outlinewidth\":0,\"ticks\":\"\"}}}],\"histogram\":[{\"marker\":{\"pattern\":{\"fillmode\":\"overlay\",\"size\":10,\"solidity\":0.2}},\"type\":\"histogram\"}],\"scattergl\":[{\"type\":\"scattergl\",\"marker\":{\"colorbar\":{\"outlinewidth\":0,\"ticks\":\"\"}}}],\"scatter3d\":[{\"type\":\"scatter3d\",\"line\":{\"colorbar\":{\"outlinewidth\":0,\"ticks\":\"\"}},\"marker\":{\"colorbar\":{\"outlinewidth\":0,\"ticks\":\"\"}}}],\"scattermapbox\":[{\"type\":\"scattermapbox\",\"marker\":{\"colorbar\":{\"outlinewidth\":0,\"ticks\":\"\"}}}],\"scatterternary\":[{\"type\":\"scatterternary\",\"marker\":{\"colorbar\":{\"outlinewidth\":0,\"ticks\":\"\"}}}],\"scattercarpet\":[{\"type\":\"scattercarpet\",\"marker\":{\"colorbar\":{\"outlinewidth\":0,\"ticks\":\"\"}}}],\"carpet\":[{\"aaxis\":{\"endlinecolor\":\"#2a3f5f\",\"gridcolor\":\"white\",\"linecolor\":\"white\",\"minorgridcolor\":\"white\",\"startlinecolor\":\"#2a3f5f\"},\"baxis\":{\"endlinecolor\":\"#2a3f5f\",\"gridcolor\":\"white\",\"linecolor\":\"white\",\"minorgridcolor\":\"white\",\"startlinecolor\":\"#2a3f5f\"},\"type\":\"carpet\"}],\"table\":[{\"cells\":{\"fill\":{\"color\":\"#EBF0F8\"},\"line\":{\"color\":\"white\"}},\"header\":{\"fill\":{\"color\":\"#C8D4E3\"},\"line\":{\"color\":\"white\"}},\"type\":\"table\"}],\"barpolar\":[{\"marker\":{\"line\":{\"color\":\"#E5ECF6\",\"width\":0.5},\"pattern\":{\"fillmode\":\"overlay\",\"size\":10,\"solidity\":0.2}},\"type\":\"barpolar\"}],\"pie\":[{\"automargin\":true,\"type\":\"pie\"}]},\"layout\":{\"autotypenumbers\":\"strict\",\"colorway\":[\"#636efa\",\"#EF553B\",\"#00cc96\",\"#ab63fa\",\"#FFA15A\",\"#19d3f3\",\"#FF6692\",\"#B6E880\",\"#FF97FF\",\"#FECB52\"],\"font\":{\"color\":\"#2a3f5f\"},\"hovermode\":\"closest\",\"hoverlabel\":{\"align\":\"left\"},\"paper_bgcolor\":\"white\",\"plot_bgcolor\":\"#E5ECF6\",\"polar\":{\"bgcolor\":\"#E5ECF6\",\"angularaxis\":{\"gridcolor\":\"white\",\"linecolor\":\"white\",\"ticks\":\"\"},\"radialaxis\":{\"gridcolor\":\"white\",\"linecolor\":\"white\",\"ticks\":\"\"}},\"ternary\":{\"bgcolor\":\"#E5ECF6\",\"aaxis\":{\"gridcolor\":\"white\",\"linecolor\":\"white\",\"ticks\":\"\"},\"baxis\":{\"gridcolor\":\"white\",\"linecolor\":\"white\",\"ticks\":\"\"},\"caxis\":{\"gridcolor\":\"white\",\"linecolor\":\"white\",\"ticks\":\"\"}},\"coloraxis\":{\"colorbar\":{\"outlinewidth\":0,\"ticks\":\"\"}},\"colorscale\":{\"sequential\":[[0.0,\"#0d0887\"],[0.1111111111111111,\"#46039f\"],[0.2222222222222222,\"#7201a8\"],[0.3333333333333333,\"#9c179e\"],[0.4444444444444444,\"#bd3786\"],[0.5555555555555556,\"#d8576b\"],[0.6666666666666666,\"#ed7953\"],[0.7777777777777778,\"#fb9f3a\"],[0.8888888888888888,\"#fdca26\"],[1.0,\"#f0f921\"]],\"sequentialminus\":[[0.0,\"#0d0887\"],[0.1111111111111111,\"#46039f\"],[0.2222222222222222,\"#7201a8\"],[0.3333333333333333,\"#9c179e\"],[0.4444444444444444,\"#bd3786\"],[0.5555555555555556,\"#d8576b\"],[0.6666666666666666,\"#ed7953\"],[0.7777777777777778,\"#fb9f3a\"],[0.8888888888888888,\"#fdca26\"],[1.0,\"#f0f921\"]],\"diverging\":[[0,\"#8e0152\"],[0.1,\"#c51b7d\"],[0.2,\"#de77ae\"],[0.3,\"#f1b6da\"],[0.4,\"#fde0ef\"],[0.5,\"#f7f7f7\"],[0.6,\"#e6f5d0\"],[0.7,\"#b8e186\"],[0.8,\"#7fbc41\"],[0.9,\"#4d9221\"],[1,\"#276419\"]]},\"xaxis\":{\"gridcolor\":\"white\",\"linecolor\":\"white\",\"ticks\":\"\",\"title\":{\"standoff\":15},\"zerolinecolor\":\"white\",\"automargin\":true,\"zerolinewidth\":2},\"yaxis\":{\"gridcolor\":\"white\",\"linecolor\":\"white\",\"ticks\":\"\",\"title\":{\"standoff\":15},\"zerolinecolor\":\"white\",\"automargin\":true,\"zerolinewidth\":2},\"scene\":{\"xaxis\":{\"backgroundcolor\":\"#E5ECF6\",\"gridcolor\":\"white\",\"linecolor\":\"white\",\"showbackground\":true,\"ticks\":\"\",\"zerolinecolor\":\"white\",\"gridwidth\":2},\"yaxis\":{\"backgroundcolor\":\"#E5ECF6\",\"gridcolor\":\"white\",\"linecolor\":\"white\",\"showbackground\":true,\"ticks\":\"\",\"zerolinecolor\":\"white\",\"gridwidth\":2},\"zaxis\":{\"backgroundcolor\":\"#E5ECF6\",\"gridcolor\":\"white\",\"linecolor\":\"white\",\"showbackground\":true,\"ticks\":\"\",\"zerolinecolor\":\"white\",\"gridwidth\":2}},\"shapedefaults\":{\"line\":{\"color\":\"#2a3f5f\"}},\"annotationdefaults\":{\"arrowcolor\":\"#2a3f5f\",\"arrowhead\":0,\"arrowwidth\":1},\"geo\":{\"bgcolor\":\"white\",\"landcolor\":\"#E5ECF6\",\"subunitcolor\":\"white\",\"showland\":true,\"showlakes\":true,\"lakecolor\":\"white\"},\"title\":{\"x\":0.05},\"mapbox\":{\"style\":\"light\"}}},\"xaxis\":{\"anchor\":\"y\",\"domain\":[0.0,1.0],\"title\":{\"text\":\"manual ADR\"}},\"yaxis\":{\"anchor\":\"x\",\"domain\":[0.0,1.0],\"title\":{\"text\":\"manual Occupancy\"}},\"legend\":{\"title\":{\"text\":\"Host\"},\"tracegroupgap\":0},\"margin\":{\"t\":60},\"shapes\":[{\"type\":\"line\",\"x0\":0,\"x1\":500,\"y0\":0.752611,\"y1\":0.302611}]},                        {\"responsive\": true}                    ).then(function(){\n",
       "                            \n",
       "var gd = document.getElementById('6774c3b3-0547-411c-98d7-787f37b8ac6c');\n",
       "var x = new MutationObserver(function (mutations, observer) {{\n",
       "        var display = window.getComputedStyle(gd).display;\n",
       "        if (!display || display === 'none') {{\n",
       "            console.log([gd, 'removed!']);\n",
       "            Plotly.purge(gd);\n",
       "            observer.disconnect();\n",
       "        }}\n",
       "}});\n",
       "\n",
       "// Listen for the removal of the full notebook cells\n",
       "var notebookContainer = gd.closest('#notebook-container');\n",
       "if (notebookContainer) {{\n",
       "    x.observe(notebookContainer, {childList: true});\n",
       "}}\n",
       "\n",
       "// Listen for the clearing of the current output cell\n",
       "var outputEl = gd.closest('.output');\n",
       "if (outputEl) {{\n",
       "    x.observe(outputEl, {childList: true});\n",
       "}}\n",
       "\n",
       "                        })                };                });            </script>        </div>"
      ]
     },
     "metadata": {},
     "output_type": "display_data"
    },
    {
     "data": {
      "application/javascript": [
       "\n",
       "            setTimeout(function() {\n",
       "                var nbb_cell_id = 113;\n",
       "                var nbb_unformatted_code = \"fig = px.scatter(\\n    comps,\\n    y=\\\"manual Occupancy\\\",\\n    x=\\\"manual ADR\\\",\\n    color=\\\"Host\\\",\\n    hover_data=[\\\"Notes\\\", \\\"url\\\"],\\n)\\nfig.add_shape(\\n    type=\\\"line\\\",\\n    x0=0,\\n    y0=0.752611,\\n    x1=500,\\n    y1=0.752611 + 500 * -0.0009,\\n)\\nfig.show()\";\n",
       "                var nbb_formatted_code = \"fig = px.scatter(\\n    comps,\\n    y=\\\"manual Occupancy\\\",\\n    x=\\\"manual ADR\\\",\\n    color=\\\"Host\\\",\\n    hover_data=[\\\"Notes\\\", \\\"url\\\"],\\n)\\nfig.add_shape(\\n    type=\\\"line\\\",\\n    x0=0,\\n    y0=0.752611,\\n    x1=500,\\n    y1=0.752611 + 500 * -0.0009,\\n)\\nfig.show()\";\n",
       "                var nbb_cells = Jupyter.notebook.get_cells();\n",
       "                for (var i = 0; i < nbb_cells.length; ++i) {\n",
       "                    if (nbb_cells[i].input_prompt_number == nbb_cell_id) {\n",
       "                        if (nbb_cells[i].get_text() == nbb_unformatted_code) {\n",
       "                             nbb_cells[i].set_text(nbb_formatted_code);\n",
       "                        }\n",
       "                        break;\n",
       "                    }\n",
       "                }\n",
       "            }, 500);\n",
       "            "
      ],
      "text/plain": [
       "<IPython.core.display.Javascript object>"
      ]
     },
     "metadata": {},
     "output_type": "display_data"
    }
   ],
   "source": [
    "fig = px.scatter(\n",
    "    comps,\n",
    "    y=\"manual Occupancy\",\n",
    "    x=\"manual ADR\",\n",
    "    color=\"Host\",\n",
    "    hover_data=[\"Notes\", \"url\"],\n",
    ")\n",
    "fig.add_shape(\n",
    "    type=\"line\",\n",
    "    x0=0,\n",
    "    y0=0.752611,\n",
    "    x1=500,\n",
    "    y1=0.752611 + 500 * -0.0009,\n",
    ")\n",
    "fig.show()"
   ]
  },
  {
   "cell_type": "code",
   "execution_count": 18,
   "id": "3dcd40bf",
   "metadata": {},
   "outputs": [
    {
     "data": {
      "text/plain": [
       "Host\n",
       "Corporate    11\n",
       "Regular       9\n",
       "Superhost    28\n",
       "Name: Stars, dtype: int64"
      ]
     },
     "execution_count": 18,
     "metadata": {},
     "output_type": "execute_result"
    },
    {
     "data": {
      "application/javascript": [
       "\n",
       "            setTimeout(function() {\n",
       "                var nbb_cell_id = 18;\n",
       "                var nbb_unformatted_code = \"comps.groupby([\\\"Host\\\"])[\\\"Stars\\\"].count()\";\n",
       "                var nbb_formatted_code = \"comps.groupby([\\\"Host\\\"])[\\\"Stars\\\"].count()\";\n",
       "                var nbb_cells = Jupyter.notebook.get_cells();\n",
       "                for (var i = 0; i < nbb_cells.length; ++i) {\n",
       "                    if (nbb_cells[i].input_prompt_number == nbb_cell_id) {\n",
       "                        if (nbb_cells[i].get_text() == nbb_unformatted_code) {\n",
       "                             nbb_cells[i].set_text(nbb_formatted_code);\n",
       "                        }\n",
       "                        break;\n",
       "                    }\n",
       "                }\n",
       "            }, 500);\n",
       "            "
      ],
      "text/plain": [
       "<IPython.core.display.Javascript object>"
      ]
     },
     "metadata": {},
     "output_type": "display_data"
    }
   ],
   "source": [
    "comps.groupby([\"Host\"])[\"Stars\"].count()"
   ]
  },
  {
   "cell_type": "code",
   "execution_count": 27,
   "id": "667c5e90",
   "metadata": {},
   "outputs": [
    {
     "data": {
      "text/html": [
       "<div>\n",
       "<style scoped>\n",
       "    .dataframe tbody tr th:only-of-type {\n",
       "        vertical-align: middle;\n",
       "    }\n",
       "\n",
       "    .dataframe tbody tr th {\n",
       "        vertical-align: top;\n",
       "    }\n",
       "\n",
       "    .dataframe thead th {\n",
       "        text-align: right;\n",
       "    }\n",
       "</style>\n",
       "<table border=\"1\" class=\"dataframe\">\n",
       "  <thead>\n",
       "    <tr style=\"text-align: right;\">\n",
       "      <th></th>\n",
       "      <th>manual ADR</th>\n",
       "      <th>manual Occupancy</th>\n",
       "      <th>host_Corporate</th>\n",
       "      <th>host_Superhost</th>\n",
       "    </tr>\n",
       "  </thead>\n",
       "  <tbody>\n",
       "    <tr>\n",
       "      <th>0</th>\n",
       "      <td>134.0</td>\n",
       "      <td>0.903226</td>\n",
       "      <td>0</td>\n",
       "      <td>1</td>\n",
       "    </tr>\n",
       "    <tr>\n",
       "      <th>1</th>\n",
       "      <td>245.0</td>\n",
       "      <td>0.645161</td>\n",
       "      <td>0</td>\n",
       "      <td>1</td>\n",
       "    </tr>\n",
       "    <tr>\n",
       "      <th>2</th>\n",
       "      <td>189.0</td>\n",
       "      <td>0.645161</td>\n",
       "      <td>0</td>\n",
       "      <td>1</td>\n",
       "    </tr>\n",
       "    <tr>\n",
       "      <th>3</th>\n",
       "      <td>350.0</td>\n",
       "      <td>0.580645</td>\n",
       "      <td>0</td>\n",
       "      <td>1</td>\n",
       "    </tr>\n",
       "    <tr>\n",
       "      <th>4</th>\n",
       "      <td>281.0</td>\n",
       "      <td>0.451613</td>\n",
       "      <td>0</td>\n",
       "      <td>1</td>\n",
       "    </tr>\n",
       "  </tbody>\n",
       "</table>\n",
       "</div>"
      ],
      "text/plain": [
       "   manual ADR  manual Occupancy  host_Corporate  host_Superhost\n",
       "0       134.0          0.903226               0               1\n",
       "1       245.0          0.645161               0               1\n",
       "2       189.0          0.645161               0               1\n",
       "3       350.0          0.580645               0               1\n",
       "4       281.0          0.451613               0               1"
      ]
     },
     "execution_count": 27,
     "metadata": {},
     "output_type": "execute_result"
    },
    {
     "data": {
      "application/javascript": [
       "\n",
       "            setTimeout(function() {\n",
       "                var nbb_cell_id = 27;\n",
       "                var nbb_unformatted_code = \"mod_data = comps[[\\\"manual ADR\\\", \\\"manual Occupancy\\\", \\\"Host\\\"]].copy()\\nmod_data = mod_data[mod_data[\\\"manual ADR\\\"] <= 500]\\nmod_data = pd.get_dummies(data=mod_data, prefix=\\\"host\\\", columns=[\\\"Host\\\"])\\nmod_data.drop(columns=[\\\"host_Regular\\\"], inplace=True)\\nmod_data.head()\";\n",
       "                var nbb_formatted_code = \"mod_data = comps[[\\\"manual ADR\\\", \\\"manual Occupancy\\\", \\\"Host\\\"]].copy()\\nmod_data = mod_data[mod_data[\\\"manual ADR\\\"] <= 500]\\nmod_data = pd.get_dummies(data=mod_data, prefix=\\\"host\\\", columns=[\\\"Host\\\"])\\nmod_data.drop(columns=[\\\"host_Regular\\\"], inplace=True)\\nmod_data.head()\";\n",
       "                var nbb_cells = Jupyter.notebook.get_cells();\n",
       "                for (var i = 0; i < nbb_cells.length; ++i) {\n",
       "                    if (nbb_cells[i].input_prompt_number == nbb_cell_id) {\n",
       "                        if (nbb_cells[i].get_text() == nbb_unformatted_code) {\n",
       "                             nbb_cells[i].set_text(nbb_formatted_code);\n",
       "                        }\n",
       "                        break;\n",
       "                    }\n",
       "                }\n",
       "            }, 500);\n",
       "            "
      ],
      "text/plain": [
       "<IPython.core.display.Javascript object>"
      ]
     },
     "metadata": {},
     "output_type": "display_data"
    }
   ],
   "source": [
    "mod_data = comps[[\"manual ADR\", \"manual Occupancy\", \"Host\"]].copy()\n",
    "mod_data = mod_data[mod_data[\"manual ADR\"] <= 500]\n",
    "mod_data = pd.get_dummies(data=mod_data, prefix=\"host\", columns=[\"Host\"])\n",
    "mod_data.drop(columns=[\"host_Regular\"], inplace=True)\n",
    "mod_data.head()"
   ]
  },
  {
   "cell_type": "code",
   "execution_count": 44,
   "id": "70760c01",
   "metadata": {},
   "outputs": [
    {
     "data": {
      "text/html": [
       "<table class=\"simpletable\">\n",
       "<caption>OLS Regression Results</caption>\n",
       "<tr>\n",
       "  <th>Dep. Variable:</th>    <td>manual Occupancy</td> <th>  R-squared:         </th> <td>   0.110</td>\n",
       "</tr>\n",
       "<tr>\n",
       "  <th>Model:</th>                   <td>OLS</td>       <th>  Adj. R-squared:    </th> <td>   0.090</td>\n",
       "</tr>\n",
       "<tr>\n",
       "  <th>Method:</th>             <td>Least Squares</td>  <th>  F-statistic:       </th> <td>   5.538</td>\n",
       "</tr>\n",
       "<tr>\n",
       "  <th>Date:</th>             <td>Wed, 12 Jul 2023</td> <th>  Prob (F-statistic):</th>  <td>0.0230</td> \n",
       "</tr>\n",
       "<tr>\n",
       "  <th>Time:</th>                 <td>21:52:57</td>     <th>  Log-Likelihood:    </th> <td>  9.8586</td>\n",
       "</tr>\n",
       "<tr>\n",
       "  <th>No. Observations:</th>      <td>    47</td>      <th>  AIC:               </th> <td>  -15.72</td>\n",
       "</tr>\n",
       "<tr>\n",
       "  <th>Df Residuals:</th>          <td>    45</td>      <th>  BIC:               </th> <td>  -12.02</td>\n",
       "</tr>\n",
       "<tr>\n",
       "  <th>Df Model:</th>              <td>     1</td>      <th>                     </th>     <td> </td>   \n",
       "</tr>\n",
       "<tr>\n",
       "  <th>Covariance Type:</th>      <td>nonrobust</td>    <th>                     </th>     <td> </td>   \n",
       "</tr>\n",
       "</table>\n",
       "<table class=\"simpletable\">\n",
       "<tr>\n",
       "       <td></td>         <th>coef</th>     <th>std err</th>      <th>t</th>      <th>P>|t|</th>  <th>[0.025</th>    <th>0.975]</th>  \n",
       "</tr>\n",
       "<tr>\n",
       "  <th>const</th>      <td>    0.7526</td> <td>    0.095</td> <td>    7.925</td> <td> 0.000</td> <td>    0.561</td> <td>    0.944</td>\n",
       "</tr>\n",
       "<tr>\n",
       "  <th>manual ADR</th> <td>   -0.0009</td> <td>    0.000</td> <td>   -2.353</td> <td> 0.023</td> <td>   -0.002</td> <td>   -0.000</td>\n",
       "</tr>\n",
       "</table>\n",
       "<table class=\"simpletable\">\n",
       "<tr>\n",
       "  <th>Omnibus:</th>       <td> 1.804</td> <th>  Durbin-Watson:     </th> <td>   1.715</td>\n",
       "</tr>\n",
       "<tr>\n",
       "  <th>Prob(Omnibus):</th> <td> 0.406</td> <th>  Jarque-Bera (JB):  </th> <td>   1.202</td>\n",
       "</tr>\n",
       "<tr>\n",
       "  <th>Skew:</th>          <td>-0.066</td> <th>  Prob(JB):          </th> <td>   0.548</td>\n",
       "</tr>\n",
       "<tr>\n",
       "  <th>Kurtosis:</th>      <td> 2.228</td> <th>  Cond. No.          </th> <td>    802.</td>\n",
       "</tr>\n",
       "</table><br/><br/>Notes:<br/>[1] Standard Errors assume that the covariance matrix of the errors is correctly specified."
      ],
      "text/plain": [
       "<class 'statsmodels.iolib.summary.Summary'>\n",
       "\"\"\"\n",
       "                            OLS Regression Results                            \n",
       "==============================================================================\n",
       "Dep. Variable:       manual Occupancy   R-squared:                       0.110\n",
       "Model:                            OLS   Adj. R-squared:                  0.090\n",
       "Method:                 Least Squares   F-statistic:                     5.538\n",
       "Date:                Wed, 12 Jul 2023   Prob (F-statistic):             0.0230\n",
       "Time:                        21:52:57   Log-Likelihood:                 9.8586\n",
       "No. Observations:                  47   AIC:                            -15.72\n",
       "Df Residuals:                      45   BIC:                            -12.02\n",
       "Df Model:                           1                                         \n",
       "Covariance Type:            nonrobust                                         \n",
       "==============================================================================\n",
       "                 coef    std err          t      P>|t|      [0.025      0.975]\n",
       "------------------------------------------------------------------------------\n",
       "const          0.7526      0.095      7.925      0.000       0.561       0.944\n",
       "manual ADR    -0.0009      0.000     -2.353      0.023      -0.002      -0.000\n",
       "==============================================================================\n",
       "Omnibus:                        1.804   Durbin-Watson:                   1.715\n",
       "Prob(Omnibus):                  0.406   Jarque-Bera (JB):                1.202\n",
       "Skew:                          -0.066   Prob(JB):                        0.548\n",
       "Kurtosis:                       2.228   Cond. No.                         802.\n",
       "==============================================================================\n",
       "\n",
       "Notes:\n",
       "[1] Standard Errors assume that the covariance matrix of the errors is correctly specified.\n",
       "\"\"\""
      ]
     },
     "execution_count": 44,
     "metadata": {},
     "output_type": "execute_result"
    },
    {
     "data": {
      "application/javascript": [
       "\n",
       "            setTimeout(function() {\n",
       "                var nbb_cell_id = 44;\n",
       "                var nbb_unformatted_code = \"X = mod_data[[\\\"manual ADR\\\"]]  # , \\\"host_Corporate\\\", \\\"host_Superhost\\\"]]\\nX = sm.add_constant(X)\\ny = mod_data[[\\\"manual Occupancy\\\"]]\\nmod = sm.OLS(y, X)\\nres = mod.fit()\\nres.summary()\";\n",
       "                var nbb_formatted_code = \"X = mod_data[[\\\"manual ADR\\\"]]  # , \\\"host_Corporate\\\", \\\"host_Superhost\\\"]]\\nX = sm.add_constant(X)\\ny = mod_data[[\\\"manual Occupancy\\\"]]\\nmod = sm.OLS(y, X)\\nres = mod.fit()\\nres.summary()\";\n",
       "                var nbb_cells = Jupyter.notebook.get_cells();\n",
       "                for (var i = 0; i < nbb_cells.length; ++i) {\n",
       "                    if (nbb_cells[i].input_prompt_number == nbb_cell_id) {\n",
       "                        if (nbb_cells[i].get_text() == nbb_unformatted_code) {\n",
       "                             nbb_cells[i].set_text(nbb_formatted_code);\n",
       "                        }\n",
       "                        break;\n",
       "                    }\n",
       "                }\n",
       "            }, 500);\n",
       "            "
      ],
      "text/plain": [
       "<IPython.core.display.Javascript object>"
      ]
     },
     "metadata": {},
     "output_type": "display_data"
    }
   ],
   "source": [
    "X = mod_data[[\"manual ADR\"]]  # , \"host_Corporate\", \"host_Superhost\"]]\n",
    "X = sm.add_constant(X)\n",
    "y = mod_data[[\"manual Occupancy\"]]\n",
    "mod = sm.OLS(y, X)\n",
    "res = mod.fit()\n",
    "res.summary()"
   ]
  },
  {
   "cell_type": "code",
   "execution_count": 47,
   "id": "1ecd58ec",
   "metadata": {},
   "outputs": [
    {
     "data": {
      "text/plain": [
       "const         0.752611\n",
       "manual ADR   -0.000905\n",
       "dtype: float64"
      ]
     },
     "execution_count": 47,
     "metadata": {},
     "output_type": "execute_result"
    },
    {
     "data": {
      "application/javascript": [
       "\n",
       "            setTimeout(function() {\n",
       "                var nbb_cell_id = 47;\n",
       "                var nbb_unformatted_code = \"res.params\";\n",
       "                var nbb_formatted_code = \"res.params\";\n",
       "                var nbb_cells = Jupyter.notebook.get_cells();\n",
       "                for (var i = 0; i < nbb_cells.length; ++i) {\n",
       "                    if (nbb_cells[i].input_prompt_number == nbb_cell_id) {\n",
       "                        if (nbb_cells[i].get_text() == nbb_unformatted_code) {\n",
       "                             nbb_cells[i].set_text(nbb_formatted_code);\n",
       "                        }\n",
       "                        break;\n",
       "                    }\n",
       "                }\n",
       "            }, 500);\n",
       "            "
      ],
      "text/plain": [
       "<IPython.core.display.Javascript object>"
      ]
     },
     "metadata": {},
     "output_type": "display_data"
    }
   ],
   "source": [
    "res.params"
   ]
  },
  {
   "cell_type": "code",
   "execution_count": 50,
   "id": "05ac75e4",
   "metadata": {},
   "outputs": [
    {
     "name": "stdout",
     "output_type": "stream",
     "text": [
      "415.807182320442\n",
      "0.3763055\n"
     ]
    },
    {
     "data": {
      "application/javascript": [
       "\n",
       "            setTimeout(function() {\n",
       "                var nbb_cell_id = 50;\n",
       "                var nbb_unformatted_code = \"p_opt = -0.752611 / (2 * -0.000905)\\nprint(p_opt)\\nocc_opt = 0.752611 - 0.000905 * p_opt\\nprint(occ_opt)\";\n",
       "                var nbb_formatted_code = \"p_opt = -0.752611 / (2 * -0.000905)\\nprint(p_opt)\\nocc_opt = 0.752611 - 0.000905 * p_opt\\nprint(occ_opt)\";\n",
       "                var nbb_cells = Jupyter.notebook.get_cells();\n",
       "                for (var i = 0; i < nbb_cells.length; ++i) {\n",
       "                    if (nbb_cells[i].input_prompt_number == nbb_cell_id) {\n",
       "                        if (nbb_cells[i].get_text() == nbb_unformatted_code) {\n",
       "                             nbb_cells[i].set_text(nbb_formatted_code);\n",
       "                        }\n",
       "                        break;\n",
       "                    }\n",
       "                }\n",
       "            }, 500);\n",
       "            "
      ],
      "text/plain": [
       "<IPython.core.display.Javascript object>"
      ]
     },
     "metadata": {},
     "output_type": "display_data"
    }
   ],
   "source": [
    "p_opt = -0.752611 / (2 * -0.000905)\n",
    "print(p_opt)\n",
    "occ_opt = 0.752611 - 0.000905 * p_opt\n",
    "print(occ_opt)"
   ]
  },
  {
   "cell_type": "code",
   "execution_count": 114,
   "id": "3cadccfe",
   "metadata": {},
   "outputs": [
    {
     "data": {
      "text/plain": [
       "125.17642371734809"
      ]
     },
     "execution_count": 114,
     "metadata": {},
     "output_type": "execute_result"
    },
    {
     "data": {
      "application/javascript": [
       "\n",
       "            setTimeout(function() {\n",
       "                var nbb_cell_id = 114;\n",
       "                var nbb_unformatted_code = \"0.8 * p_opt * occ_opt\";\n",
       "                var nbb_formatted_code = \"0.8 * p_opt * occ_opt\";\n",
       "                var nbb_cells = Jupyter.notebook.get_cells();\n",
       "                for (var i = 0; i < nbb_cells.length; ++i) {\n",
       "                    if (nbb_cells[i].input_prompt_number == nbb_cell_id) {\n",
       "                        if (nbb_cells[i].get_text() == nbb_unformatted_code) {\n",
       "                             nbb_cells[i].set_text(nbb_formatted_code);\n",
       "                        }\n",
       "                        break;\n",
       "                    }\n",
       "                }\n",
       "            }, 500);\n",
       "            "
      ],
      "text/plain": [
       "<IPython.core.display.Javascript object>"
      ]
     },
     "metadata": {},
     "output_type": "display_data"
    }
   ],
   "source": [
    "0.8 * p_opt * occ_opt"
   ]
  },
  {
   "cell_type": "code",
   "execution_count": null,
   "id": "22e42a6b",
   "metadata": {},
   "outputs": [],
   "source": [
    "import matplotlib.pyplot as plt\n",
    "import numpy as np\n",
    "\n",
    "speed = np.array([3, 1, 2, 0, 5])\n",
    "acceleration = np.array([6, 5, 7, 1, 5])\n",
    "\n",
    "ax1 = plt.subplot()\n",
    "l1, = ax1.plot(speed, color='red')\n",
    "ax2 = ax1.twinx()\n",
    "l2, = ax2.plot(acceleration, color='orange')\n",
    "\n",
    "plt.legend([l1, l2], [\"speed\", \"acceleration\"])\n",
    "\n",
    "plt.show()"
   ]
  },
  {
   "cell_type": "code",
   "execution_count": 66,
   "id": "883abc25",
   "metadata": {},
   "outputs": [
    {
     "data": {
      "text/plain": [
       "<matplotlib.collections.PathCollection at 0x7f9013534fd0>"
      ]
     },
     "execution_count": 66,
     "metadata": {},
     "output_type": "execute_result"
    },
    {
     "data": {
      "image/png": "[encoded data removed]",
      "text/plain": [
       "<Figure size 1008x504 with 1 Axes>"
      ]
     },
     "metadata": {
      "needs_background": "light"
     },
     "output_type": "display_data"
    },
    {
     "data": {
      "application/javascript": [
       "\n",
       "            setTimeout(function() {\n",
       "                var nbb_cell_id = 66;\n",
       "                var nbb_unformatted_code = \"plt.plot(price_grid, rev_grid)\\nplt.scatter(p_opt, 0.8 * p_opt * occ_opt, color=\\\"red\\\", s=48)\";\n",
       "                var nbb_formatted_code = \"plt.plot(price_grid, rev_grid)\\nplt.scatter(p_opt, 0.8 * p_opt * occ_opt, color=\\\"red\\\", s=48)\";\n",
       "                var nbb_cells = Jupyter.notebook.get_cells();\n",
       "                for (var i = 0; i < nbb_cells.length; ++i) {\n",
       "                    if (nbb_cells[i].input_prompt_number == nbb_cell_id) {\n",
       "                        if (nbb_cells[i].get_text() == nbb_unformatted_code) {\n",
       "                             nbb_cells[i].set_text(nbb_formatted_code);\n",
       "                        }\n",
       "                        break;\n",
       "                    }\n",
       "                }\n",
       "            }, 500);\n",
       "            "
      ],
      "text/plain": [
       "<IPython.core.display.Javascript object>"
      ]
     },
     "metadata": {},
     "output_type": "display_data"
    }
   ],
   "source": [
    "plt.plot(price_grid, rev_grid)\n",
    "plt.scatter(p_opt, 0.8 * p_opt * occ_opt, color=\"red\", s=48)"
   ]
  },
  {
   "cell_type": "code",
   "execution_count": 28,
   "id": "87d20f38",
   "metadata": {},
   "outputs": [
    {
     "data": {
      "text/plain": [
       "(47, 1)"
      ]
     },
     "execution_count": 28,
     "metadata": {},
     "output_type": "execute_result"
    },
    {
     "data": {
      "application/javascript": [
       "\n",
       "            setTimeout(function() {\n",
       "                var nbb_cell_id = 28;\n",
       "                var nbb_unformatted_code = \"mod_data[[\\\"manual Occupancy\\\"]].to_numpy().shape\";\n",
       "                var nbb_formatted_code = \"mod_data[[\\\"manual Occupancy\\\"]].to_numpy().shape\";\n",
       "                var nbb_cells = Jupyter.notebook.get_cells();\n",
       "                for (var i = 0; i < nbb_cells.length; ++i) {\n",
       "                    if (nbb_cells[i].input_prompt_number == nbb_cell_id) {\n",
       "                        if (nbb_cells[i].get_text() == nbb_unformatted_code) {\n",
       "                             nbb_cells[i].set_text(nbb_formatted_code);\n",
       "                        }\n",
       "                        break;\n",
       "                    }\n",
       "                }\n",
       "            }, 500);\n",
       "            "
      ],
      "text/plain": [
       "<IPython.core.display.Javascript object>"
      ]
     },
     "metadata": {},
     "output_type": "display_data"
    }
   ],
   "source": [
    "mod_data[[\"manual Occupancy\"]].to_numpy().shape"
   ]
  },
  {
   "cell_type": "code",
   "execution_count": 29,
   "id": "4fd56f4e",
   "metadata": {},
   "outputs": [
    {
     "data": {
      "text/plain": [
       "(47, 1)"
      ]
     },
     "execution_count": 29,
     "metadata": {},
     "output_type": "execute_result"
    },
    {
     "data": {
      "application/javascript": [
       "\n",
       "            setTimeout(function() {\n",
       "                var nbb_cell_id = 29;\n",
       "                var nbb_unformatted_code = \"mod_data[[\\\"manual Occupancy\\\"]].to_numpy().reshape(-1, 1).shape\";\n",
       "                var nbb_formatted_code = \"mod_data[[\\\"manual Occupancy\\\"]].to_numpy().reshape(-1, 1).shape\";\n",
       "                var nbb_cells = Jupyter.notebook.get_cells();\n",
       "                for (var i = 0; i < nbb_cells.length; ++i) {\n",
       "                    if (nbb_cells[i].input_prompt_number == nbb_cell_id) {\n",
       "                        if (nbb_cells[i].get_text() == nbb_unformatted_code) {\n",
       "                             nbb_cells[i].set_text(nbb_formatted_code);\n",
       "                        }\n",
       "                        break;\n",
       "                    }\n",
       "                }\n",
       "            }, 500);\n",
       "            "
      ],
      "text/plain": [
       "<IPython.core.display.Javascript object>"
      ]
     },
     "metadata": {},
     "output_type": "display_data"
    }
   ],
   "source": [
    "mod_data[[\"manual Occupancy\"]].to_numpy().reshape(-1, 1).shape"
   ]
  },
  {
   "cell_type": "code",
   "execution_count": 41,
   "id": "840f23f2",
   "metadata": {},
   "outputs": [
    {
     "data": {
      "text/plain": [
       "array([[-144.26204633]])"
      ]
     },
     "execution_count": 41,
     "metadata": {},
     "output_type": "execute_result"
    },
    {
     "data": {
      "application/javascript": [
       "\n",
       "            setTimeout(function() {\n",
       "                var nbb_cell_id = 41;\n",
       "                var nbb_unformatted_code = \"lr_mod = LinearRegression()\\nlr_mod.fit(\\n    X=mod_data[\\\"manual Occupancy\\\"].to_numpy().reshape(-1, 1), y=mod_data[[\\\"manual ADR\\\"]]\\n)\\nlr_mod.coef_\";\n",
       "                var nbb_formatted_code = \"lr_mod = LinearRegression()\\nlr_mod.fit(\\n    X=mod_data[\\\"manual Occupancy\\\"].to_numpy().reshape(-1, 1), y=mod_data[[\\\"manual ADR\\\"]]\\n)\\nlr_mod.coef_\";\n",
       "                var nbb_cells = Jupyter.notebook.get_cells();\n",
       "                for (var i = 0; i < nbb_cells.length; ++i) {\n",
       "                    if (nbb_cells[i].input_prompt_number == nbb_cell_id) {\n",
       "                        if (nbb_cells[i].get_text() == nbb_unformatted_code) {\n",
       "                             nbb_cells[i].set_text(nbb_formatted_code);\n",
       "                        }\n",
       "                        break;\n",
       "                    }\n",
       "                }\n",
       "            }, 500);\n",
       "            "
      ],
      "text/plain": [
       "<IPython.core.display.Javascript object>"
      ]
     },
     "metadata": {},
     "output_type": "display_data"
    }
   ],
   "source": [
    "lr_mod = LinearRegression()\n",
    "lr_mod.fit(\n",
    "    X=mod_data[\"manual Occupancy\"].to_numpy().reshape(-1, 1), y=mod_data[[\"manual ADR\"]]\n",
    ")\n",
    "lr_mod.coef_"
   ]
  },
  {
   "cell_type": "code",
   "execution_count": 58,
   "id": "78f57f03",
   "metadata": {},
   "outputs": [
    {
     "data": {
      "text/plain": [
       "317.76706624451714"
      ]
     },
     "execution_count": 58,
     "metadata": {},
     "output_type": "execute_result"
    },
    {
     "data": {
      "application/javascript": [
       "\n",
       "            setTimeout(function() {\n",
       "                var nbb_cell_id = 58;\n",
       "                var nbb_unformatted_code = \"lr_mod.intercept_[0]\";\n",
       "                var nbb_formatted_code = \"lr_mod.intercept_[0]\";\n",
       "                var nbb_cells = Jupyter.notebook.get_cells();\n",
       "                for (var i = 0; i < nbb_cells.length; ++i) {\n",
       "                    if (nbb_cells[i].input_prompt_number == nbb_cell_id) {\n",
       "                        if (nbb_cells[i].get_text() == nbb_unformatted_code) {\n",
       "                             nbb_cells[i].set_text(nbb_formatted_code);\n",
       "                        }\n",
       "                        break;\n",
       "                    }\n",
       "                }\n",
       "            }, 500);\n",
       "            "
      ],
      "text/plain": [
       "<IPython.core.display.Javascript object>"
      ]
     },
     "metadata": {},
     "output_type": "display_data"
    }
   ],
   "source": [
    "lr_mod.intercept_[0]"
   ]
  },
  {
   "cell_type": "code",
   "execution_count": 59,
   "id": "4afd1a3e",
   "metadata": {},
   "outputs": [
    {
     "data": {
      "image/png": "[encoded data removed]",
      "text/plain": [
       "<Figure size 1008x504 with 1 Axes>"
      ]
     },
     "metadata": {
      "needs_background": "light"
     },
     "output_type": "display_data"
    },
    {
     "data": {
      "application/javascript": [
       "\n",
       "            setTimeout(function() {\n",
       "                var nbb_cell_id = 59;\n",
       "                var nbb_unformatted_code = \"adr_vs_ocp = sns.scatterplot(\\n    data=comps, x=\\\"manual Occupancy\\\", y=\\\"manual ADR\\\", hue=\\\"Host\\\"\\n)\\n\\noccupancy_grid = np.linspace(0, 1, num=100)\\nadr_grid = [lr_mod.intercept_[0] + lr_mod.coef_[0] * op for op in occupancy_grid]\\nplt.plot(occupancy_grid, adr_grid)\\nplt.show()\";\n",
       "                var nbb_formatted_code = \"adr_vs_ocp = sns.scatterplot(\\n    data=comps, x=\\\"manual Occupancy\\\", y=\\\"manual ADR\\\", hue=\\\"Host\\\"\\n)\\n\\noccupancy_grid = np.linspace(0, 1, num=100)\\nadr_grid = [lr_mod.intercept_[0] + lr_mod.coef_[0] * op for op in occupancy_grid]\\nplt.plot(occupancy_grid, adr_grid)\\nplt.show()\";\n",
       "                var nbb_cells = Jupyter.notebook.get_cells();\n",
       "                for (var i = 0; i < nbb_cells.length; ++i) {\n",
       "                    if (nbb_cells[i].input_prompt_number == nbb_cell_id) {\n",
       "                        if (nbb_cells[i].get_text() == nbb_unformatted_code) {\n",
       "                             nbb_cells[i].set_text(nbb_formatted_code);\n",
       "                        }\n",
       "                        break;\n",
       "                    }\n",
       "                }\n",
       "            }, 500);\n",
       "            "
      ],
      "text/plain": [
       "<IPython.core.display.Javascript object>"
      ]
     },
     "metadata": {},
     "output_type": "display_data"
    }
   ],
   "source": [
    "adr_vs_ocp = sns.scatterplot(\n",
    "    data=comps, x=\"manual Occupancy\", y=\"manual ADR\", hue=\"Host\"\n",
    ")\n",
    "\n",
    "occupancy_grid = np.linspace(0, 1, num=100)\n",
    "adr_grid = [lr_mod.intercept_[0] + lr_mod.coef_[0] * op for op in occupancy_grid]\n",
    "plt.plot(occupancy_grid, adr_grid)\n",
    "plt.show()"
   ]
  },
  {
   "cell_type": "code",
   "execution_count": 66,
   "id": "afa04a08",
   "metadata": {},
   "outputs": [
    {
     "data": {
      "application/javascript": [
       "\n",
       "            setTimeout(function() {\n",
       "                var nbb_cell_id = 66;\n",
       "                var nbb_unformatted_code = \"adr_grid = np.ndarray.flatten(np.array(adr_grid))\";\n",
       "                var nbb_formatted_code = \"adr_grid = np.ndarray.flatten(np.array(adr_grid))\";\n",
       "                var nbb_cells = Jupyter.notebook.get_cells();\n",
       "                for (var i = 0; i < nbb_cells.length; ++i) {\n",
       "                    if (nbb_cells[i].input_prompt_number == nbb_cell_id) {\n",
       "                        if (nbb_cells[i].get_text() == nbb_unformatted_code) {\n",
       "                             nbb_cells[i].set_text(nbb_formatted_code);\n",
       "                        }\n",
       "                        break;\n",
       "                    }\n",
       "                }\n",
       "            }, 500);\n",
       "            "
      ],
      "text/plain": [
       "<IPython.core.display.Javascript object>"
      ]
     },
     "metadata": {},
     "output_type": "display_data"
    }
   ],
   "source": [
    "adr_grid = np.ndarray.flatten(np.array(adr_grid))"
   ]
  },
  {
   "cell_type": "code",
   "execution_count": 68,
   "id": "480c1dae",
   "metadata": {},
   "outputs": [
    {
     "data": {
      "text/plain": [
       "array([  0.        ,   3.19504923,   6.36066023,   9.496833  ,\n",
       "        12.60356754,  15.68086385,  18.72872193,  21.74714179,\n",
       "        24.73612341,  27.6956668 ,  30.62577196,  33.52643889,\n",
       "        36.39766759,  39.23945806,  42.0518103 ,  44.83472431,\n",
       "        47.58820009,  50.31223764,  53.00683696,  55.67199805,\n",
       "        58.30772091,  60.91400554,  63.49085194,  66.03826011,\n",
       "        68.55623005,  71.04476176,  73.50385524,  75.93351049,\n",
       "        78.33372751,  80.7045063 ,  83.04584686,  85.35774919,\n",
       "        87.64021329,  89.89323916,  92.1168268 ,  94.31097621,\n",
       "        96.47568738,  98.61096033, 100.71679505, 102.79319154,\n",
       "       104.8401498 , 106.85766983, 108.84575163, 110.8043952 ,\n",
       "       112.73360054, 114.63336765, 116.50369653, 118.34458717,\n",
       "       120.15603959, 121.93805378, 123.69062974, 125.41376747,\n",
       "       127.10746697, 128.77172824, 130.40655128, 132.01193608,\n",
       "       133.58788266, 135.13439101, 136.65146113, 138.13909302,\n",
       "       139.59728668, 141.0260421 , 142.4253593 , 143.79523827,\n",
       "       145.13567901, 146.44668152, 147.7282458 , 148.98037184,\n",
       "       150.20305966, 151.39630925, 152.56012061, 153.69449373,\n",
       "       154.79942863, 155.8749253 , 156.92098374, 157.93760395,\n",
       "       158.92478592, 159.88252967, 160.81083519, 161.70970248,\n",
       "       162.57913153, 163.41912236, 164.22967496, 165.01078933,\n",
       "       165.76246546, 166.48470337, 167.17750305, 167.84086449,\n",
       "       168.47478771, 169.0792727 , 169.65431946, 170.19992798,\n",
       "       170.71609828, 171.20283035, 171.66012418, 172.08797979,\n",
       "       172.48639717, 172.85537631, 173.19491723, 173.50501992])"
      ]
     },
     "execution_count": 68,
     "metadata": {},
     "output_type": "execute_result"
    },
    {
     "data": {
      "application/javascript": [
       "\n",
       "            setTimeout(function() {\n",
       "                var nbb_cell_id = 68;\n",
       "                var nbb_unformatted_code = \"occupancy_grid * adr_grid\";\n",
       "                var nbb_formatted_code = \"occupancy_grid * adr_grid\";\n",
       "                var nbb_cells = Jupyter.notebook.get_cells();\n",
       "                for (var i = 0; i < nbb_cells.length; ++i) {\n",
       "                    if (nbb_cells[i].input_prompt_number == nbb_cell_id) {\n",
       "                        if (nbb_cells[i].get_text() == nbb_unformatted_code) {\n",
       "                             nbb_cells[i].set_text(nbb_formatted_code);\n",
       "                        }\n",
       "                        break;\n",
       "                    }\n",
       "                }\n",
       "            }, 500);\n",
       "            "
      ],
      "text/plain": [
       "<IPython.core.display.Javascript object>"
      ]
     },
     "metadata": {},
     "output_type": "display_data"
    }
   ],
   "source": [
    "occupancy_grid * adr_grid"
   ]
  },
  {
   "cell_type": "code",
   "execution_count": null,
   "id": "75e021e3",
   "metadata": {},
   "outputs": [],
   "source": []
  },
  {
   "cell_type": "code",
   "execution_count": null,
   "id": "f17aee25",
   "metadata": {},
   "outputs": [],
   "source": []
  },
  {
   "cell_type": "code",
   "execution_count": null,
   "id": "cae03321",
   "metadata": {},
   "outputs": [],
   "source": []
  },
  {
   "cell_type": "code",
   "execution_count": 20,
   "id": "f79b192f",
   "metadata": {},
   "outputs": [
    {
     "name": "stdout",
     "output_type": "stream",
     "text": [
      "                            OLS Regression Results                            \n",
      "==============================================================================\n",
      "Dep. Variable:                  GRADE   R-squared:                       0.416\n",
      "Model:                            OLS   Adj. R-squared:                  0.353\n",
      "Method:                 Least Squares   F-statistic:                     6.646\n",
      "Date:                Wed, 12 Jul 2023   Prob (F-statistic):            0.00157\n",
      "Time:                        21:42:04   Log-Likelihood:                -12.978\n",
      "No. Observations:                  32   AIC:                             33.96\n",
      "Df Residuals:                      28   BIC:                             39.82\n",
      "Df Model:                           3                                         \n",
      "Covariance Type:            nonrobust                                         \n",
      "==============================================================================\n",
      "                 coef    std err          t      P>|t|      [0.025      0.975]\n",
      "------------------------------------------------------------------------------\n",
      "GPA            0.4639      0.162      2.864      0.008       0.132       0.796\n",
      "TUCE           0.0105      0.019      0.539      0.594      -0.029       0.050\n",
      "PSI            0.3786      0.139      2.720      0.011       0.093       0.664\n",
      "const         -1.4980      0.524     -2.859      0.008      -2.571      -0.425\n",
      "==============================================================================\n",
      "Omnibus:                        0.176   Durbin-Watson:                   2.346\n",
      "Prob(Omnibus):                  0.916   Jarque-Bera (JB):                0.167\n",
      "Skew:                           0.141   Prob(JB):                        0.920\n",
      "Kurtosis:                       2.786   Cond. No.                         176.\n",
      "==============================================================================\n",
      "\n",
      "Notes:\n",
      "[1] Standard Errors assume that the covariance matrix of the errors is correctly specified.\n"
     ]
    },
    {
     "data": {
      "application/javascript": [
       "\n",
       "            setTimeout(function() {\n",
       "                var nbb_cell_id = 20;\n",
       "                var nbb_unformatted_code = \"\\n\\nimport statsmodels.api as sm\\n\\nspector_data = sm.datasets.spector.load()\\n\\nspector_data.exog = sm.add_constant(spector_data.exog, prepend=False)\\n\\n# Fit and summarize OLS model\\nmod = sm.OLS(spector_data.endog, spector_data.exog)\\n\\nres = mod.fit()\\n\\nprint(res.summary())\";\n",
       "                var nbb_formatted_code = \"import statsmodels.api as sm\\n\\nspector_data = sm.datasets.spector.load()\\n\\nspector_data.exog = sm.add_constant(spector_data.exog, prepend=False)\\n\\n# Fit and summarize OLS model\\nmod = sm.OLS(spector_data.endog, spector_data.exog)\\n\\nres = mod.fit()\\n\\nprint(res.summary())\";\n",
       "                var nbb_cells = Jupyter.notebook.get_cells();\n",
       "                for (var i = 0; i < nbb_cells.length; ++i) {\n",
       "                    if (nbb_cells[i].input_prompt_number == nbb_cell_id) {\n",
       "                        if (nbb_cells[i].get_text() == nbb_unformatted_code) {\n",
       "                             nbb_cells[i].set_text(nbb_formatted_code);\n",
       "                        }\n",
       "                        break;\n",
       "                    }\n",
       "                }\n",
       "            }, 500);\n",
       "            "
      ],
      "text/plain": [
       "<IPython.core.display.Javascript object>"
      ]
     },
     "metadata": {},
     "output_type": "display_data"
    }
   ],
   "source": [
    "\n",
    "\n",
    "import statsmodels.api as sm\n",
    "\n",
    "spector_data = sm.datasets.spector.load()\n",
    "\n",
    "spector_data.exog = sm.add_constant(spector_data.exog, prepend=False)\n",
    "\n",
    "# Fit and summarize OLS model\n",
    "mod = sm.OLS(spector_data.endog, spector_data.exog)\n",
    "\n",
    "res = mod.fit()\n",
    "\n",
    "print(res.summary())\n"
   ]
  },
  {
   "cell_type": "code",
   "execution_count": 24,
   "id": "4d9cc38e",
   "metadata": {},
   "outputs": [
    {
     "data": {
      "text/plain": [
       "0     0.0\n",
       "1     0.0\n",
       "2     0.0\n",
       "3     0.0\n",
       "4     1.0\n",
       "5     0.0\n",
       "6     0.0\n",
       "7     0.0\n",
       "8     0.0\n",
       "9     1.0\n",
       "10    0.0\n",
       "11    0.0\n",
       "12    0.0\n",
       "13    1.0\n",
       "14    0.0\n",
       "15    0.0\n",
       "16    0.0\n",
       "17    0.0\n",
       "18    0.0\n",
       "19    1.0\n",
       "20    0.0\n",
       "21    1.0\n",
       "22    0.0\n",
       "23    0.0\n",
       "24    1.0\n",
       "25    1.0\n",
       "26    1.0\n",
       "27    0.0\n",
       "28    1.0\n",
       "29    1.0\n",
       "30    0.0\n",
       "31    1.0\n",
       "Name: GRADE, dtype: float64"
      ]
     },
     "execution_count": 24,
     "metadata": {},
     "output_type": "execute_result"
    },
    {
     "data": {
      "application/javascript": [
       "\n",
       "            setTimeout(function() {\n",
       "                var nbb_cell_id = 24;\n",
       "                var nbb_unformatted_code = \"spector_data.endog\";\n",
       "                var nbb_formatted_code = \"spector_data.endog\";\n",
       "                var nbb_cells = Jupyter.notebook.get_cells();\n",
       "                for (var i = 0; i < nbb_cells.length; ++i) {\n",
       "                    if (nbb_cells[i].input_prompt_number == nbb_cell_id) {\n",
       "                        if (nbb_cells[i].get_text() == nbb_unformatted_code) {\n",
       "                             nbb_cells[i].set_text(nbb_formatted_code);\n",
       "                        }\n",
       "                        break;\n",
       "                    }\n",
       "                }\n",
       "            }, 500);\n",
       "            "
      ],
      "text/plain": [
       "<IPython.core.display.Javascript object>"
      ]
     },
     "metadata": {},
     "output_type": "display_data"
    }
   ],
   "source": [
    "spector_data.endog"
   ]
  },
  {
   "cell_type": "code",
   "execution_count": 26,
   "id": "f36dd05a",
   "metadata": {},
   "outputs": [
    {
     "ename": "NameError",
     "evalue": "name 'X' is not defined",
     "output_type": "error",
     "traceback": [
      "\u001b[0;31m---------------------------------------------------------------------------\u001b[0m",
      "\u001b[0;31mNameError\u001b[0m                                 Traceback (most recent call last)",
      "\u001b[0;32m/tmp/ipykernel_14616/3777217377.py\u001b[0m in \u001b[0;36m<module>\u001b[0;34m\u001b[0m\n\u001b[0;32m----> 1\u001b[0;31m \u001b[0mX\u001b[0m\u001b[0;34m\u001b[0m\u001b[0;34m\u001b[0m\u001b[0m\n\u001b[0m",
      "\u001b[0;31mNameError\u001b[0m: name 'X' is not defined"
     ]
    },
    {
     "data": {
      "application/javascript": [
       "\n",
       "            setTimeout(function() {\n",
       "                var nbb_cell_id = 26;\n",
       "                var nbb_unformatted_code = \"X\";\n",
       "                var nbb_formatted_code = \"X\";\n",
       "                var nbb_cells = Jupyter.notebook.get_cells();\n",
       "                for (var i = 0; i < nbb_cells.length; ++i) {\n",
       "                    if (nbb_cells[i].input_prompt_number == nbb_cell_id) {\n",
       "                        if (nbb_cells[i].get_text() == nbb_unformatted_code) {\n",
       "                             nbb_cells[i].set_text(nbb_formatted_code);\n",
       "                        }\n",
       "                        break;\n",
       "                    }\n",
       "                }\n",
       "            }, 500);\n",
       "            "
      ],
      "text/plain": [
       "<IPython.core.display.Javascript object>"
      ]
     },
     "metadata": {},
     "output_type": "display_data"
    }
   ],
   "source": [
    "X"
   ]
  },
  {
   "cell_type": "markdown",
   "id": "f3a70944",
   "metadata": {},
   "source": [
    "--------------------\n",
    "## Seasonality"
   ]
  },
  {
   "cell_type": "code",
   "execution_count": 122,
   "id": "7ef0695a",
   "metadata": {},
   "outputs": [
    {
     "data": {
      "application/javascript": [
       "\n",
       "            setTimeout(function() {\n",
       "                var nbb_cell_id = 122;\n",
       "                var nbb_unformatted_code = \"seasonality[\\\"seasonal_adj\\\"] = seasonality[\\\"Revenue\\\"] / 4866\\nseasonality[\\\"seasonal_revenue\\\"] = p_opt * occ_opt * seasonality[\\\"seasonal_adj\\\"] * 365.25/12\";\n",
       "                var nbb_formatted_code = \"seasonality[\\\"seasonal_adj\\\"] = seasonality[\\\"Revenue\\\"] / 4866\\nseasonality[\\\"seasonal_revenue\\\"] = (\\n    p_opt * occ_opt * seasonality[\\\"seasonal_adj\\\"] * 365.25 / 12\\n)\";\n",
       "                var nbb_cells = Jupyter.notebook.get_cells();\n",
       "                for (var i = 0; i < nbb_cells.length; ++i) {\n",
       "                    if (nbb_cells[i].input_prompt_number == nbb_cell_id) {\n",
       "                        if (nbb_cells[i].get_text() == nbb_unformatted_code) {\n",
       "                             nbb_cells[i].set_text(nbb_formatted_code);\n",
       "                        }\n",
       "                        break;\n",
       "                    }\n",
       "                }\n",
       "            }, 500);\n",
       "            "
      ],
      "text/plain": [
       "<IPython.core.display.Javascript object>"
      ]
     },
     "metadata": {},
     "output_type": "display_data"
    }
   ],
   "source": [
    "seasonality[\"seasonal_adj\"] = seasonality[\"Revenue\"] / 4866\n",
    "seasonality[\"seasonal_revenue\"] = (\n",
    "    p_opt * occ_opt * seasonality[\"seasonal_adj\"] * 365.25 / 12\n",
    ")"
   ]
  },
  {
   "cell_type": "code",
   "execution_count": 123,
   "id": "5363cfc2",
   "metadata": {},
   "outputs": [
    {
     "data": {
      "text/html": [
       "<div>\n",
       "<style scoped>\n",
       "    .dataframe tbody tr th:only-of-type {\n",
       "        vertical-align: middle;\n",
       "    }\n",
       "\n",
       "    .dataframe tbody tr th {\n",
       "        vertical-align: top;\n",
       "    }\n",
       "\n",
       "    .dataframe thead th {\n",
       "        text-align: right;\n",
       "    }\n",
       "</style>\n",
       "<table border=\"1\" class=\"dataframe\">\n",
       "  <thead>\n",
       "    <tr style=\"text-align: right;\">\n",
       "      <th></th>\n",
       "      <th>Month</th>\n",
       "      <th>Revenue</th>\n",
       "      <th>Jan</th>\n",
       "      <th>Jul</th>\n",
       "      <th>seasonal_adj</th>\n",
       "      <th>seasonal_revenue</th>\n",
       "    </tr>\n",
       "  </thead>\n",
       "  <tbody>\n",
       "    <tr>\n",
       "      <th>0</th>\n",
       "      <td>1</td>\n",
       "      <td>2311</td>\n",
       "      <td>1.000000</td>\n",
       "      <td>0.474928</td>\n",
       "      <td>0.474928</td>\n",
       "      <td>2261.879019</td>\n",
       "    </tr>\n",
       "    <tr>\n",
       "      <th>1</th>\n",
       "      <td>2</td>\n",
       "      <td>2388</td>\n",
       "      <td>1.033319</td>\n",
       "      <td>0.490752</td>\n",
       "      <td>0.490752</td>\n",
       "      <td>2337.242361</td>\n",
       "    </tr>\n",
       "    <tr>\n",
       "      <th>2</th>\n",
       "      <td>3</td>\n",
       "      <td>2312</td>\n",
       "      <td>1.000433</td>\n",
       "      <td>0.475134</td>\n",
       "      <td>0.475134</td>\n",
       "      <td>2262.857763</td>\n",
       "    </tr>\n",
       "    <tr>\n",
       "      <th>3</th>\n",
       "      <td>4</td>\n",
       "      <td>2080</td>\n",
       "      <td>0.900043</td>\n",
       "      <td>0.427456</td>\n",
       "      <td>0.427456</td>\n",
       "      <td>2035.788991</td>\n",
       "    </tr>\n",
       "    <tr>\n",
       "      <th>4</th>\n",
       "      <td>5</td>\n",
       "      <td>2833</td>\n",
       "      <td>1.225876</td>\n",
       "      <td>0.582203</td>\n",
       "      <td>0.582203</td>\n",
       "      <td>2772.783756</td>\n",
       "    </tr>\n",
       "    <tr>\n",
       "      <th>5</th>\n",
       "      <td>6</td>\n",
       "      <td>3901</td>\n",
       "      <td>1.688014</td>\n",
       "      <td>0.801685</td>\n",
       "      <td>0.801685</td>\n",
       "      <td>3818.083103</td>\n",
       "    </tr>\n",
       "    <tr>\n",
       "      <th>6</th>\n",
       "      <td>7</td>\n",
       "      <td>4866</td>\n",
       "      <td>2.105582</td>\n",
       "      <td>1.000000</td>\n",
       "      <td>1.000000</td>\n",
       "      <td>4762.571746</td>\n",
       "    </tr>\n",
       "    <tr>\n",
       "      <th>7</th>\n",
       "      <td>8</td>\n",
       "      <td>5370</td>\n",
       "      <td>2.323669</td>\n",
       "      <td>1.103576</td>\n",
       "      <td>1.103576</td>\n",
       "      <td>5255.859079</td>\n",
       "    </tr>\n",
       "    <tr>\n",
       "      <th>8</th>\n",
       "      <td>9</td>\n",
       "      <td>3403</td>\n",
       "      <td>1.472523</td>\n",
       "      <td>0.699342</td>\n",
       "      <td>0.699342</td>\n",
       "      <td>3330.668239</td>\n",
       "    </tr>\n",
       "    <tr>\n",
       "      <th>9</th>\n",
       "      <td>10</td>\n",
       "      <td>2452</td>\n",
       "      <td>1.061013</td>\n",
       "      <td>0.503905</td>\n",
       "      <td>0.503905</td>\n",
       "      <td>2399.882023</td>\n",
       "    </tr>\n",
       "    <tr>\n",
       "      <th>10</th>\n",
       "      <td>11</td>\n",
       "      <td>2142</td>\n",
       "      <td>0.926871</td>\n",
       "      <td>0.440197</td>\n",
       "      <td>0.440197</td>\n",
       "      <td>2096.471163</td>\n",
       "    </tr>\n",
       "    <tr>\n",
       "      <th>11</th>\n",
       "      <td>12</td>\n",
       "      <td>2828</td>\n",
       "      <td>1.223713</td>\n",
       "      <td>0.581176</td>\n",
       "      <td>0.581176</td>\n",
       "      <td>2767.890032</td>\n",
       "    </tr>\n",
       "  </tbody>\n",
       "</table>\n",
       "</div>"
      ],
      "text/plain": [
       "    Month  Revenue       Jan       Jul  seasonal_adj  seasonal_revenue\n",
       "0       1     2311  1.000000  0.474928      0.474928       2261.879019\n",
       "1       2     2388  1.033319  0.490752      0.490752       2337.242361\n",
       "2       3     2312  1.000433  0.475134      0.475134       2262.857763\n",
       "3       4     2080  0.900043  0.427456      0.427456       2035.788991\n",
       "4       5     2833  1.225876  0.582203      0.582203       2772.783756\n",
       "5       6     3901  1.688014  0.801685      0.801685       3818.083103\n",
       "6       7     4866  2.105582  1.000000      1.000000       4762.571746\n",
       "7       8     5370  2.323669  1.103576      1.103576       5255.859079\n",
       "8       9     3403  1.472523  0.699342      0.699342       3330.668239\n",
       "9      10     2452  1.061013  0.503905      0.503905       2399.882023\n",
       "10     11     2142  0.926871  0.440197      0.440197       2096.471163\n",
       "11     12     2828  1.223713  0.581176      0.581176       2767.890032"
      ]
     },
     "execution_count": 123,
     "metadata": {},
     "output_type": "execute_result"
    },
    {
     "data": {
      "application/javascript": [
       "\n",
       "            setTimeout(function() {\n",
       "                var nbb_cell_id = 123;\n",
       "                var nbb_unformatted_code = \"seasonality\";\n",
       "                var nbb_formatted_code = \"seasonality\";\n",
       "                var nbb_cells = Jupyter.notebook.get_cells();\n",
       "                for (var i = 0; i < nbb_cells.length; ++i) {\n",
       "                    if (nbb_cells[i].input_prompt_number == nbb_cell_id) {\n",
       "                        if (nbb_cells[i].get_text() == nbb_unformatted_code) {\n",
       "                             nbb_cells[i].set_text(nbb_formatted_code);\n",
       "                        }\n",
       "                        break;\n",
       "                    }\n",
       "                }\n",
       "            }, 500);\n",
       "            "
      ],
      "text/plain": [
       "<IPython.core.display.Javascript object>"
      ]
     },
     "metadata": {},
     "output_type": "display_data"
    }
   ],
   "source": [
    "seasonality"
   ]
  },
  {
   "cell_type": "code",
   "execution_count": 127,
   "id": "659d58c5",
   "metadata": {},
   "outputs": [
    {
     "data": {
      "text/plain": [
       "36102.0"
      ]
     },
     "execution_count": 127,
     "metadata": {},
     "output_type": "execute_result"
    },
    {
     "data": {
      "application/javascript": [
       "\n",
       "            setTimeout(function() {\n",
       "                var nbb_cell_id = 127;\n",
       "                var nbb_unformatted_code = \"annual_rev = seasonality.seasonal_revenue.sum().round()\\nannual_rev\";\n",
       "                var nbb_formatted_code = \"annual_rev = seasonality.seasonal_revenue.sum().round()\\nannual_rev\";\n",
       "                var nbb_cells = Jupyter.notebook.get_cells();\n",
       "                for (var i = 0; i < nbb_cells.length; ++i) {\n",
       "                    if (nbb_cells[i].input_prompt_number == nbb_cell_id) {\n",
       "                        if (nbb_cells[i].get_text() == nbb_unformatted_code) {\n",
       "                             nbb_cells[i].set_text(nbb_formatted_code);\n",
       "                        }\n",
       "                        break;\n",
       "                    }\n",
       "                }\n",
       "            }, 500);\n",
       "            "
      ],
      "text/plain": [
       "<IPython.core.display.Javascript object>"
      ]
     },
     "metadata": {},
     "output_type": "display_data"
    }
   ],
   "source": [
    "annual_rev = seasonality.seasonal_revenue.sum().round()\n",
    "annual_rev"
   ]
  },
  {
   "cell_type": "code",
   "execution_count": 134,
   "id": "a51d92cb",
   "metadata": {},
   "outputs": [
    {
     "data": {
      "text/plain": [
       "0.0451275"
      ]
     },
     "execution_count": 134,
     "metadata": {},
     "output_type": "execute_result"
    },
    {
     "data": {
      "application/javascript": [
       "\n",
       "            setTimeout(function() {\n",
       "                var nbb_cell_id = 134;\n",
       "                var nbb_unformatted_code = \"((3 / 4) * (2 / 3) * annual_rev) / 400000\";\n",
       "                var nbb_formatted_code = \"((3 / 4) * (2 / 3) * annual_rev) / 400000\";\n",
       "                var nbb_cells = Jupyter.notebook.get_cells();\n",
       "                for (var i = 0; i < nbb_cells.length; ++i) {\n",
       "                    if (nbb_cells[i].input_prompt_number == nbb_cell_id) {\n",
       "                        if (nbb_cells[i].get_text() == nbb_unformatted_code) {\n",
       "                             nbb_cells[i].set_text(nbb_formatted_code);\n",
       "                        }\n",
       "                        break;\n",
       "                    }\n",
       "                }\n",
       "            }, 500);\n",
       "            "
      ],
      "text/plain": [
       "<IPython.core.display.Javascript object>"
      ]
     },
     "metadata": {},
     "output_type": "display_data"
    }
   ],
   "source": [
    "((3 / 4) * (2 / 3) * annual_rev) / 400000"
   ]
  },
  {
   "cell_type": "code",
   "execution_count": null,
   "id": "29791155",
   "metadata": {},
   "outputs": [],
   "source": []
  }
 ],
 "metadata": {
  "kernelspec": {
   "display_name": "Python 3",
   "language": "python",
   "name": "python3"
  },
  "language_info": {
   "codemirror_mode": {
    "name": "ipython",
    "version": 3
   },
   "file_extension": ".py",
   "mimetype": "text/x-python",
   "name": "python",
   "nbconvert_exporter": "python",
   "pygments_lexer": "ipython3",
   "version": "3.10.6"
  }
 },
 "nbformat": 4,
 "nbformat_minor": 5
}
