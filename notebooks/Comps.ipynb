{
 "cells": [
  {
   "cell_type": "code",
   "execution_count": 43,
   "id": "5555a0e6",
   "metadata": {},
   "outputs": [
    {
     "name": "stdout",
     "output_type": "stream",
     "text": [
      "The nb_black extension is already loaded. To reload it, use:\n",
      "  %reload_ext nb_black\n"
     ]
    },
    {
     "data": {
      "application/javascript": [
       "\n",
       "            setTimeout(function() {\n",
       "                var nbb_cell_id = 43;\n",
       "                var nbb_unformatted_code = \"import pandas as pd\\nimport numpy as np\\n\\nimport matplotlib.pyplot as plt\\nimport seaborn as sns\\n\\n%matplotlib inline\\n%load_ext nb_black\\n\\nplt.rcParams[\\\"figure.figsize\\\"] = (14, 7)\";\n",
       "                var nbb_formatted_code = \"import pandas as pd\\nimport numpy as np\\n\\nimport matplotlib.pyplot as plt\\nimport seaborn as sns\\n\\n%matplotlib inline\\n%load_ext nb_black\\n\\nplt.rcParams[\\\"figure.figsize\\\"] = (14, 7)\";\n",
       "                var nbb_cells = Jupyter.notebook.get_cells();\n",
       "                for (var i = 0; i < nbb_cells.length; ++i) {\n",
       "                    if (nbb_cells[i].input_prompt_number == nbb_cell_id) {\n",
       "                        if (nbb_cells[i].get_text() == nbb_unformatted_code) {\n",
       "                             nbb_cells[i].set_text(nbb_formatted_code);\n",
       "                        }\n",
       "                        break;\n",
       "                    }\n",
       "                }\n",
       "            }, 500);\n",
       "            "
      ],
      "text/plain": [
       "<IPython.core.display.Javascript object>"
      ]
     },
     "metadata": {},
     "output_type": "display_data"
    }
   ],
   "source": [
    "import pandas as pd\n",
    "import numpy as np\n",
    "\n",
    "import matplotlib.pyplot as plt\n",
    "import seaborn as sns\n",
    "\n",
    "%matplotlib inline\n",
    "%load_ext nb_black\n",
    "\n",
    "plt.rcParams[\"figure.figsize\"] = (14, 7)"
   ]
  },
  {
   "cell_type": "code",
   "execution_count": 3,
   "id": "5aedb36b",
   "metadata": {},
   "outputs": [
    {
     "data": {
      "application/javascript": [
       "\n",
       "            setTimeout(function() {\n",
       "                var nbb_cell_id = 3;\n",
       "                var nbb_unformatted_code = \"comps = pd.read_csv(\\\"../data/Comps.csv\\\")\\nseasonality = pd.read_csv(\\\"../data/Seasonality.csv\\\")\";\n",
       "                var nbb_formatted_code = \"comps = pd.read_csv(\\\"../data/Comps.csv\\\")\\nseasonality = pd.read_csv(\\\"../data/Seasonality.csv\\\")\";\n",
       "                var nbb_cells = Jupyter.notebook.get_cells();\n",
       "                for (var i = 0; i < nbb_cells.length; ++i) {\n",
       "                    if (nbb_cells[i].input_prompt_number == nbb_cell_id) {\n",
       "                        if (nbb_cells[i].get_text() == nbb_unformatted_code) {\n",
       "                             nbb_cells[i].set_text(nbb_formatted_code);\n",
       "                        }\n",
       "                        break;\n",
       "                    }\n",
       "                }\n",
       "            }, 500);\n",
       "            "
      ],
      "text/plain": [
       "<IPython.core.display.Javascript object>"
      ]
     },
     "metadata": {},
     "output_type": "display_data"
    }
   ],
   "source": [
    "comps = pd.read_csv(\"../data/Comps.csv\")\n",
    "seasonality = pd.read_csv(\"../data/Seasonality.csv\")"
   ]
  },
  {
   "cell_type": "code",
   "execution_count": 4,
   "id": "74168608",
   "metadata": {},
   "outputs": [
    {
     "data": {
      "text/html": [
       "<div>\n",
       "<style scoped>\n",
       "    .dataframe tbody tr th:only-of-type {\n",
       "        vertical-align: middle;\n",
       "    }\n",
       "\n",
       "    .dataframe tbody tr th {\n",
       "        vertical-align: top;\n",
       "    }\n",
       "\n",
       "    .dataframe thead th {\n",
       "        text-align: right;\n",
       "    }\n",
       "</style>\n",
       "<table border=\"1\" class=\"dataframe\">\n",
       "  <thead>\n",
       "    <tr style=\"text-align: right;\">\n",
       "      <th></th>\n",
       "      <th>url</th>\n",
       "      <th>beds</th>\n",
       "      <th>bath</th>\n",
       "      <th>rabbu Occupancy</th>\n",
       "      <th>rabbu ADR</th>\n",
       "      <th>manual Occupancy</th>\n",
       "      <th>manual ADR</th>\n",
       "      <th>Notes</th>\n",
       "      <th>Location</th>\n",
       "      <th>Stars</th>\n",
       "      <th>Review</th>\n",
       "      <th>Cleaning Fee</th>\n",
       "      <th>Host</th>\n",
       "    </tr>\n",
       "  </thead>\n",
       "  <tbody>\n",
       "    <tr>\n",
       "      <th>0</th>\n",
       "      <td>https://www.airbnb.com/rooms/46038476</td>\n",
       "      <td>2</td>\n",
       "      <td>2</td>\n",
       "      <td>0.53</td>\n",
       "      <td>143</td>\n",
       "      <td>0.903226</td>\n",
       "      <td>134.0</td>\n",
       "      <td>NaN</td>\n",
       "      <td>North Bend</td>\n",
       "      <td>4.98</td>\n",
       "      <td>41</td>\n",
       "      <td>80.0</td>\n",
       "      <td>Superhost</td>\n",
       "    </tr>\n",
       "    <tr>\n",
       "      <th>1</th>\n",
       "      <td>https://www.airbnb.com/rooms/54064539</td>\n",
       "      <td>2</td>\n",
       "      <td>2</td>\n",
       "      <td>0.83</td>\n",
       "      <td>251</td>\n",
       "      <td>0.645161</td>\n",
       "      <td>245.0</td>\n",
       "      <td>Too fancy, comp won’t compare</td>\n",
       "      <td>North Bend</td>\n",
       "      <td>4.99</td>\n",
       "      <td>75</td>\n",
       "      <td>95.0</td>\n",
       "      <td>Superhost</td>\n",
       "    </tr>\n",
       "    <tr>\n",
       "      <th>2</th>\n",
       "      <td>https://www.airbnb.com/rooms/52210633</td>\n",
       "      <td>2</td>\n",
       "      <td>1</td>\n",
       "      <td>0.70</td>\n",
       "      <td>189</td>\n",
       "      <td>0.645161</td>\n",
       "      <td>189.0</td>\n",
       "      <td>No Dynamic Pricing, looks like a house, not a ...</td>\n",
       "      <td>North Bend</td>\n",
       "      <td>4.96</td>\n",
       "      <td>45</td>\n",
       "      <td>95.0</td>\n",
       "      <td>Superhost</td>\n",
       "    </tr>\n",
       "    <tr>\n",
       "      <th>3</th>\n",
       "      <td>https://www.airbnb.com/rooms/721062423659714038</td>\n",
       "      <td>2</td>\n",
       "      <td>2</td>\n",
       "      <td>0.73</td>\n",
       "      <td>387</td>\n",
       "      <td>0.580645</td>\n",
       "      <td>350.0</td>\n",
       "      <td>Fancy, Cabin Style</td>\n",
       "      <td>North Bend</td>\n",
       "      <td>4.89</td>\n",
       "      <td>19</td>\n",
       "      <td>125.0</td>\n",
       "      <td>Superhost</td>\n",
       "    </tr>\n",
       "    <tr>\n",
       "      <th>4</th>\n",
       "      <td>https://www.airbnb.com/rooms/566008910384238034</td>\n",
       "      <td>2</td>\n",
       "      <td>1</td>\n",
       "      <td>0.67</td>\n",
       "      <td>283</td>\n",
       "      <td>0.451613</td>\n",
       "      <td>281.0</td>\n",
       "      <td>Bad Photos, On River</td>\n",
       "      <td>North Bend</td>\n",
       "      <td>4.89</td>\n",
       "      <td>64</td>\n",
       "      <td>80.0</td>\n",
       "      <td>Superhost</td>\n",
       "    </tr>\n",
       "  </tbody>\n",
       "</table>\n",
       "</div>"
      ],
      "text/plain": [
       "                                               url  beds  bath  \\\n",
       "0            https://www.airbnb.com/rooms/46038476     2     2   \n",
       "1            https://www.airbnb.com/rooms/54064539     2     2   \n",
       "2            https://www.airbnb.com/rooms/52210633     2     1   \n",
       "3  https://www.airbnb.com/rooms/721062423659714038     2     2   \n",
       "4  https://www.airbnb.com/rooms/566008910384238034     2     1   \n",
       "\n",
       "   rabbu Occupancy  rabbu ADR  manual Occupancy  manual ADR  \\\n",
       "0             0.53        143          0.903226       134.0   \n",
       "1             0.83        251          0.645161       245.0   \n",
       "2             0.70        189          0.645161       189.0   \n",
       "3             0.73        387          0.580645       350.0   \n",
       "4             0.67        283          0.451613       281.0   \n",
       "\n",
       "                                               Notes    Location  Stars  \\\n",
       "0                                                NaN  North Bend   4.98   \n",
       "1                      Too fancy, comp won’t compare  North Bend   4.99   \n",
       "2  No Dynamic Pricing, looks like a house, not a ...  North Bend   4.96   \n",
       "3                                 Fancy, Cabin Style  North Bend   4.89   \n",
       "4                               Bad Photos, On River  North Bend   4.89   \n",
       "\n",
       "   Review  Cleaning Fee       Host  \n",
       "0      41          80.0  Superhost  \n",
       "1      75          95.0  Superhost  \n",
       "2      45          95.0  Superhost  \n",
       "3      19         125.0  Superhost  \n",
       "4      64          80.0  Superhost  "
      ]
     },
     "execution_count": 4,
     "metadata": {},
     "output_type": "execute_result"
    },
    {
     "data": {
      "application/javascript": [
       "\n",
       "            setTimeout(function() {\n",
       "                var nbb_cell_id = 4;\n",
       "                var nbb_unformatted_code = \"comps.head()\";\n",
       "                var nbb_formatted_code = \"comps.head()\";\n",
       "                var nbb_cells = Jupyter.notebook.get_cells();\n",
       "                for (var i = 0; i < nbb_cells.length; ++i) {\n",
       "                    if (nbb_cells[i].input_prompt_number == nbb_cell_id) {\n",
       "                        if (nbb_cells[i].get_text() == nbb_unformatted_code) {\n",
       "                             nbb_cells[i].set_text(nbb_formatted_code);\n",
       "                        }\n",
       "                        break;\n",
       "                    }\n",
       "                }\n",
       "            }, 500);\n",
       "            "
      ],
      "text/plain": [
       "<IPython.core.display.Javascript object>"
      ]
     },
     "metadata": {},
     "output_type": "display_data"
    }
   ],
   "source": [
    "comps.head()"
   ]
  },
  {
   "cell_type": "code",
   "execution_count": 7,
   "id": "d6b56303",
   "metadata": {},
   "outputs": [
    {
     "data": {
      "text/plain": [
       "array([4.798, 4.888, 4.95 , 4.986])"
      ]
     },
     "execution_count": 7,
     "metadata": {},
     "output_type": "execute_result"
    },
    {
     "data": {
      "application/javascript": [
       "\n",
       "            setTimeout(function() {\n",
       "                var nbb_cell_id = 7;\n",
       "                var nbb_unformatted_code = \"np.quantile(comps.Stars[comps.Review > 10], q=[0.2, 0.4, 0.6, 0.8])\";\n",
       "                var nbb_formatted_code = \"np.quantile(comps.Stars[comps.Review > 10], q=[0.2, 0.4, 0.6, 0.8])\";\n",
       "                var nbb_cells = Jupyter.notebook.get_cells();\n",
       "                for (var i = 0; i < nbb_cells.length; ++i) {\n",
       "                    if (nbb_cells[i].input_prompt_number == nbb_cell_id) {\n",
       "                        if (nbb_cells[i].get_text() == nbb_unformatted_code) {\n",
       "                             nbb_cells[i].set_text(nbb_formatted_code);\n",
       "                        }\n",
       "                        break;\n",
       "                    }\n",
       "                }\n",
       "            }, 500);\n",
       "            "
      ],
      "text/plain": [
       "<IPython.core.display.Javascript object>"
      ]
     },
     "metadata": {},
     "output_type": "display_data"
    }
   ],
   "source": [
    "np.quantile(comps.Stars[comps.Review > 10], q=[0.2, 0.4, 0.6, 0.8])"
   ]
  },
  {
   "cell_type": "code",
   "execution_count": 44,
   "id": "6d800cf5",
   "metadata": {},
   "outputs": [
    {
     "data": {
      "text/plain": [
       "<AxesSubplot: xlabel='Stars', ylabel='Count'>"
      ]
     },
     "execution_count": 44,
     "metadata": {},
     "output_type": "execute_result"
    },
    {
     "data": {
      "image/png": "[encoded data removed]",
      "text/plain": [
       "<Figure size 1008x504 with 1 Axes>"
      ]
     },
     "metadata": {
      "needs_background": "light"
     },
     "output_type": "display_data"
    },
    {
     "data": {
      "application/javascript": [
       "\n",
       "            setTimeout(function() {\n",
       "                var nbb_cell_id = 44;\n",
       "                var nbb_unformatted_code = \"sns.histplot(comps.Stars, bins=20)\";\n",
       "                var nbb_formatted_code = \"sns.histplot(comps.Stars, bins=20)\";\n",
       "                var nbb_cells = Jupyter.notebook.get_cells();\n",
       "                for (var i = 0; i < nbb_cells.length; ++i) {\n",
       "                    if (nbb_cells[i].input_prompt_number == nbb_cell_id) {\n",
       "                        if (nbb_cells[i].get_text() == nbb_unformatted_code) {\n",
       "                             nbb_cells[i].set_text(nbb_formatted_code);\n",
       "                        }\n",
       "                        break;\n",
       "                    }\n",
       "                }\n",
       "            }, 500);\n",
       "            "
      ],
      "text/plain": [
       "<IPython.core.display.Javascript object>"
      ]
     },
     "metadata": {},
     "output_type": "display_data"
    }
   ],
   "source": [
    "sns.histplot(comps.Stars, bins=20)"
   ]
  },
  {
   "cell_type": "code",
   "execution_count": 45,
   "id": "4f72762b",
   "metadata": {},
   "outputs": [
    {
     "data": {
      "image/png": "[encoded data removed]",
      "text/plain": [
       "<Figure size 1008x504 with 1 Axes>"
      ]
     },
     "metadata": {
      "needs_background": "light"
     },
     "output_type": "display_data"
    },
    {
     "data": {
      "application/javascript": [
       "\n",
       "            setTimeout(function() {\n",
       "                var nbb_cell_id = 45;\n",
       "                var nbb_unformatted_code = \"adr_vs_ocp = sns.scatterplot(data=comps, x=\\\"manual Occupancy\\\", y=\\\"manual ADR\\\", hue=\\\"Host\\\")\";\n",
       "                var nbb_formatted_code = \"adr_vs_ocp = sns.scatterplot(\\n    data=comps, x=\\\"manual Occupancy\\\", y=\\\"manual ADR\\\", hue=\\\"Host\\\"\\n)\";\n",
       "                var nbb_cells = Jupyter.notebook.get_cells();\n",
       "                for (var i = 0; i < nbb_cells.length; ++i) {\n",
       "                    if (nbb_cells[i].input_prompt_number == nbb_cell_id) {\n",
       "                        if (nbb_cells[i].get_text() == nbb_unformatted_code) {\n",
       "                             nbb_cells[i].set_text(nbb_formatted_code);\n",
       "                        }\n",
       "                        break;\n",
       "                    }\n",
       "                }\n",
       "            }, 500);\n",
       "            "
      ],
      "text/plain": [
       "<IPython.core.display.Javascript object>"
      ]
     },
     "metadata": {},
     "output_type": "display_data"
    }
   ],
   "source": [
    "adr_vs_ocp = sns.scatterplot(\n",
    "    data=comps, x=\"manual Occupancy\", y=\"manual ADR\", hue=\"Host\"\n",
    ")"
   ]
  },
  {
   "cell_type": "code",
   "execution_count": 22,
   "id": "3dcd40bf",
   "metadata": {},
   "outputs": [
    {
     "data": {
      "text/plain": [
       "Host\n",
       "Corporate    12\n",
       "Regular      10\n",
       "Superhost    29\n",
       "Name: Stars, dtype: int64"
      ]
     },
     "execution_count": 22,
     "metadata": {},
     "output_type": "execute_result"
    },
    {
     "data": {
      "application/javascript": [
       "\n",
       "            setTimeout(function() {\n",
       "                var nbb_cell_id = 22;\n",
       "                var nbb_unformatted_code = \"comps.groupby([\\\"Host\\\"])['Stars'].count()\";\n",
       "                var nbb_formatted_code = \"comps.groupby([\\\"Host\\\"])[\\\"Stars\\\"].count()\";\n",
       "                var nbb_cells = Jupyter.notebook.get_cells();\n",
       "                for (var i = 0; i < nbb_cells.length; ++i) {\n",
       "                    if (nbb_cells[i].input_prompt_number == nbb_cell_id) {\n",
       "                        if (nbb_cells[i].get_text() == nbb_unformatted_code) {\n",
       "                             nbb_cells[i].set_text(nbb_formatted_code);\n",
       "                        }\n",
       "                        break;\n",
       "                    }\n",
       "                }\n",
       "            }, 500);\n",
       "            "
      ],
      "text/plain": [
       "<IPython.core.display.Javascript object>"
      ]
     },
     "metadata": {},
     "output_type": "display_data"
    }
   ],
   "source": [
    "comps.groupby([\"Host\"])[\"Stars\"].count()"
   ]
  },
  {
   "cell_type": "code",
   "execution_count": 42,
   "id": "667c5e90",
   "metadata": {},
   "outputs": [
    {
     "data": {
      "text/html": [
       "<div>\n",
       "<style scoped>\n",
       "    .dataframe tbody tr th:only-of-type {\n",
       "        vertical-align: middle;\n",
       "    }\n",
       "\n",
       "    .dataframe tbody tr th {\n",
       "        vertical-align: top;\n",
       "    }\n",
       "\n",
       "    .dataframe thead th {\n",
       "        text-align: right;\n",
       "    }\n",
       "</style>\n",
       "<table border=\"1\" class=\"dataframe\">\n",
       "  <thead>\n",
       "    <tr style=\"text-align: right;\">\n",
       "      <th></th>\n",
       "      <th>manual ADR</th>\n",
       "      <th>manual Occupancy</th>\n",
       "      <th>host_Corporate</th>\n",
       "      <th>host_Superhost</th>\n",
       "    </tr>\n",
       "  </thead>\n",
       "  <tbody>\n",
       "    <tr>\n",
       "      <th>0</th>\n",
       "      <td>134.0</td>\n",
       "      <td>0.903226</td>\n",
       "      <td>0</td>\n",
       "      <td>1</td>\n",
       "    </tr>\n",
       "    <tr>\n",
       "      <th>1</th>\n",
       "      <td>245.0</td>\n",
       "      <td>0.645161</td>\n",
       "      <td>0</td>\n",
       "      <td>1</td>\n",
       "    </tr>\n",
       "    <tr>\n",
       "      <th>2</th>\n",
       "      <td>189.0</td>\n",
       "      <td>0.645161</td>\n",
       "      <td>0</td>\n",
       "      <td>1</td>\n",
       "    </tr>\n",
       "    <tr>\n",
       "      <th>3</th>\n",
       "      <td>350.0</td>\n",
       "      <td>0.580645</td>\n",
       "      <td>0</td>\n",
       "      <td>1</td>\n",
       "    </tr>\n",
       "    <tr>\n",
       "      <th>4</th>\n",
       "      <td>281.0</td>\n",
       "      <td>0.451613</td>\n",
       "      <td>0</td>\n",
       "      <td>1</td>\n",
       "    </tr>\n",
       "  </tbody>\n",
       "</table>\n",
       "</div>"
      ],
      "text/plain": [
       "   manual ADR  manual Occupancy  host_Corporate  host_Superhost\n",
       "0       134.0          0.903226               0               1\n",
       "1       245.0          0.645161               0               1\n",
       "2       189.0          0.645161               0               1\n",
       "3       350.0          0.580645               0               1\n",
       "4       281.0          0.451613               0               1"
      ]
     },
     "execution_count": 42,
     "metadata": {},
     "output_type": "execute_result"
    },
    {
     "data": {
      "application/javascript": [
       "\n",
       "            setTimeout(function() {\n",
       "                var nbb_cell_id = 42;\n",
       "                var nbb_unformatted_code = \"mod_data = comps[[\\\"manual ADR\\\", \\\"manual Occupancy\\\", \\\"Host\\\"]].copy()\\nmod_data = mod_data[mod_data[\\\"manual ADR\\\"] <= 500]\\nmod_data = pd.get_dummies(data=mod_data, prefix=\\\"host\\\", columns=[\\\"Host\\\"])\\nmod_data.drop(columns=[\\\"host_Regular\\\"], inplace=True)\\nmod_data.head()\";\n",
       "                var nbb_formatted_code = \"mod_data = comps[[\\\"manual ADR\\\", \\\"manual Occupancy\\\", \\\"Host\\\"]].copy()\\nmod_data = mod_data[mod_data[\\\"manual ADR\\\"] <= 500]\\nmod_data = pd.get_dummies(data=mod_data, prefix=\\\"host\\\", columns=[\\\"Host\\\"])\\nmod_data.drop(columns=[\\\"host_Regular\\\"], inplace=True)\\nmod_data.head()\";\n",
       "                var nbb_cells = Jupyter.notebook.get_cells();\n",
       "                for (var i = 0; i < nbb_cells.length; ++i) {\n",
       "                    if (nbb_cells[i].input_prompt_number == nbb_cell_id) {\n",
       "                        if (nbb_cells[i].get_text() == nbb_unformatted_code) {\n",
       "                             nbb_cells[i].set_text(nbb_formatted_code);\n",
       "                        }\n",
       "                        break;\n",
       "                    }\n",
       "                }\n",
       "            }, 500);\n",
       "            "
      ],
      "text/plain": [
       "<IPython.core.display.Javascript object>"
      ]
     },
     "metadata": {},
     "output_type": "display_data"
    }
   ],
   "source": [
    "mod_data = comps[[\"manual ADR\", \"manual Occupancy\", \"Host\"]].copy()\n",
    "mod_data = mod_data[mod_data[\"manual ADR\"] <= 500]\n",
    "mod_data = pd.get_dummies(data=mod_data, prefix=\"host\", columns=[\"Host\"])\n",
    "mod_data.drop(columns=[\"host_Regular\"], inplace=True)\n",
    "mod_data.head()"
   ]
  },
  {
   "cell_type": "code",
   "execution_count": 23,
   "id": "70760c01",
   "metadata": {},
   "outputs": [
    {
     "data": {
      "application/javascript": [
       "\n",
       "            setTimeout(function() {\n",
       "                var nbb_cell_id = 23;\n",
       "                var nbb_unformatted_code = \"from sklearn.linear_model import LinearRegression\";\n",
       "                var nbb_formatted_code = \"from sklearn.linear_model import LinearRegression\";\n",
       "                var nbb_cells = Jupyter.notebook.get_cells();\n",
       "                for (var i = 0; i < nbb_cells.length; ++i) {\n",
       "                    if (nbb_cells[i].input_prompt_number == nbb_cell_id) {\n",
       "                        if (nbb_cells[i].get_text() == nbb_unformatted_code) {\n",
       "                             nbb_cells[i].set_text(nbb_formatted_code);\n",
       "                        }\n",
       "                        break;\n",
       "                    }\n",
       "                }\n",
       "            }, 500);\n",
       "            "
      ],
      "text/plain": [
       "<IPython.core.display.Javascript object>"
      ]
     },
     "metadata": {},
     "output_type": "display_data"
    }
   ],
   "source": [
    "from sklearn.linear_model import LinearRegression"
   ]
  },
  {
   "cell_type": "code",
   "execution_count": 31,
   "id": "87d20f38",
   "metadata": {},
   "outputs": [
    {
     "data": {
      "text/plain": [
       "(49, 1)"
      ]
     },
     "execution_count": 31,
     "metadata": {},
     "output_type": "execute_result"
    },
    {
     "data": {
      "application/javascript": [
       "\n",
       "            setTimeout(function() {\n",
       "                var nbb_cell_id = 31;\n",
       "                var nbb_unformatted_code = \"mod_data[[\\\"manual Occupancy\\\"]].to_numpy().shape\";\n",
       "                var nbb_formatted_code = \"mod_data[[\\\"manual Occupancy\\\"]].to_numpy().shape\";\n",
       "                var nbb_cells = Jupyter.notebook.get_cells();\n",
       "                for (var i = 0; i < nbb_cells.length; ++i) {\n",
       "                    if (nbb_cells[i].input_prompt_number == nbb_cell_id) {\n",
       "                        if (nbb_cells[i].get_text() == nbb_unformatted_code) {\n",
       "                             nbb_cells[i].set_text(nbb_formatted_code);\n",
       "                        }\n",
       "                        break;\n",
       "                    }\n",
       "                }\n",
       "            }, 500);\n",
       "            "
      ],
      "text/plain": [
       "<IPython.core.display.Javascript object>"
      ]
     },
     "metadata": {},
     "output_type": "display_data"
    }
   ],
   "source": [
    "mod_data[[\"manual Occupancy\"]].to_numpy().shape"
   ]
  },
  {
   "cell_type": "code",
   "execution_count": 39,
   "id": "4fd56f4e",
   "metadata": {},
   "outputs": [
    {
     "data": {
      "text/plain": [
       "(49, 1)"
      ]
     },
     "execution_count": 39,
     "metadata": {},
     "output_type": "execute_result"
    },
    {
     "data": {
      "application/javascript": [
       "\n",
       "            setTimeout(function() {\n",
       "                var nbb_cell_id = 39;\n",
       "                var nbb_unformatted_code = \"mod_data[[\\\"manual Occupancy\\\"]].to_numpy().reshape(-1, 1).shape\";\n",
       "                var nbb_formatted_code = \"mod_data[[\\\"manual Occupancy\\\"]].to_numpy().reshape(-1, 1).shape\";\n",
       "                var nbb_cells = Jupyter.notebook.get_cells();\n",
       "                for (var i = 0; i < nbb_cells.length; ++i) {\n",
       "                    if (nbb_cells[i].input_prompt_number == nbb_cell_id) {\n",
       "                        if (nbb_cells[i].get_text() == nbb_unformatted_code) {\n",
       "                             nbb_cells[i].set_text(nbb_formatted_code);\n",
       "                        }\n",
       "                        break;\n",
       "                    }\n",
       "                }\n",
       "            }, 500);\n",
       "            "
      ],
      "text/plain": [
       "<IPython.core.display.Javascript object>"
      ]
     },
     "metadata": {},
     "output_type": "display_data"
    }
   ],
   "source": [
    "mod_data[[\"manual Occupancy\"]].to_numpy().reshape(-1, 1).shape"
   ]
  },
  {
   "cell_type": "code",
   "execution_count": 41,
   "id": "840f23f2",
   "metadata": {},
   "outputs": [
    {
     "data": {
      "text/plain": [
       "array([[-144.26204633]])"
      ]
     },
     "execution_count": 41,
     "metadata": {},
     "output_type": "execute_result"
    },
    {
     "data": {
      "application/javascript": [
       "\n",
       "            setTimeout(function() {\n",
       "                var nbb_cell_id = 41;\n",
       "                var nbb_unformatted_code = \"lr_mod = LinearRegression()\\nlr_mod.fit(\\n    X=mod_data[\\\"manual Occupancy\\\"].to_numpy().reshape(-1, 1), y=mod_data[[\\\"manual ADR\\\"]]\\n)\\nlr_mod.coef_\";\n",
       "                var nbb_formatted_code = \"lr_mod = LinearRegression()\\nlr_mod.fit(\\n    X=mod_data[\\\"manual Occupancy\\\"].to_numpy().reshape(-1, 1), y=mod_data[[\\\"manual ADR\\\"]]\\n)\\nlr_mod.coef_\";\n",
       "                var nbb_cells = Jupyter.notebook.get_cells();\n",
       "                for (var i = 0; i < nbb_cells.length; ++i) {\n",
       "                    if (nbb_cells[i].input_prompt_number == nbb_cell_id) {\n",
       "                        if (nbb_cells[i].get_text() == nbb_unformatted_code) {\n",
       "                             nbb_cells[i].set_text(nbb_formatted_code);\n",
       "                        }\n",
       "                        break;\n",
       "                    }\n",
       "                }\n",
       "            }, 500);\n",
       "            "
      ],
      "text/plain": [
       "<IPython.core.display.Javascript object>"
      ]
     },
     "metadata": {},
     "output_type": "display_data"
    }
   ],
   "source": [
    "lr_mod = LinearRegression()\n",
    "lr_mod.fit(\n",
    "    X=mod_data[\"manual Occupancy\"].to_numpy().reshape(-1, 1), y=mod_data[[\"manual ADR\"]]\n",
    ")\n",
    "lr_mod.coef_"
   ]
  },
  {
   "cell_type": "code",
   "execution_count": 58,
   "id": "78f57f03",
   "metadata": {},
   "outputs": [
    {
     "data": {
      "text/plain": [
       "317.76706624451714"
      ]
     },
     "execution_count": 58,
     "metadata": {},
     "output_type": "execute_result"
    },
    {
     "data": {
      "application/javascript": [
       "\n",
       "            setTimeout(function() {\n",
       "                var nbb_cell_id = 58;\n",
       "                var nbb_unformatted_code = \"lr_mod.intercept_[0]\";\n",
       "                var nbb_formatted_code = \"lr_mod.intercept_[0]\";\n",
       "                var nbb_cells = Jupyter.notebook.get_cells();\n",
       "                for (var i = 0; i < nbb_cells.length; ++i) {\n",
       "                    if (nbb_cells[i].input_prompt_number == nbb_cell_id) {\n",
       "                        if (nbb_cells[i].get_text() == nbb_unformatted_code) {\n",
       "                             nbb_cells[i].set_text(nbb_formatted_code);\n",
       "                        }\n",
       "                        break;\n",
       "                    }\n",
       "                }\n",
       "            }, 500);\n",
       "            "
      ],
      "text/plain": [
       "<IPython.core.display.Javascript object>"
      ]
     },
     "metadata": {},
     "output_type": "display_data"
    }
   ],
   "source": [
    "lr_mod.intercept_[0]"
   ]
  },
  {
   "cell_type": "code",
   "execution_count": 59,
   "id": "4afd1a3e",
   "metadata": {},
   "outputs": [
    {
     "data": {
      "image/png": "[encoded data removed]",
      "text/plain": [
       "<Figure size 1008x504 with 1 Axes>"
      ]
     },
     "metadata": {
      "needs_background": "light"
     },
     "output_type": "display_data"
    },
    {
     "data": {
      "application/javascript": [
       "\n",
       "            setTimeout(function() {\n",
       "                var nbb_cell_id = 59;\n",
       "                var nbb_unformatted_code = \"adr_vs_ocp = sns.scatterplot(\\n    data=comps, x=\\\"manual Occupancy\\\", y=\\\"manual ADR\\\", hue=\\\"Host\\\"\\n)\\n\\noccupancy_grid = np.linspace(0, 1, num=100)\\nadr_grid = [lr_mod.intercept_[0] + lr_mod.coef_[0] * op for op in occupancy_grid]\\nplt.plot(occupancy_grid, adr_grid)\\nplt.show()\";\n",
       "                var nbb_formatted_code = \"adr_vs_ocp = sns.scatterplot(\\n    data=comps, x=\\\"manual Occupancy\\\", y=\\\"manual ADR\\\", hue=\\\"Host\\\"\\n)\\n\\noccupancy_grid = np.linspace(0, 1, num=100)\\nadr_grid = [lr_mod.intercept_[0] + lr_mod.coef_[0] * op for op in occupancy_grid]\\nplt.plot(occupancy_grid, adr_grid)\\nplt.show()\";\n",
       "                var nbb_cells = Jupyter.notebook.get_cells();\n",
       "                for (var i = 0; i < nbb_cells.length; ++i) {\n",
       "                    if (nbb_cells[i].input_prompt_number == nbb_cell_id) {\n",
       "                        if (nbb_cells[i].get_text() == nbb_unformatted_code) {\n",
       "                             nbb_cells[i].set_text(nbb_formatted_code);\n",
       "                        }\n",
       "                        break;\n",
       "                    }\n",
       "                }\n",
       "            }, 500);\n",
       "            "
      ],
      "text/plain": [
       "<IPython.core.display.Javascript object>"
      ]
     },
     "metadata": {},
     "output_type": "display_data"
    }
   ],
   "source": [
    "adr_vs_ocp = sns.scatterplot(\n",
    "    data=comps, x=\"manual Occupancy\", y=\"manual ADR\", hue=\"Host\"\n",
    ")\n",
    "\n",
    "occupancy_grid = np.linspace(0, 1, num=100)\n",
    "adr_grid = [lr_mod.intercept_[0] + lr_mod.coef_[0] * op for op in occupancy_grid]\n",
    "plt.plot(occupancy_grid, adr_grid)\n",
    "plt.show()"
   ]
  },
  {
   "cell_type": "code",
   "execution_count": 66,
   "id": "afa04a08",
   "metadata": {},
   "outputs": [
    {
     "data": {
      "application/javascript": [
       "\n",
       "            setTimeout(function() {\n",
       "                var nbb_cell_id = 66;\n",
       "                var nbb_unformatted_code = \"adr_grid = np.ndarray.flatten(np.array(adr_grid))\";\n",
       "                var nbb_formatted_code = \"adr_grid = np.ndarray.flatten(np.array(adr_grid))\";\n",
       "                var nbb_cells = Jupyter.notebook.get_cells();\n",
       "                for (var i = 0; i < nbb_cells.length; ++i) {\n",
       "                    if (nbb_cells[i].input_prompt_number == nbb_cell_id) {\n",
       "                        if (nbb_cells[i].get_text() == nbb_unformatted_code) {\n",
       "                             nbb_cells[i].set_text(nbb_formatted_code);\n",
       "                        }\n",
       "                        break;\n",
       "                    }\n",
       "                }\n",
       "            }, 500);\n",
       "            "
      ],
      "text/plain": [
       "<IPython.core.display.Javascript object>"
      ]
     },
     "metadata": {},
     "output_type": "display_data"
    }
   ],
   "source": [
    "adr_grid = np.ndarray.flatten(np.array(adr_grid))"
   ]
  },
  {
   "cell_type": "code",
   "execution_count": 68,
   "id": "480c1dae",
   "metadata": {},
   "outputs": [
    {
     "data": {
      "text/plain": [
       "array([  0.        ,   3.19504923,   6.36066023,   9.496833  ,\n",
       "        12.60356754,  15.68086385,  18.72872193,  21.74714179,\n",
       "        24.73612341,  27.6956668 ,  30.62577196,  33.52643889,\n",
       "        36.39766759,  39.23945806,  42.0518103 ,  44.83472431,\n",
       "        47.58820009,  50.31223764,  53.00683696,  55.67199805,\n",
       "        58.30772091,  60.91400554,  63.49085194,  66.03826011,\n",
       "        68.55623005,  71.04476176,  73.50385524,  75.93351049,\n",
       "        78.33372751,  80.7045063 ,  83.04584686,  85.35774919,\n",
       "        87.64021329,  89.89323916,  92.1168268 ,  94.31097621,\n",
       "        96.47568738,  98.61096033, 100.71679505, 102.79319154,\n",
       "       104.8401498 , 106.85766983, 108.84575163, 110.8043952 ,\n",
       "       112.73360054, 114.63336765, 116.50369653, 118.34458717,\n",
       "       120.15603959, 121.93805378, 123.69062974, 125.41376747,\n",
       "       127.10746697, 128.77172824, 130.40655128, 132.01193608,\n",
       "       133.58788266, 135.13439101, 136.65146113, 138.13909302,\n",
       "       139.59728668, 141.0260421 , 142.4253593 , 143.79523827,\n",
       "       145.13567901, 146.44668152, 147.7282458 , 148.98037184,\n",
       "       150.20305966, 151.39630925, 152.56012061, 153.69449373,\n",
       "       154.79942863, 155.8749253 , 156.92098374, 157.93760395,\n",
       "       158.92478592, 159.88252967, 160.81083519, 161.70970248,\n",
       "       162.57913153, 163.41912236, 164.22967496, 165.01078933,\n",
       "       165.76246546, 166.48470337, 167.17750305, 167.84086449,\n",
       "       168.47478771, 169.0792727 , 169.65431946, 170.19992798,\n",
       "       170.71609828, 171.20283035, 171.66012418, 172.08797979,\n",
       "       172.48639717, 172.85537631, 173.19491723, 173.50501992])"
      ]
     },
     "execution_count": 68,
     "metadata": {},
     "output_type": "execute_result"
    },
    {
     "data": {
      "application/javascript": [
       "\n",
       "            setTimeout(function() {\n",
       "                var nbb_cell_id = 68;\n",
       "                var nbb_unformatted_code = \"occupancy_grid * adr_grid\";\n",
       "                var nbb_formatted_code = \"occupancy_grid * adr_grid\";\n",
       "                var nbb_cells = Jupyter.notebook.get_cells();\n",
       "                for (var i = 0; i < nbb_cells.length; ++i) {\n",
       "                    if (nbb_cells[i].input_prompt_number == nbb_cell_id) {\n",
       "                        if (nbb_cells[i].get_text() == nbb_unformatted_code) {\n",
       "                             nbb_cells[i].set_text(nbb_formatted_code);\n",
       "                        }\n",
       "                        break;\n",
       "                    }\n",
       "                }\n",
       "            }, 500);\n",
       "            "
      ],
      "text/plain": [
       "<IPython.core.display.Javascript object>"
      ]
     },
     "metadata": {},
     "output_type": "display_data"
    }
   ],
   "source": [
    "occupancy_grid * adr_grid"
   ]
  },
  {
   "cell_type": "code",
   "execution_count": null,
   "id": "75e021e3",
   "metadata": {},
   "outputs": [],
   "source": []
  }
 ],
 "metadata": {
  "kernelspec": {
   "display_name": "Python 3",
   "language": "python",
   "name": "python3"
  },
  "language_info": {
   "codemirror_mode": {
    "name": "ipython",
    "version": 3
   },
   "file_extension": ".py",
   "mimetype": "text/x-python",
   "name": "python",
   "nbconvert_exporter": "python",
   "pygments_lexer": "ipython3",
   "version": "3.10.6"
  }
 },
 "nbformat": 4,
 "nbformat_minor": 5
}
